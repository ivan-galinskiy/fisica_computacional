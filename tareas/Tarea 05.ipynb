{
 "cells": [
  {
   "cell_type": "markdown",
   "metadata": {},
   "source": [
    "# Tarea 5"
   ]
  },
  {
   "cell_type": "markdown",
   "metadata": {},
   "source": [
    "### Fecha *límite* de entrega: **lunes 28 de septiembre a las 15:00**"
   ]
  },
  {
   "cell_type": "markdown",
   "metadata": {},
   "source": [
    "[1]\n",
    "(i) Considera el método de Newton para funciones $f: \\mathbb{C} \\to \\mathbb{C}$ de los *complejos* $z$. \n",
    "Impleméntalo para estas funciones. ¿Cómo tomas en cuenta el hecho de que los números sean complejos en Julia?\n",
    "\n",
    "(ii) Considera la función particular $f: z \\mapsto z^3 -1$.  Resulta que para algunos valores de $z$, el método de Newton *no converge*; por lo tanto, debes asegúrate de  salir de la función después de un número máximo de iterados.\n",
    "\n",
    "(iii) Genera una matriz que contiene el resultado de aplicar el método de Newton a esta función $f$ para cada número complejo en una región cuadrada alrededor de $z=0$ del plano complejo. Los resultados son los números complejos a los cuales converge el método. (¿Cuáles deberían ser? ¿Es cierto?)\n",
    "\n",
    "(iv) Usa la función gráfica `imshow` para graficar el resultado: `imshow` dibuja una matriz como pixeles coloreados, en los cuales los colores utilizados corresponden a los valores almacenados en las entradas correspondientes de la matriz. ¿Qué ves? ¿Cuál es la interpretación?\n",
    "\n",
    "** (v) Extender esto a otras funciones interesantes. Utiliza `Interact.jl`. ¿Qué concluyes en general?\n"
   ]
  },
  {
   "cell_type": "markdown",
   "metadata": {},
   "source": [
    "[2] Como vimos en el notebook 11, para llevar a cabo una integración numérica, resulta útil el *interpolar* una función, es decir, ajustar una función de un tipo dado para que pase por unos datos. También vimos que no es evidente cómo ajustar, por ejemplo, una cuadrática a tres puntos.\n",
    "\n",
    "Una manera de hacer esto es con el siguiente método (\"interpolación de Lagrange\").\n",
    "\n",
    "Pensemos en un conjunto de datos con coordenadas $x_i$, con valores $y_i$, para $i=1, \\ldots, n$, que queremos interpolar con una función $L(x)$, tal que $f(x_i) = f_i$ para cada $i$.\n",
    "\n",
    "(i) Para $n = 2$, encuentra el polinomio más sencillo $f_1(x)$ de $x$ que da $0$ para $x=x_2$. [Pista: ¡es realmente sencillo!] Normalízala para que también dé $1$ cuando $x=x_1$. Encuentra una función $f_2(x)$ al revés, que da $0$ para $x=x_1$ y $1$ para $x=x_2$.\n",
    "\n",
    "(ii) Así, construye un polinomio (en este caso, una función *lineal* de $x$) que interpola entre los dos puntos.\n",
    "\n",
    "(iii) Escribe una función de Julia que evalúa este polinomio. \n",
    "\n",
    "(iv) Toma la función $\\sin(x)$ y toma una malla en $x$. Dibuja la función original y la función interpolada entre cada par de nodos consecutivos de la malla.\n",
    "\n",
    "(v) Integra la función interpolada y así encuentra una fórmula, en términos de las $x_i$ y las $y_i$, para la integral de una función $f\n",
    "\n",
    "(vi) Encuentra numéricamente la tasa de convergencia de esta aproximación a la integral cuando el tamaño de las celdas $x_{i+1}-x_i = h$ va a cero."
   ]
  },
  {
   "cell_type": "markdown",
   "metadata": {},
   "source": [
    "[3] Haz lo mismo con un polinomio de segundo grado (cuadrático) que interpole tres puntos, siguiendo la misma esquema:\n",
    "\n",
    "(i) Encuentra una función $f_1(x)$ que dé $1$ en $x_1$, y $0$ en $x_2$ *Y* en $x_3$, etc, y así una función cuadrática que interpole 3 puntos.\n",
    "\n",
    "(ii) Dibuja la función $\\sin(x)$, la aproximación con polinomios de primer grado, y la aproximación con polinomios de segundo grado en la misma gráfica.\n",
    "\n",
    "(iii) Integra la función resultante, y así da una aproximación nueva para una función dada en términos de los valores $y_i$.\n",
    "\n",
    "(iv) Encuentra numéricamente la tasa de convergencia de este método cuando el tamaño de las celdas va a cero."
   ]
  }
 ],
 "metadata": {
  "kernelspec": {
   "display_name": "Julia 0.3.12-pre",
   "language": "julia",
   "name": "julia-0.3"
  },
  "language_info": {
   "file_extension": ".jl",
   "mimetype": "application/julia",
   "name": "julia",
   "version": "0.3.12"
  }
 },
 "nbformat": 4,
 "nbformat_minor": 0
}
