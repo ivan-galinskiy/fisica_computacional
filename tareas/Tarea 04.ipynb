{
 "cells": [
  {
   "cell_type": "markdown",
   "metadata": {},
   "source": [
    "# Tarea 04\n",
    "\n",
    "## Para entregarse a más tardar el lunes 14 de septiembre de 2015 a las 15:00 horas"
   ]
  },
  {
   "cell_type": "markdown",
   "metadata": {},
   "source": [
    "[1] Mandar una versión limpia del examen 1, en el cual sacas 10.\n",
    "\n",
    "[2] Terminar todos los notebooks hasta el 09 y tener claras las ideas de funciones, recursión, iteración, y graficación. (Si tienes alguna duda, ¡pregunta!)"
   ]
  }
 ],
 "metadata": {
  "kernelspec": {
   "display_name": "Julia 0.3.11-pre",
   "language": "julia",
   "name": "julia-0.3"
  },
  "language_info": {
   "name": "julia",
   "version": "0.3.12"
  }
 },
 "nbformat": 4,
 "nbformat_minor": 0
}
