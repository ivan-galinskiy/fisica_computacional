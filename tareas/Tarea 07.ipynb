{
 "cells": [
  {
   "cell_type": "markdown",
   "metadata": {},
   "source": [
    "# Tarea 7"
   ]
  },
  {
   "cell_type": "markdown",
   "metadata": {},
   "source": [
    "### Fecha *límite* de entrega: **miércoles 14 de octubre de 2015**"
   ]
  },
  {
   "cell_type": "markdown",
   "metadata": {},
   "source": [
    "Resuelve los siguientes problemas usando un método adecuado."
   ]
  },
  {
   "cell_type": "markdown",
   "metadata": {},
   "source": [
    "**1. El gato y el ratón**\n",
    "\n",
    "Un gato, con posición es $\\vec{r}_{G}$ y\n",
    "velocidad $\\vec{v}_{G}$, persigue a un ratón, con posición $\\vec{r}_{R}$ y velocidad  $\\vec{v}_{R}$. El gato corre directamente hacia\n",
    "el ratón y, por lo tanto, su velocidad está dada por\n",
    "\n",
    "$$\\frac{\\vec{v}_{G}(t)}{v_{G}(t)} \n",
    "=\\frac{\\vec{r}_{R}(t) - \\vec{r}_{G}(t)} {\\| \\vec{r}_{R}(t) - \\vec{r}_{G}(t) \\|}$$\n",
    "\n",
    "Dada la trayectoria del ratón y la rapidez del gato, ¿qué\n",
    "camino sigue este último? Consideraremos dos casos, en los cuales la\n",
    "rapidez de ambos es constante.\n",
    "\n",
    "\n",
    "1. Inicialmente el ratón está en el origen del sistema de\n",
    "  coordenadas y el gato está en un punto $(x_{0},y_{0})$. El ratón\n",
    "  corre a lo largo del eje $x$ y el gato lo persigue. Muestra que el\n",
    "  gato atrapa al ratón si $v_{G} > v_{R}$, mientras que si corren con\n",
    "  la misma rapidez nunca lo atrapa.\n",
    "\n",
    "2. Inicialmente el ratón está en el perímetro de un círculo, en\n",
    "  cuyo centro está el gato. El ratón corre sobre el perímetro del\n",
    "  círculo con rapidez $v_{R}$ y el gato lo persigue. Muestra que si $v_{G} \\geq\n",
    "  v_{R}$, el gato atrapará al ratón.\n",
    "\n",
    "En cada caso, dibuja en una sola gráfica la trayectoria que sigue cada uno para tres valores de la rapidez del gato y una rapidez fija del ratón."
   ]
  },
  {
   "cell_type": "markdown",
   "metadata": {},
   "source": [
    "**2. Una carrera singular**\n",
    "\n",
    "Dos bloques de masa $m_1$ y $m_2$ están unidos por una cuerda sin masa mediante una polea sin masa. El bloque 1 se mueve sobre una mesa de aerohockey, sin fricción. El bloque 2 se mueve como un péndulo, tal que la longitud de su cuerda cambia con el tiempo. Sus posiciones iniciales y el diagrama de cuerpo libre al tiempo $t$ se muestran a continuación:\n",
    "\n",
    "|![diagrama](tarea07_figuras/conf_inicial.png)|![diagrama](tarea07_figuras/cuerpo_libre.png)|\n",
    "|:---:|:---:|\n",
    "|Configuración inicial|Diagrama de cuerpo libre|\n",
    "\n",
    "A partir de la configuración inicial se tiene la restricción\n",
    "\n",
    "$$\n",
    "-x(t) + r(t) = 2d.\n",
    "$$\n",
    "\n",
    "Las ecuaciones de movimiento del bloque 2 son:\n",
    "\n",
    "$$\n",
    "\\begin{array}{l}\n",
    "\\ddot{r} = \\frac{m_2}{m_1 + m_2}(r\\dot{\\theta}^2 + g\\cos\\theta)\\\\\n",
    "\\ddot{\\theta} = -\\frac{1}{r}(2\\dot{r}\\dot{\\theta} + g\\sin\\theta)\n",
    "\\end{array}\n",
    "$$\n",
    "\n",
    "Algo muy importante de lo que no hemos hablado en clase es el adimensionalizar las ecuaciones de movimiento. Esto es útil para la solución numérica, porque resulta en un reescalamiento de las variables físicas como tiempo, distancia, masa, carga, etc. a cantidades $\\mathcal{O}(1)$. Por ejemplo, si normalizamos la masa en términos de la masa del electrón $m_e$, en lugar de hacer cálculos con números $\\sim 10^{-31}$, lo cual requiere precisión arbitraria y da lugar a errores de redondeo importantes, la masa es un múltiplo entero de $m_e$. En la práctica, esto sirve para diseñar coches y aviones usando modelos a escala y no los objetos de tamaño real. Las cantidades adimensionales se calculan usando el [Teorema Pi de Buckingham](http://en.wikipedia.org/wiki/Buckingham_%CF%80_theorem).\n",
    "\n",
    "Definiendo las variables adimensionales\n",
    "\n",
    "$$\n",
    "\\rho = r/d, \\quad \\tau = t/t_0 \\;\\text{con}\\; t_0 = \\sqrt{d/g}, \\quad \\mu=m_1/m_2, \n",
    "$$\n",
    "\n",
    "las ecuaciones de movimiento se vuelven las siguientes:\n",
    "\n",
    "$$\n",
    "\\begin{array}{l}\n",
    "\\rho'' = \\frac{1}{\\mu+1}(\\rho\\theta'^2 + \\cos\\theta)\\\\\n",
    "\\theta'' = -\\frac{1}{\\rho}(2\\rho'\\theta' + \\sin\\theta).\n",
    "\\end{array}\n",
    "$$\n",
    "\n",
    "La energía total del sistema en términos de variables adimensionales es:\n",
    "\n",
    "$$\n",
    "E/E_0 = (K_1 + K_2 + U_2)/E_0, \\quad E_0 = m_2gd\n",
    "$$\n",
    "\n",
    "con ($\\nu = \\rho', \\omega = \\theta'$)\n",
    "\n",
    "$$\n",
    "\\begin{array}{l}\n",
    "K_1/E_0 = \\frac12 \\mu\\nu^2\\\\\n",
    "K_2/E_0 = \\frac12[\\nu^2 + (\\rho\\omega)^2]\\\\\n",
    "U_2/E_0 = -\\rho\\cos\\theta\n",
    "\\end{array}\n",
    "$$\n",
    "\n",
    "1. Considerando que las masas son iguales, $\\mu = 1$, y que $\\rho(0) = 1.0$, $\\theta(0) = \\pi/2$, $\\nu(0) = \\omega(0) = 0$, ¿qué sucede primero? ¿el bloque 1 llega a la polea? o ¿el bloque 2 llega a la pared? ¿A qué tiempo $\\tau$ ocurre esto? Grafica $\\rho(\\tau)$, $\\theta(\\tau)$ y $x(\\tau)$ usando [`subplot`](/tree/notas/subplot.ipynb). Si la cuerda mide 2 m, ¿cuánto tiempo es en segundos?\n",
    "\n",
    "2. Para entender mejor este resultado, grafica el movimiento del centro de masa\n",
    "$$\n",
    "\\frac{x_{\\mathrm{cm}}}{d} = \\frac{\\rho(\\mu + \\sin\\theta) -2\\mu}{\\mu + 1}.\n",
    "$$\n",
    "Explica físicamente lo que se obtiene.\n",
    "\n",
    "3. Dado que no hay disipación, muestra que la energía se conserva (aproximadamente). Grafica $K_1/E_0$, $K_2/E_0$, $U_2/E_0$ y $E/E_0$ en el mismo lienzo.\n",
    "\n",
    "4. Repite los incisos 1. y 2. para $\\mu=2.0$. ¿Qué sucede? Explica.\n",
    "\n",
    "5. Discretiza el intervalo $[1.0,2.0]$ de valores de $\\mu$ y determina para qué valor se obtiene un empate. ¿Qué debes graficar para mostrar esto?"
   ]
  },
  {
   "cell_type": "markdown",
   "metadata": {},
   "source": [
    "[Tarea escrita por Marduk Bolaños.]"
   ]
  }
 ],
 "metadata": {
  "kernelspec": {
   "display_name": "Julia 0.3.11",
   "language": "julia",
   "name": "julia-0.3"
  },
  "language_info": {
   "file_extension": ".jl",
   "mimetype": "application/julia",
   "name": "julia",
   "version": "0.3.11"
  }
 },
 "nbformat": 4,
 "nbformat_minor": 0
}
