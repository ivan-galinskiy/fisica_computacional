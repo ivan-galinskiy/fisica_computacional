{
 "cells": [
  {
   "cell_type": "markdown",
   "metadata": {},
   "source": [
    "Fecha límite de entrega: **Jueves 28 de agosto** antes de las 11am."
   ]
  },
  {
   "cell_type": "markdown",
   "metadata": {},
   "source": [
    "[1] Escribe una función recursiva para calcular una raiz de una función $f$ en un intervalo $[a,b]$ con el método de bisección. Verifica que funcione al calcular raices de distintas funciones."
   ]
  },
  {
   "cell_type": "code",
   "execution_count": 9,
   "metadata": {
    "collapsed": false
   },
   "outputs": [
    {
     "name": "stdout",
     "output_type": "stream",
     "text": [
      "-2.220446049250313e-16\n",
      "0.0\n",
      "0.0\n"
     ]
    }
   ],
   "source": [
    "### Solución para (1)\n",
    "### Supondremos que f(a) tiene el signo opuesto a f(b) como condición inicial\n",
    "\n",
    "### Esta función acepta la función a evaluar (f), los límites de búsqueda (a y b) tales \n",
    "### que el signo de f(a) es opuesto al de f(b) y n (100 por defecto) es el límite de recursión\n",
    "function find_root_bisection(f, a, b, n=300)\n",
    "    c = (a+b)/2\n",
    "    \n",
    "    ### Checamos que no rebasamos el límite de recusrsión\n",
    "    if n == 0 \n",
    "        return c;\n",
    "    end\n",
    "    \n",
    "    medio = f(c);\n",
    "    \n",
    "    ### Sería extraño, pero es posible que encontremos el cero así\n",
    "    if medio == 0\n",
    "        return c;\n",
    "    end\n",
    "    \n",
    "    ### Si el valor en c es signo-opuesto al valor en a, entonces (a,c) es el siguiente intervalo\n",
    "    if medio/abs(medio) ==-f(a)/abs(f(a))\n",
    "        return find_root_bisection(f, a, c, n-1);\n",
    "        \n",
    "    else ### Si no, entonces es el otro intervalo\n",
    "        return find_root_bisection(f, c, b, n-1);\n",
    "    end\n",
    "end\n",
    "\n",
    "### Unas pruebas rápidas\n",
    "\n",
    "# 1. Raiz cuadrada de 2: funciona\n",
    "println(find_root_bisection(x -> x^2-2, 1, 2) - sqrt(2))\n",
    "\n",
    "# 2. Raiz de coseno: funciona (los valores límite son un poco \n",
    "# raros para evitar que converga directamente)\n",
    "println(find_root_bisection(x -> cos(x), π/4.21, 3π/4.32) - π/2)\n",
    "\n",
    "# 3. Raiz de logaritmo\n",
    "println(find_root_bisection(x -> log(x), 0.67, 1.45) - 1)"
   ]
  },
  {
   "cell_type": "markdown",
   "metadata": {},
   "source": [
    "[2] Considera la colisión en una dimensión de una partícula haciendo movimiento armónico simple con frecuencia angular $\\omega$ y una partícula libre con velocidad $v$. \n",
    "\n",
    "(a) Escribe una función que toma los parámetros del oscilador y de la partícula y grafica sus respectivas posiciones en el tiempo, suponiendo que no hay colisión. "
   ]
  },
  {
   "cell_type": "markdown",
   "metadata": {},
   "source": [
    "(b) Dibuja (en gráficas separadas) las trayectorias de las dos partículas para unas cuantas posibilidades de los parámetros. ¿Cuántas \"colisiones\" puede haber? ¿Cuál es la buena?"
   ]
  },
  {
   "cell_type": "markdown",
   "metadata": {},
   "source": [
    "(c) Escribe una función para calcular el tiempo de colisión de las dos partículas, sin garantizar cuál es, utilizando la función que escribiste en la pregunta [1]."
   ]
  },
  {
   "cell_type": "markdown",
   "metadata": {},
   "source": [
    "**[Opcional] (d) ¿Cómo puedes garantizar que se encuentre la colisión adecuada? Impleméntalo."
   ]
  },
  {
   "cell_type": "markdown",
   "metadata": {},
   "source": [
    "[2] Implementa el método de Newton para calcular una raiz de una función $f$, dadas una adivinanza inicial $x_0$ y la derivada $f'$ (que por el momento se implementa a mano en otra función).\n",
    "\n",
    "(a) Verifica que tu función sirve para encontrar raices de la función $f(x) = x^2 - 2$. \n",
    "\n",
    "(b) Intenta con distintos valores iniciales. Dibuja una gráfica que muestra a cuál raiz llega el método para distintos valores iniciales.\n",
    "\n",
    "(c) Usa el método de Newton para encontrar las soluciones de la ecuación \n",
    "$$ \\tan(x) = x. $$\n",
    "\n",
    "Nota: Es posible que la iteración de Newton *no converja*. En este caso, conviene poner un número máximo de iterados como otro argumento de la función."
   ]
  },
  {
   "cell_type": "markdown",
   "metadata": {},
   "source": [
    "[3] (a) Escribe una función que verifica si un número entero es un número primo o no. Puedes utilizar bucles.\n",
    "\n",
    "(b) Dibuja una gráfica que muestra el número de primos menor que $n$ como función de $n$."
   ]
  }
 ],
 "metadata": {
  "kernelspec": {
   "display_name": "Julia 0.3.11",
   "language": "julia",
   "name": "julia-0.3"
  },
  "language_info": {
   "name": "julia",
   "version": "0.3.11"
  }
 },
 "nbformat": 4,
 "nbformat_minor": 0
}
