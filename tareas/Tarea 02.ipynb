{
 "cells": [
  {
   "cell_type": "markdown",
   "metadata": {},
   "source": [
    "# Tarea 02"
   ]
  },
  {
   "cell_type": "markdown",
   "metadata": {},
   "source": [
    "Fecha *límite* de entrega: **miércoles 26 de agosto, antes de las 15:00 horas**\n",
    "\n",
    "**No** se recibirán tareas después del inicio de la clase del miércoles 26 de agosto.\n",
    "\n",
    "Manda un solo notebook de Jupyter / IPython con tus respuestas a las preguntas a `bvillasen@gmail.com`, siguiendo las instrucciones en `formato_tareas.md`.\n",
    "\n",
    "\n",
    "Explica brevemente qué estás haciendo. Redacta oraciones completas en español con acentos. Usa ecuaciones en LaTeX cuando sea necesario.\n",
    "\n",
    "El notebook debe ser ejecutable, es decir, cada celda debe correr sin errores, y debe reproducir la salida que aparece en la pantalla."
   ]
  },
  {
   "cell_type": "markdown",
   "metadata": {},
   "source": [
    "## Preguntas"
   ]
  },
  {
   "cell_type": "markdown",
   "metadata": {},
   "source": [
    "1. Implementa una función `mi_sin` usando recursión.\n",
    "Puedes utilizar el operador `%`, que calcula el resto de una divisíon (ver abajo).  Calcula $\\sin(1)$. \n",
    "\n",
    "2. Implementa una nueva versión de la función exponencial que calcule el exponencial de su argumento $x$. Para hacerlo, no utilices recursión, sino primero construye un arreglo adecuado y de ahí calcula el exponencial.\n",
    "\n",
    "3. Implementa una función `mi_sin2` que utiliza un arreglo. Calcula $\\sin(1)$. \n",
    "\n",
    "4. Implementa una función `mi_sin3` que utiliza la fórmula de Euler. Calcula $\\sin(1)$. \n",
    "\n",
    "5. ¿Funcionan estas funciones con argumentos que sean números complejos?\n",
    "\n",
    "6. ¿Cómo podrías implementar `mi_cos` sin mayor dificultad? Hazlo.\n",
    "\n",
    "7. Verifica unas relaciones trigonométricas con tus funciones."
   ]
  },
  {
   "cell_type": "markdown",
   "metadata": {},
   "source": [
    "Ejemplo del uso del operador `%`:"
   ]
  },
  {
   "cell_type": "code",
   "execution_count": 1,
   "metadata": {
    "collapsed": false
   },
   "outputs": [
    {
     "data": {
      "text/plain": [
       "2"
      ]
     },
     "execution_count": 1,
     "metadata": {},
     "output_type": "execute_result"
    }
   ],
   "source": [
    "5 % 3"
   ]
  }
 ],
 "metadata": {
  "kernelspec": {
   "display_name": "Julia 0.3.11-pre",
   "language": "julia",
   "name": "julia-0.3"
  },
  "language_info": {
   "name": "julia",
   "version": "0.3.11"
  }
 },
 "nbformat": 4,
 "nbformat_minor": 0
}
