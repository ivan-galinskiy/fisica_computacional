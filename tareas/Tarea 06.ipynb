{
 "cells": [
  {
   "cell_type": "markdown",
   "metadata": {},
   "source": [
    "# Tarea 06\n",
    "\n",
    "## Entrega: Miércoles 7 de octubre de 2015"
   ]
  },
  {
   "cell_type": "markdown",
   "metadata": {},
   "source": [
    "[1] [Puedes brincar directo a la parte (iv).]\n",
    "\n",
    "(i) Escribe una versión de Euler que funcione para un número arbitrario de variables. Acepta una función $\\mathbf{f}: \\mathbb{R}^n \\to \\mathbb{R}^n$, es decir, una función que come un vector y escupe otro. La estructura debe consistir en una función que actualiza las variables en un solo paso, y otra que integra desde un tiempo inicial hasta un tiempo final y regresa la trayectoria.\n",
    "\n",
    "(ii) Escribe una versión de Runge-Kutta de segundo orden que funcione para un número arbitrario de variables, con la misma estructura.\n",
    "\n",
    "(iii) Escribe una versión de Runge-Kutta de cuarto orden que funcione para un número arbitrario de variables, con la misma estructura.\n",
    "\n",
    "(iv) Observando la similitud alta de las funciones que has hecho, has una función `integrar`, en el cual especifiques un parámetro adicional, `metodo`, que escoge el método (Euler, RK2 o RK4) para cada paso."
   ]
  },
  {
   "cell_type": "code",
   "execution_count": 3,
   "metadata": {
    "collapsed": false
   },
   "outputs": [
    {
     "data": {
      "text/plain": [
       "integrar (generic function with 2 methods)"
      ]
     },
     "execution_count": 3,
     "metadata": {},
     "output_type": "execute_result"
    }
   ],
   "source": [
    "### Solución\n",
    "# La función f aceptará argumentos de la forma {x, t}, donde x es un vector arbitrario, y regresará un vector de la \n",
    "# misma dimensión tal que x'(t) = f(x(t), t).\n",
    "\n",
    "# Además, cualquiera de las funciones individuales relacionadas a los métodos de integración aceptará una celda\n",
    "# de la forma {x_n, t_n}, donde x_n es un vector de por sí. Después, lo modificará en su lugar para no tener que pasar\n",
    "# valores.\n",
    "\n",
    "function euler_update!(values, f, h)\n",
    "    values[1] += f(values) # Modificamos el vector\n",
    "    values[2] += h # Movemos el tiempo\n",
    "end;\n",
    "\n",
    "function rk2_update!(values, f, h)\n",
    "    k1 = f(values)\n",
    "    k2 = f({values[1] + h * k1/2, values[2] + h/2})\n",
    "    \n",
    "    # Actualizamos el vector de estado\n",
    "    values[1] += h*k2;\n",
    "    values[2] += h;\n",
    "end;\n",
    "\n",
    "function rk4_update!(values, f, h)\n",
    "    k1 = f(values)\n",
    "    k2 = f({values[1] + h * k1 / 2, values[2] + h/2})\n",
    "    k3 = f({values[1] + h * k2 / 2, values[2] + h/2})\n",
    "    k4 = f({values[1] + h * k3, values[2] + h})\n",
    "    \n",
    "    # Actualizamos el vector de estado\n",
    "    values[1] += h/6 * (k1 + 2*k2 + 2*k3 + k4);\n",
    "    values[2] += h;\n",
    "end;\n",
    "\n",
    "# La función acepta las condiciones iniciales, el incremento de tiempo, el tiempo final,\n",
    "# la función de evolución y el método a usar. Regresa el estado final.\n",
    "function integrar(cond_iniciales, h, t_final, f, metodo=rk4_update!)\n",
    "    estado = cond_iniciales # Inicializamos el estado\n",
    "    \n",
    "    while estado[2] < t_final # Iteramos hasta llegar al final\n",
    "        metodo(estado, f, h);\n",
    "    end\n",
    "    \n",
    "    return estado;\n",
    "end"
   ]
  },
  {
   "cell_type": "markdown",
   "metadata": {},
   "source": [
    "[2] \n",
    "\n",
    "(i) Considera el tiro parabólico (sin fricción). Escribe con cuidado las ecuaciones diferenciales, identificando las variables. Escribe la función $\\mathbf{f}$ correspondiente en Julia, que acepta los valores de las variables y regresa las derivadas corresopndientes.\n",
    "\n",
    "(ii) Utiliza tus funciones para resolver numéricamente las ecuaciones del tiro parabólico (sin fricción) y compara con la solución analítica, con los tres métodos.\n",
    "\n",
    "(iii) ¿Cómo varía la energía total en el tiempo con cada uno de los métodos? Según la dinámica clásica, ¿cómo debe variar? ¿Qué concluyes?\n",
    "\n",
    "[3] \n",
    "\n",
    "(i) Agrega fricción proporcional a la *velocidad*. Identifica las variables necesarias y escribe las EDOs.\n",
    "\n",
    "(ii) Escribe una versión diferente de Runge-Kutta que acepta otra función, que a su vez acepta el valores actual del vector de las variables. Esta función devolverá un valor booleano, que indica si cierta condición se satisface o no en base al vector de variables.\n",
    "\n",
    "(iii) Escribe una función que dice si la posición actual haya llegado de regreso a la tierra. Empezando desde alguna altura sobre la tierra, corre el tiro no-parabólico (es decir, con fricción) *hasta que* llegue de regreso a la tierra.\n",
    "\n",
    "(iv) Haz interactivo tu simulación, para poder cambiar los distintos parámetros.\n",
    "\n",
    "(v) Dibuja el tiempo de vuelo y el alcance de la partícula en función del ángulo inicial para distintos tamaños de fricción.\n",
    "\n",
    "(vi) ¿Cómo cambian los resultados si la fricción es proporcional al cuadrado de la *rapidez*?\n",
    "[Pista: la fuerza de fricción siempre debe ser un *vector*. ¿En qué dirección apunta?] "
   ]
  }
 ],
 "metadata": {
  "kernelspec": {
   "display_name": "Julia 0.3.11",
   "language": "julia",
   "name": "julia-0.3"
  },
  "language_info": {
   "file_extension": ".jl",
   "mimetype": "application/julia",
   "name": "julia",
   "version": "0.3.11"
  }
 },
 "nbformat": 4,
 "nbformat_minor": 0
}
