{
 "cells": [
  {
   "cell_type": "markdown",
   "metadata": {},
   "source": [
    "# Tarea 10"
   ]
  },
  {
   "cell_type": "markdown",
   "metadata": {},
   "source": [
    "## Para entregarse el miércoles 11 de noviembre de 2015"
   ]
  },
  {
   "cell_type": "markdown",
   "metadata": {},
   "source": [
    "[1] Resuelve numéricamente (usando el método de relajación) el problema de encontrar el potencial y el campo eléctrico entre, y alrededor de, dos placas paralelas en dos dimensiones (notebook 21). Puedes suponer condiciones de Dirichlet iguales a $0$ en las fronteras de la caja cuadrada.\n",
    "\n",
    "[2] Encuentra numéricamente (usando las herramientas de Julia) los eigenvalores de energía y las eigenfunciones de una partícula libre cuántica en una caja cuadrada, y compáralas con la solución analítica (notebook 22)."
   ]
  },
  {
   "cell_type": "markdown",
   "metadata": {},
   "source": [
    "**3. Modos normales**\n",
    "\n",
    "Considera un sistema compuesto por cuatro carritos de masa $m$, acoplados con resortes sobre una pista recta. El carrito en cada extremo está acoplado mediante un resorte a una pared. Todos los resortes obedecen la ley de Hooke con la misma constante $k$.\n",
    "\n",
    "- Deduce las ecuaciones de movimiento a partir de la segunda ley de Newton y escríbelas en forma matricial. \n",
    "\n",
    "- Para resolver el sistema de ecuaciones proponemos la solución\n",
    "\n",
    "$$\n",
    "\\vec{x}(t) = \\mathrm{Re}(\\vec{z}(t)), \\quad \\vec{z}(t) = \\vec{a}e^{i\\omega t},\n",
    "$$\n",
    "donde $\\vec{a}$ es un vector complejo que tiene la información de la amplitud y la fase de las oscilaciones, que dependen de las condiciones iniciales. \n",
    "\n",
    "Las **frecuencias normales** del sistema son las raíces positivas de la ecuación característica de la matriz $\\mathbb{K} - \\omega^2\\mathbb{M}$ y los modos normales son los vectores que satisfacen la ecuación de autovalores $(\\mathbb{K} - \\omega^2\\mathbb{M})\\vec{a} = 0$. El movimiento del sistema está dado por la superposición de todos los modos normales.\n",
    "\n",
    "\n",
    "- Calcula las frecuencias normales y los modos normales del sistema.\n",
    "\n",
    "- Grafica, para cada modo normal, la posición de los carritos como función del tiempo. Describe cada modo normal en términos del movimiento de cada carrito. [Puedes utilizar `subplot`.]\n",
    "\n",
    "- Grafica el movimiento de cada carrito. En esta representación es difícil ver cómo se mueven los carritos. Haz una animación. Para dibujar un punto puedes usar `plot([x1],[y1],\"ks\")`. Si en tu computadora no se ven los `mp4` en el cuaderno, usa `GIF`. No batalles con eso."
   ]
  },
  {
   "cell_type": "markdown",
   "metadata": {},
   "source": [
    "[4] Escribe documentación breve de cómo utilizar el paquete `ODE.jl`, con un ejemplo sencillo. Esto puede ser en español o en inglés.\n",
    "\n",
    "[5] Entrega tu propuesta de proyecto final, teniendo en cuenta los lineamientos en el archivo `Proyectos finales.ipynb` en el respositorio del curso."
   ]
  }
 ],
 "metadata": {
  "kernelspec": {
   "display_name": "Julia 0.4.0",
   "language": "julia",
   "name": "julia-0.4"
  },
  "language_info": {
   "file_extension": ".jl",
   "mimetype": "application/julia",
   "name": "julia",
   "version": "0.4.0"
  }
 },
 "nbformat": 4,
 "nbformat_minor": 0
}
