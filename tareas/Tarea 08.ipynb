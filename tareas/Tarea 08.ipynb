{
 "cells": [
  {
   "cell_type": "markdown",
   "metadata": {},
   "source": [
    "# Tarea 8\n",
    "\n",
    "## Para entregar el miércoles 21 de octubre de 2015"
   ]
  },
  {
   "cell_type": "markdown",
   "metadata": {},
   "source": [
    "**1. Péndulo doble**\n",
    "\n",
    "Un péndulo doble consiste de una masa $m_1$ suspendida de un punto fijo mediante una varilla sin masa, de longitud $\\ell_1$, y una masa $m_2$ suspendidad de $m_1$ mediante una varilla sin masa, de longitud $\\ell_2$.\n",
    "\n",
    "[1] (i) Deduce las ecuaciones de movimiento del péndulo doble.\n",
    "\n",
    "(ii) Averigua cómo funciona el paquete `ODE.jl`.\n",
    "\n",
    "(iii) Utiliza distintas funciones del paquete `ODE.jl` para integrar las ecuaciones del péndulo. \n",
    "\n",
    "(iv) Haz figuras y animaciones para ver qué está pasando.\n",
    "\n",
    "(v) Calcula la distancia entre dos condiciones iniciales muy cercanas en el tiempo. ¿Qué observas? ¿Qué implica sobre el sistema?\n",
    "\n",
    "(vi) Grafica un corte del espacio fase, correspondiente a las coordenadas de los dos péndulos, para distintas condiciones iniciales. ¿Qué observas?\n"
   ]
  },
  {
   "cell_type": "markdown",
   "metadata": {},
   "source": [
    "**2. Reacción-difusión**"
   ]
  },
  {
   "cell_type": "markdown",
   "metadata": {},
   "source": [
    "Una ecuación ligeramente distinta en apariencia, pero radicalmente distinta en comportamiento, de la ecuación de difusión es la siguiente ecuación de **reacción-difusión**; el primer se puede condiderar como modelando una reacción química local, o el crecimiento local de una población de animales:\n",
    "\n",
    "$$\\frac{\\partial u}{\\partial t} = u(1-u) + \\nabla^2 u.$$"
   ]
  },
  {
   "cell_type": "markdown",
   "metadata": {},
   "source": [
    "[2] Considera la ecuación en 1D en el intervalo $[0,L]$.\n",
    "\n",
    "(i) Discretiza la ecuación en el lugar $(x_i, t_n)$ de la malla. ¿Qué pasa con el primer término de lado derecho en este sitio?\n",
    "\n",
    "(ii) Simula el sistema con distintas condiciones iniciales y condiciones periódicas de frontera y dibuja la evolución, por ejemplo con una animación. ¿Qué observas? ¿Qué está pasando físicamente? ¿Cuál es el comportamiento asintótico del sistema?\n",
    "\n",
    "(iii) ¿Qué ocurre al utilizar condiciones de frontera reflejantes?\n",
    "\n",
    "[3] Simula el sistema en 2D. ¿Qué observas? ¿Qué es lo que modela la ecuación?"
   ]
  }
 ],
 "metadata": {
  "kernelspec": {
   "display_name": "Julia 0.3.12-pre",
   "language": "julia",
   "name": "julia-0.3"
  },
  "language_info": {
   "file_extension": ".jl",
   "mimetype": "application/julia",
   "name": "julia",
   "version": "0.3.12"
  }
 },
 "nbformat": 4,
 "nbformat_minor": 0
}
