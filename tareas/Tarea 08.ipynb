{
 "cells": [
  {
   "cell_type": "markdown",
   "metadata": {},
   "source": [
    "# Tarea 8\n",
    "\n",
    "## Para entregar el miércoles 21 de octubre de 2015"
   ]
  },
  {
   "cell_type": "markdown",
   "metadata": {},
   "source": [
    "**1. Péndulo doble**\n",
    "\n",
    "Un péndulo doble consiste de una masa $m_1$ suspendida de un punto fijo mediante una varilla sin masa, de longitud $\\ell_1$, y una masa $m_2$ suspendidad de $m_1$ mediante una varilla sin masa, de longitud $\\ell_2$.\n",
    "\n",
    "[1] (i) Deduce las ecuaciones de movimiento del péndulo doble."
   ]
  },
  {
   "cell_type": "markdown",
   "metadata": {},
   "source": [
    "** Solución: **\n",
    "\n",
    "Las ecuaciones de movimiento del péndulo doble se derivan desde el formalismo Lagrangiano. La derivación misma no es difícil, pero sí es algebráicamente pesada. Por esto, pongo los resultados directamente:\n",
    "\n",
    "$$\n",
    "(m_1 + m_2)\\ell_1 \\ddot{\\theta}_1 + m_2 \\ell_2 \\ddot{\\theta}_2 \\cos(\\theta_1 - \\theta_2) + m_2 \\ell_2 \\dot{\\theta}_2^2 \\sin(\\theta_1 - \\theta_2) + g (m_1 + m_2) \\sin(\\theta_1) = 0\n",
    "$$\n",
    "\n",
    "$$\n",
    "m_2 \\ell_2 \\ddot{\\theta}_2 + m_2 \\ell_1 \\ddot{\\theta}_1 \\cos(\\theta_1 - \\theta_2) - m_2 \\ell_1 \\dot{\\theta}_1^2 \\sin(\\theta_1 - \\theta_2) + m_2 g \\sin(\\theta_2) = 0\n",
    "$$\n",
    "\n",
    "Necesitamos transformarlos para obtener $\\ddot{\\theta}_1$ y $\\ddot{\\theta}_2$ explícitamente. Para esto, sustituimos la segunda ecuación en la primera y al revés. Esto se hace en Mathematica y se obtiene que:"
   ]
  },
  {
   "cell_type": "markdown",
   "metadata": {},
   "source": [
    "$$\n",
    "\\ddot{\\theta}_1 = - \\frac{g(2m_1 + m_2) \\sin(\\theta_1) + m_2 (g \\sin(\\theta_1 - 2\\theta_2) + 2(\\dot{\\theta}_2^2 \\ell_2 + \\dot{\\theta}_1^2 \\ell_1 \\cos(\\theta_1 - \\theta_2))\\sin(\\theta_1 - \\theta_2)}{2\\ell_1 (m_1 + m_2 - m_2 \\cos(\\theta_1-\\theta_2)^2)}\n",
    "$$\n",
    "\n",
    "$$\n",
    "\\ddot{\\theta}_2 = \\frac{(\\dot{\\theta}_1^2 \\ell_1 (m_1+m_2) + g (m_1 + m_2) \\cos(\\theta_1) + \\dot{\\theta}_2^2 \\ell_2 m_2 \\cos(\\theta_1 - \\theta_2))\\sin(\\theta_1 - \\theta_2)}{\\ell_2 (m_1 + m_2 - m_2 \\cos(\\theta_1-\\theta_2)^2)}\n",
    "$$"
   ]
  },
  {
   "cell_type": "markdown",
   "metadata": {},
   "source": [
    "(ii) Averigua cómo funciona el paquete `ODE.jl`."
   ]
  },
  {
   "cell_type": "markdown",
   "metadata": {},
   "source": [
    "(iii) Utiliza distintas funciones del paquete `ODE.jl` para integrar las ecuaciones del péndulo. "
   ]
  },
  {
   "cell_type": "markdown",
   "metadata": {},
   "source": [
    "(iv) Haz figuras y animaciones para ver qué está pasando."
   ]
  },
  {
   "cell_type": "markdown",
   "metadata": {},
   "source": [
    "(v) Calcula la distancia entre dos condiciones iniciales muy cercanas en el tiempo. ¿Qué observas? ¿Qué implica sobre el sistema?"
   ]
  },
  {
   "cell_type": "markdown",
   "metadata": {},
   "source": [
    "(vi) Grafica un corte del espacio fase, correspondiente a las coordenadas de los dos péndulos, para distintas condiciones iniciales. ¿Qué observas?"
   ]
  },
  {
   "cell_type": "markdown",
   "metadata": {},
   "source": [
    "**2. Reacción-difusión**"
   ]
  },
  {
   "cell_type": "markdown",
   "metadata": {},
   "source": [
    "Una ecuación ligeramente distinta en apariencia, pero radicalmente distinta en comportamiento, de la ecuación de difusión es la siguiente ecuación de **reacción-difusión**; el primer se puede condiderar como modelando una reacción química local, o el crecimiento local de una población de animales:\n",
    "\n",
    "$$\\frac{\\partial u}{\\partial t} = u(1-u) + \\nabla^2 u.$$"
   ]
  },
  {
   "cell_type": "markdown",
   "metadata": {},
   "source": [
    "[2] Considera la ecuación en 1D en el intervalo $[0,L]$.\n",
    "\n",
    "(i) Discretiza la ecuación en el lugar $(x_i, t_n)$ de la malla. ¿Qué pasa con el primer término de lado derecho en este sitio?\n",
    "\n",
    "(ii) Simula el sistema con distintas condiciones iniciales y condiciones periódicas de frontera y dibuja la evolución, por ejemplo con una animación. ¿Qué observas? ¿Qué está pasando físicamente? ¿Cuál es el comportamiento asintótico del sistema?\n",
    "\n",
    "(iii) ¿Qué ocurre al utilizar condiciones de frontera reflejantes?\n",
    "\n",
    "[3] Simula el sistema en 2D. ¿Qué observas? ¿Qué es lo que modela la ecuación?"
   ]
  }
 ],
 "metadata": {
  "kernelspec": {
   "display_name": "Julia 0.3.11",
   "language": "julia",
   "name": "julia-0.3"
  },
  "language_info": {
   "file_extension": ".jl",
   "mimetype": "application/julia",
   "name": "julia",
   "version": "0.4.0"
  }
 },
 "nbformat": 4,
 "nbformat_minor": 0
}
