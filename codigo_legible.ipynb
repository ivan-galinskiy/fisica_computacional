{
 "cells": [
  {
   "cell_type": "markdown",
   "metadata": {},
   "source": [
    "# Convenciones para producir código legible (para los ayudantes)\n",
    "\n",
    "Física computacional es una materia difícil para los ayudantes. Al programar la respuesta no es única, y no lo es tanto por el algoritmo uno puede utilizar como por el estilo que uno le da a su código.\n",
    "\n",
    "Respecto a lo primero, (casi) todas las respuestas son válidas, si el código funciona funciona. Respecto a lo segundo, vamos a tener que seguir algunas convenciones."
   ]
  },
  {
   "cell_type": "markdown",
   "metadata": {},
   "source": [
    "## Espacio\n",
    "\n",
    "El código se debe de ver limpio, y para ésto es indispensable utilizar espacios y líneas en blanco. (Sin contar la indentación. No hay excusa para que no sea perfecta porque el editor del notebook la maneja automáticamente.)\n",
    "\n",
    "En lugar de `a=3`, es mejor `a = 3`. En lugar de `raiz(algo,otra,cosa)` vamos a poner espacios después de cada coma: `raiz(algo, otra, cosa)`.\n",
    "\n",
    "Y en los bloques de código, vamos separar diferentes pasos o ideas con líneas en blanco (ver el ejemplo `mi_funcion_copia` más abajo."
   ]
  },
  {
   "cell_type": "markdown",
   "metadata": {},
   "source": [
    "## Variables\n",
    "\n",
    "**Julia** permite que los nombres de variables sean del tamaño que uno quiera, no hay una limitante de espacio, y se pueden incluir números, guiones bajos y caracteres Unicode. Por esta razón, **no hay excusa para que las variables no sean descriptivas**.\n",
    "\n",
    "**Está absolutamente prohibido usar las variables de una sola letra** (`a`, `s`, etc,) a menos de que sea para un ejemplo bobo en donde estemos probando algo (`a = 2 ; b = im ; a + b`).\n",
    "\n",
    "En lugar de `a = [sin(x) for x in [0:0.1:2pi]]`, **vamos a utilizar un nombre descriptivo** como `senos`, `lista_sin` o cualquier cosa que me diga lo que contiene el arreglo.\n",
    "\n",
    "Si definimos una función que se repite N veces, no vamos a usar una variable `N`, vamos a preferir `num_iters`, `iters`, `reps`, etc. \n",
    "\n",
    "Cómo esta es una clase de física, vamos a utilizar muchas letras griegas. Cuando quede claro del contexto lo que significa la variable $\\theta$ (por ejemplo es el ángulo del tiro parabólico), en lugar de utilizar la variable `theta` **vamos a aprovechar el soporte Unicode de Julia** y escribir `\\theta` y luego `<TAB>` para que la variable sea una letra griega de verdad."
   ]
  },
  {
   "cell_type": "markdown",
   "metadata": {},
   "source": [
    "## Funciones\n",
    "\n",
    "Las funciones deben tener un nombre más o menos representativo de lo que se supone que hacen, de preferencia de manera resumida, sin que deje de ser legible. `mi_raiz` es un buen nombre, `rzcd` no lo es porque es difícil entender que está abreviando `raiz cuadrada`.\n",
    "\n",
    "Los argumentos de las funciones definen variables, y todo lo que se dijo en el párrafo anterior aplica aquí. En lugar de `mi_función(x,n)` voy a preferir `mi_funcion(arreglo, num_iters)`.\n",
    "\n",
    "Dentro de las funciones es común que utilice variables que sólo viven por un momento, que me sirven para almacenar algo temporalmente. En lugar de llamarlas `a`, por qué no nombrarlas `tmp` o algo del estilo. Sí construyo una variable que al final va a contener el cálculo que quiero regresar, puedo llamarla `out`. Y si utilizo una variable que funciona como contador, voy a llamarla `contador` o `cont`, por ningún motivo `n`.\n",
    "\n",
    "Ejemplo:\n",
    "```julia\n",
    "mi_funcion_copia(arreglo, len_arreglo)\n",
    "    # Una función que hace una copia del arreglo que le doy como argumento\n",
    "    \n",
    "    # Creamos un arreglo vacío que contendrá la salida\n",
    "    out = Vector(Int, len_arreglo)\n",
    "    \n",
    "    for i in 1:len_arreglo\n",
    "        out[i] = arreglo[i]\n",
    "    end\n",
    "    \n",
    "    out\n",
    "end\n",
    "```"
   ]
  },
  {
   "cell_type": "markdown",
   "metadata": {},
   "source": [
    "## Llamados a las funciones\n",
    "\n",
    "Muy seguido vamos a utilizar una función montones de veces, llamándola con diferentes argumentos para ver cómo se comporta un sistema físico. Por ejemplo, en el problema del tiro parabólico nos va a interesar llamar a la función que calcula la trayectoria con diferentes velocidades iniciales y ángulos. \n",
    "\n",
    "Cuando lo hagamos, no vamos a hacer ésto:\n",
    "\n",
    "```julia\n",
    "tiempos = linspace(0, 10, 256)\n",
    "\n",
    "trayectoria(tiempos, 10, pi/2)\n",
    "```\n",
    "\n",
    "**Lo correcto** es  siempre hacer es lo siguiente:\n",
    "\n",
    "```julia\n",
    "tiempos = linspace(0, 10, 256)\n",
    "v_0 = 10\n",
    "θ = pi/2\n",
    "\n",
    "trayectoria(tiempos, v_0, θ)\n",
    "```\n",
    "\n",
    "La diferencia entre las dos versiones es que ahora el ayudante sabe qué es lo representan el `10` y el `pi/2`.\n",
    "\n",
    "Mejor aún es poner\n",
    "```julia\n",
    "t_inicial = 0.0\n",
    "t_final = 10.0\n",
    "num_pasos = 256\n",
    "\n",
    "tiempos = linspace(t_inicial, t_final, num_pasos)\n",
    "v_0 = 10\n",
    "θ = pi/2\n",
    "\n",
    "trayectoria(tiempos, v_0, θ)\n",
    "```\n",
    "\n",
    "Es decir, seguimos la siguiente regla: **cada numéro que aparece debe tener un nombre**."
   ]
  },
  {
   "cell_type": "markdown",
   "metadata": {},
   "source": [
    "## Opcional: convenciones de Julia\n",
    "\n",
    "Hasta aquí las indicaciones eran obligatorias. Lo que sigue es opcional; son las convenciones que se consideran \"de buena educación\" en **Julia** pero no vas a perder puntos por no seguirlas. \n",
    "\n",
    "En [el manual de Julia](http://julia.readthedocs.org/en/latest/manual/variables/#stylistic-conventions) puedes leer que se acostumbra:\n",
    "\n",
    "- Que los nombres de variables sean en minúscula, y que se haga la separación de palabras con un guión bajo. Se recomienda no abusar de los guiones.\n",
    "- Que los nombres de las funciones sean en minúsculas. Idealmente se tiene que evitar que tengan muchas palabras distintas.\n",
    "- Que las funciones que modifican a sus argumentos lleven un signo de exclamación `!` al final del nombre (ejemplo: `push!`)."
   ]
  }
 ],
 "metadata": {
  "kernelspec": {
   "display_name": "Julia 0.3.11",
   "language": "julia",
   "name": "julia-0.3"
  },
  "language_info": {
   "name": "julia",
   "version": "0.3.11"
  }
 },
 "nbformat": 4,
 "nbformat_minor": 0
}
