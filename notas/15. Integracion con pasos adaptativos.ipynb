{
 "cells": [
  {
   "cell_type": "markdown",
   "metadata": {},
   "source": [
    "Hasta ahora, en todas las integraciones de EDOs que hemos hecho, ha habido un tamaño de paso fijo, que es un parámetro que pasamos a la función `RK4` etc.\n",
    "\n",
    "Pero surge una pregunta: ¿cómo se debe escoger el tamaño del paso? Seguro has pasado por esta pregunta. La respuesta dependerá de la función $\\mathbf{f}$ que estemos integrando: si $\\mathbf{f}$ cambia rápido, deberíamos usar un paso más chiquito para resolver los cambios; si cambia más lentamente, podemos utilizar un paso más grande. \n",
    "\n",
    "El problema es que ¡sólo podemos saber esto en medio de la integración!\n",
    "La solución es que utilicemos un método *adaptativo*: el método mismo tiene (cierto) control del tamaño de paso, el cual *se irá cambiando de manera automática*.\n",
    "\n",
    "De hecho, por estas razones, (casi) *nunca* deberíamos utilizar los métodos no-adaptativos como Euler y RK4."
   ]
  },
  {
   "cell_type": "markdown",
   "metadata": {},
   "source": [
    "## Paso adaptativo "
   ]
  },
  {
   "cell_type": "markdown",
   "metadata": {},
   "source": [
    "La manera más sencilla de implementar un paso adaptativo es como sigue.\n",
    "Consideremos el método de Euler para simplicidad. Queremos resolver \n",
    "\n",
    "$$\\dot{x} = f(x).$$\n",
    "\n",
    "Tenemos\n",
    "\n",
    "$$x_{n+1} = x_n + h \\, f(x_n) + \\epsilon_1, (*)$$\n",
    "\n",
    "donde $\\epsilon_1(h) = C \\, h^2$ es el error.\n",
    "Aquí, hemos supuesto que $C$ no depende de $h$. Esto no es realmente cierto (¿por qué?), pero facilita el cálculo.\n",
    "\n",
    "Para ciertos tipos de función $f$ (¿cuáles? -- ¿qué otra forma podríamos utilizar para el término del error?), el término del error será grande.\n",
    "¿Cómo podemos *estimar* el tamaño de este término?\n",
    "\n",
    "Una idea es el de tomar *dos* pasos, de tamaño $h/2$."
   ]
  },
  {
   "cell_type": "markdown",
   "metadata": {},
   "source": [
    "[1] Encuentra la expresión para $x_n$ si se toman dos pasos de tamaño $h/2$, \n",
    "donde $x_{n+\\frac{1}{2}}$ es el lugar intermedio.\n",
    "Substrae los dos resultados del método de Euler para encontrar el tamaño del error $\\epsilon$."
   ]
  },
  {
   "cell_type": "markdown",
   "metadata": {},
   "source": [
    "Si el $\\epsilon < \\mathrm{tol}$, una cierta tolerancia que imponemos, entonces el paso es exitoso, y actualizamos las variables. En este caso, la función está variando lentamente, así que podemos *incrementar* el tamaño del paso. \n",
    "Si no es exitoso, reducimos la tolerancia. En los dos casos, podemos actualizar según una regla de la forma\n",
    "\n",
    "$$ h' = 0.9 h \\, \\frac{\\mathrm{tol}}{|\\epsilon|}.$$\n"
   ]
  },
  {
   "cell_type": "markdown",
   "metadata": {},
   "source": [
    "[2] (i) Implementa un método adaptativo de Euler.\n",
    "\n",
    "(ii) Prúebalo para un sistema que hemos estudiado donde fracasa Euler. ¿Ayuda?"
   ]
  },
  {
   "cell_type": "markdown",
   "metadata": {},
   "source": [
    "## Métodos de Runge-Kutta adaptativos "
   ]
  },
  {
   "cell_type": "markdown",
   "metadata": {},
   "source": [
    "Supongamos que hiciéramos la misma idea para Runge-Kutta 4."
   ]
  },
  {
   "cell_type": "markdown",
   "metadata": {},
   "source": [
    "[3] ¿Cuántas evaluaciones de la función $f$ se requieren para llevar a cabo un paso de tamaño $h$?"
   ]
  },
  {
   "cell_type": "markdown",
   "metadata": {},
   "source": [
    "Dado que esto puede ser caro, hay una mejor solución. Resulta que hay métodos de Runge-Kutta (\"embedded\") en los cuales podemos utilizar las *mismas* evaluaciones de la función $f$ en los mismos lugares del intervalo $[t, t+h]$, y nos da *dos* estimados diferentes de $x(t+h)$, con dos órdenes de error distintos. Esto se puede aplicar de la misma forma para controlar el tamaño de paso, pero con menos evaluaciones de $f$ en cada paso."
   ]
  },
  {
   "cell_type": "markdown",
   "metadata": {},
   "source": [
    "** [4] Encuentra un ejemplo e impleméntalo."
   ]
  },
  {
   "cell_type": "markdown",
   "metadata": {},
   "source": [
    "## Un paquete para EDOs "
   ]
  },
  {
   "cell_type": "markdown",
   "metadata": {},
   "source": [
    "Dado que es medio complicado, resulta que ya existe un paquete en Julia que implementa algunos métodos de RK adaptativos: [`ODE.jl`](https://github.com/JuliaLang/ODE.jl)"
   ]
  },
  {
   "cell_type": "markdown",
   "metadata": {},
   "source": [
    "[5] (i) Instala el paquete. \n",
    "\n",
    "(ii) Lee las instrucciones y anota si algo no te queda claro.\n",
    "\n",
    "(iii) Escribe un breve resumen de cómo se utilizan las funciones del paquete y qué tipo de objeto regresan, usando un ejemplo sencillo, por ejemplo, el péndulo simple.\n",
    "\n",
    "(iv) Utiliza todos los métodos disponibles en el paquete y compáralos con los tuyos no-adaptativos en algún problema difícil. ¿Cuál está mejor? ¿Cómo se comparan el tiempo que tarde cuada uno?\n",
    "\n",
    "(v) Escribe un pedazo de la documentación que no hayas entendido de forma más claro. (Puede ser en español.)"
   ]
  }
 ],
 "metadata": {
  "kernelspec": {
   "display_name": "Julia 0.3.11",
   "language": "julia",
   "name": "julia-0.3"
  },
  "language_info": {
   "file_extension": ".jl",
   "mimetype": "application/julia",
   "name": "julia",
   "version": "0.3.11"
  }
 },
 "nbformat": 4,
 "nbformat_minor": 0
}
