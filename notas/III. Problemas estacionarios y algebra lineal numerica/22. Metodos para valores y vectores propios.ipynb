{
 "cells": [
  {
   "cell_type": "markdown",
   "metadata": {},
   "source": [
    "# Eigenvalores y eigenvectores "
   ]
  },
  {
   "cell_type": "markdown",
   "metadata": {},
   "source": [
    "Otro problema crucial de la álgebra lineal, y, por lo tanto, de la álgebra lineal numérica, es encontrar valores y vectores propios, también llamados eigenvalores y eigenvectores (\"eigen\" = \"propio\" en alemán).\n",
    "\n",
    "Recordemos que $\\mathbf{v}$ es un eigenvector con eigenvalor $\\lambda \\in \\mathbb{C}$ de la matriz $\\mathsf{M}$ si\n",
    "\n",
    "$$\\mathsf{M} \\cdot \\mathbf{v} = \\lambda \\, \\mathbf{v},$$\n",
    "\n",
    "es decir que la dirección de $\\mathbf{v}$ es invariante bajo la transformación $\\mathsf{M}$, pero se puede estirar."
   ]
  },
  {
   "cell_type": "markdown",
   "metadata": {},
   "source": [
    "¿Por qué son importantes este tipo de problemas? La respuesta es porque surgen cuando queremos encontrar los modos normales de un conjunto de osciladores acoplados, o las energías posibles de un sistema cuántico.\n",
    "\n",
    "Por ejemplo, consideremos el problema de encontrar las energías y estados posibles de una partícula libre en una caja finita de longitud $L$. El problema se reduce a encontrar los valores posibles de $E$ y $\\psi$ que satisfacen la ecuación de Helmholtz,\n",
    "\n",
    "$$\\nabla^2 \\psi = E \\psi$$\n",
    "\n",
    "con condiciones dadas en la frontera, por ejemplo que $\\psi(x=0) = \\psi(x=L) = 0$."
   ]
  },
  {
   "cell_type": "markdown",
   "metadata": {},
   "source": [
    "[1] Ya sabemos discretizar el operador $\\nabla^2$. Define la matriz correspondiente."
   ]
  },
  {
   "cell_type": "markdown",
   "metadata": {},
   "source": [
    "## El método de potencias "
   ]
  },
  {
   "cell_type": "markdown",
   "metadata": {},
   "source": [
    "No puede haber métodos directos para calcular eigenvalores para matrices generales, ya que los eigenvalores satisfacen la ecuación polinomial $\\mathrm{det}(\\mathsf{M} - \\lambda \\mathsf{I}) = 0$, y sabemos que no podemos reolver exactamente las ecuaciones polinomiales de grado $>4$.\n",
    "\n",
    "Por lo tanto, debemos considerar métodos iterativos."
   ]
  },
  {
   "cell_type": "markdown",
   "metadata": {},
   "source": [
    "Un método iterativo sencillo para calcular un eigenvalor de una matriz es el **método de potencias**. Consiste en calcular potencias de la matriz $\\mathsf{M}$, aplicadas a un vector $\\mathbf{v}$ inicial arbitrario (no-cero).\n",
    "\n",
    "El algoritmo es como sigue. Escoge un vector inicial arbitrario y aplica $\\mathsf{M}$ a este vector. Luego aplica $\\mathsf{M}$ al resultado, y así sucesivamente.\n"
   ]
  },
  {
   "cell_type": "markdown",
   "metadata": {},
   "source": [
    "[1] (i) Escribe una función que implementa este método.\n",
    "\n",
    "(ii) Considera una matriz $\\mathbf{M}$ de $2 \\times 2$, e.g. $\\begin{pmatrix} 2 & 1 \\\\ 1 & 1 \\end{pmatrix}$. \n",
    "Aplica el método. Imprime los resultados después de cada paso. ¿Cuál problema observas?\n",
    "\n",
    "(iii) ¿Cuál es la solución a este problema? Impleméntalo. \n",
    "\n",
    "(iv) Calcula a mano los eigenvalores y eigenvectores de tu matriz. ¿Funciona el método? ¿Cuál eigenvector y eigenvalor te da?\n",
    "\n",
    "(v) Supón que la matriz $\\mathsf{M}$ cuenta con una base completa de eigenvectores $\\mathbf{v}_i$. Descompone un vector inicial arbitrario $\\mathbf{v}$ como una combinación lineal de los eigenvectores, e investiga el resultado de aplicar $\\mathsf{M}^n$ a este vector inicial. Así, explica el comportamiento del método."
   ]
  },
  {
   "cell_type": "markdown",
   "metadata": {},
   "source": [
    "[2] Aplica el método a la matriz de discretización de la partícula libre. ¿Cuál eigenvalor está calculando? ¿Qué ocurre?"
   ]
  },
  {
   "cell_type": "markdown",
   "metadata": {},
   "source": [
    "[Opcional] [3] Extiende el método de potencias para calcular varios eigenvalores y eigenvectores de una matriz **simétrica**. [Pista: ¿cuál propiedad especial tienen las matrices simétricas, en términos de eigenvalores y eigenvectores?] "
   ]
  },
  {
   "cell_type": "markdown",
   "metadata": {},
   "source": [
    "## Facilidades de Julia para álgebra lineal numérica "
   ]
  },
  {
   "cell_type": "markdown",
   "metadata": {},
   "source": [
    "Resulta que Julia cuenta con facilidades muy completas para llevar a cabo tareas de álgebra lineal numérica. \n",
    "Provee un interfaz fácil de utilizar a librerías estándares como LAPACK.\n",
    "Para nuestros fines, dos de los más importantes son los siguientes.\n",
    "\n",
    "- Para resolver el sistema de ecuaciones lineales $\\mathsf{A} \\cdot \\mathbf{x} = \\mathbf{b}$, hacemos\n",
    "\n",
    "    A \\ b\n",
    "    \n",
    "[La notación rara surge así. `b / A` se puede considerar como $b \\, A^{-1}$. De la misma forma, `A \\ b` denote $A^{-1} \\, b$. Nótese que numéricamente **nunca** calculamos explícitamente la inversa de una matriz. Siempre resolvemos un sistema de ecuaciones].\n",
    "\n",
    "¿Qué algoritmo utiliza? Resulta que es inteligente: intenta escoger el algoritmo más adecuado para un problema dado."
   ]
  },
  {
   "cell_type": "markdown",
   "metadata": {},
   "source": [
    "- Problemas de eigenvalores y eigenvectores\n",
    "\n",
    "El cálculo de eigenvalores y eigenvectores en general es un área complicada. Julia provee, de nuevo, un interfaz sencillo a algoritmos ya probados. La sintaxis es\n",
    "\n",
    "    eig(A)\n",
    "    eigvals(A)\n",
    "    eigvecs(A)"
   ]
  },
  {
   "cell_type": "markdown",
   "metadata": {},
   "source": [
    "[4] Calcula los eigenvalores y eigenvectores de la matriz de discretización del operador de Schrödinger para una partícula libre. Compáralos con los resultados analíticos. ¿Qué observas?\n",
    "\n",
    "[Opcional] [5] Haz lo mismo para el oscilador armónico."
   ]
  }
 ],
 "metadata": {
  "kernelspec": {
   "display_name": "Julia 0.4.0",
   "language": "julia",
   "name": "julia-0.4"
  },
  "language_info": {
   "file_extension": ".jl",
   "mimetype": "application/julia",
   "name": "julia",
   "version": "0.4.0"
  }
 },
 "nbformat": 4,
 "nbformat_minor": 0
}
