{
 "cells": [
  {
   "cell_type": "markdown",
   "metadata": {},
   "source": [
    "# Repetición"
   ]
  },
  {
   "cell_type": "markdown",
   "metadata": {},
   "source": [
    "Muy seguido, es necesario poder repetir un cálculo muchas veces, cambiando lo que se calcula de una forma determinada. Esto suele hacerse con *bucles* / *ciclos* / *loops*. En Julia, muchos cálculos de este estilo se pueden escribir de una forma más breve."
   ]
  },
  {
   "cell_type": "markdown",
   "metadata": {},
   "source": [
    "## Rangos"
   ]
  },
  {
   "cell_type": "markdown",
   "metadata": {},
   "source": [
    "Un rango se escribe con dos puntos, `:`, y genera un tipo de objeto especial que genera todos los números entre su principio y fin:"
   ]
  },
  {
   "cell_type": "code",
   "execution_count": 6,
   "metadata": {
    "collapsed": false
   },
   "outputs": [
    {
     "data": {
      "text/plain": [
       "1:10"
      ]
     },
     "execution_count": 6,
     "metadata": {},
     "output_type": "execute_result"
    }
   ],
   "source": [
    "1:10"
   ]
  },
  {
   "cell_type": "markdown",
   "metadata": {},
   "source": [
    "[1] ¿Qué tipo tiene este objeto?\n"
   ]
  },
  {
   "cell_type": "markdown",
   "metadata": {},
   "source": [
    "Los números que producirá se pueden ver al incluir el rango en corchetes, `[` y `]`:"
   ]
  },
  {
   "cell_type": "code",
   "execution_count": 7,
   "metadata": {
    "collapsed": false
   },
   "outputs": [
    {
     "data": {
      "text/plain": [
       "10-element Array{Int64,1}:\n",
       "  1\n",
       "  2\n",
       "  3\n",
       "  4\n",
       "  5\n",
       "  6\n",
       "  7\n",
       "  8\n",
       "  9\n",
       " 10"
      ]
     },
     "execution_count": 7,
     "metadata": {},
     "output_type": "execute_result"
    }
   ],
   "source": [
    "[1:10]"
   ]
  },
  {
   "cell_type": "markdown",
   "metadata": {},
   "source": [
    "[2] ¿De qué tipo es este nuevo objeto?\n",
    "\n",
    "[3] Se puede incluir un tamaño de paso como un tercer \"argumento\". Encuentra la sintaxis."
   ]
  },
  {
   "cell_type": "markdown",
   "metadata": {},
   "source": [
    "Hay ciertas funciones que aceptan rangos como argumentos, incluyendo `sum` y `prod` para sumas y productos.\n",
    "\n",
    "[4] Calcula la suma de los primeros 100 enteros.\n",
    "\n",
    "[5] ¿Puedes calcular el producto de los primeros 100 enteros de esta manera?"
   ]
  },
  {
   "cell_type": "markdown",
   "metadata": {},
   "source": [
    "## Arreglos por comprensión"
   ]
  },
  {
   "cell_type": "markdown",
   "metadata": {},
   "source": [
    "Julia tiene una sintaxis muy poderosa para operar fácilmente sobre una secuencia de números para dar otro: *arreglos por comprensión*. \n",
    "\n",
    "Podemos pensar en un arreglo como una lista, o secuencia, o conjunto de datos.\n",
    "\n",
    "En matemáticas, hay una notación muy bonita para especifar, por ejemplo, el conjunto de los cuadrados de los primeros diez enteros:\n",
    "\n",
    "$$\\{ x^2 : x \\in \\{1, \\ldots, 10 \\} \\}$$\n",
    "\n",
    "Podemos hacer algo muy similar en Julia:"
   ]
  },
  {
   "cell_type": "code",
   "execution_count": 15,
   "metadata": {
    "collapsed": false
   },
   "outputs": [
    {
     "data": {
      "text/plain": [
       "10-element Array{Int64,1}:\n",
       "   1\n",
       "   4\n",
       "   9\n",
       "  16\n",
       "  25\n",
       "  36\n",
       "  49\n",
       "  64\n",
       "  81\n",
       " 100"
      ]
     },
     "execution_count": 15,
     "metadata": {},
     "output_type": "execute_result"
    }
   ],
   "source": [
    "[x^2 for x in 1:10]"
   ]
  },
  {
   "cell_type": "markdown",
   "metadata": {},
   "source": [
    "Podemos leer esto como \"la lista de $x^2$ *para* ('for') $x$ de 1 hasta 10\", o \"la lista de los cuadrados de los números de 1 a 10$.\n",
    "\n",
    "[6] Utiliza la función `sum` para calcular la suma de estos cuadrados.\n",
    "\n",
    "[7] Haz una función `my_exp` que calcula el exponencial usando estas ideas."
   ]
  },
  {
   "cell_type": "markdown",
   "metadata": {},
   "source": [
    "# Arreglos"
   ]
  },
  {
   "cell_type": "markdown",
   "metadata": {},
   "source": [
    "Nosotros también podemos crear arreglos de forma directa: ponemos los elementos dentro de corchetes:"
   ]
  },
  {
   "cell_type": "code",
   "execution_count": 17,
   "metadata": {
    "collapsed": false
   },
   "outputs": [
    {
     "data": {
      "text/plain": [
       "3-element Array{Int64,1}:\n",
       " 3\n",
       " 4\n",
       " 7"
      ]
     },
     "execution_count": 17,
     "metadata": {},
     "output_type": "execute_result"
    }
   ],
   "source": [
    "arreglo1 = [3, 4, 7]"
   ]
  },
  {
   "cell_type": "markdown",
   "metadata": {},
   "source": [
    "[7] ¿De qué tipo es `arreglo1`?\n",
    "\n",
    "[8] ¿Qué pasa con el tipo si defines un nuevo arreglo con elementos que son decimales? "
   ]
  },
  {
   "cell_type": "markdown",
   "metadata": {},
   "source": [
    "Ahora podemos operar sobre los elementos del arreglo de la misma forma que con rangos:"
   ]
  },
  {
   "cell_type": "code",
   "execution_count": 18,
   "metadata": {
    "collapsed": false
   },
   "outputs": [
    {
     "data": {
      "text/plain": [
       "3-element Array{Any,1}:\n",
       "  9\n",
       " 16\n",
       " 49"
      ]
     },
     "execution_count": 18,
     "metadata": {},
     "output_type": "execute_result"
    }
   ],
   "source": [
    "cuadrados = [x^2 for x in arreglo1]"
   ]
  },
  {
   "cell_type": "markdown",
   "metadata": {},
   "source": [
    "# Graficación"
   ]
  },
  {
   "cell_type": "markdown",
   "metadata": {},
   "source": [
    "Ahora que somos capaces de producir datos interesantes, se nos antoja *visualizarlos*, es decir, graficarlos.\n",
    "\n",
    "Hay varios paquetes gráficos en Julia, todavía en desarrollo. Tal vez el más maduro es `PyPlot`, que provee un interfaz juliano al paquete `matplotlib` de Python para graficar.\n",
    "\n",
    "Para utilizarlo, es necesario primero instalar el paquete:"
   ]
  },
  {
   "cell_type": "code",
   "execution_count": 19,
   "metadata": {
    "collapsed": false
   },
   "outputs": [
    {
     "name": "stderr",
     "output_type": "stream",
     "text": [
      "INFO: Nothing to be done\n",
      "INFO: METADATA is out-of-date — you may not have the latest version of PyPlot\n",
      "INFO: Use `Pkg.update()` to get the latest versions of your packages\n"
     ]
    }
   ],
   "source": [
    "Pkg.add(\"PyPlot\")"
   ]
  },
  {
   "cell_type": "markdown",
   "metadata": {},
   "source": [
    "y luego cargarlo:"
   ]
  },
  {
   "cell_type": "code",
   "execution_count": 1,
   "metadata": {
    "collapsed": false
   },
   "outputs": [
    {
     "name": "stderr",
     "output_type": "stream",
     "text": [
      "INFO: Loading help data...\n"
     ]
    }
   ],
   "source": [
    "using PyPlot  # \"using\" == \"usando\""
   ]
  },
  {
   "cell_type": "markdown",
   "metadata": {},
   "source": [
    "[1] Crea un arreglo `x` con números igualmente espaciados de -3 a 3 y un paso chiquito.\n",
    "\n",
    "[2] Crea un arreglo `y` que corresponde a la función $3x^2 - 2$.\n",
    "\n",
    "[3] Usa la función `plot` de `PyPlot` para graficar la función.\n",
    "\n",
    "[4] Utiliza la ayuda de la función [`?plot` o `help(plot)`] para cambiar el estilo de la gráfica para utilizar líneas rojas y puntos verdes.\n",
    "\n",
    "[5] Busca cómo agregar etiquetas a los ejes (lo cual debe hacerse en *cualquier* gráfica) y un título global, así como una leyenda."
   ]
  },
  {
   "cell_type": "markdown",
   "metadata": {},
   "source": [
    "## Tiro parabólico"
   ]
  },
  {
   "cell_type": "markdown",
   "metadata": {},
   "source": [
    "[6] Haz una función que calcula la trayectoria de una partícula en tiro parabólico con una velocidad inicial dada.\n",
    "\n",
    "[7] Grafica distintas trayectorias con la misma rapidez inicial pero distintos ángulos iniciales, y comprobar gráficamente para cuál ángulo se tiene el máximo alcance."
   ]
  }
 ],
 "metadata": {
  "kernelspec": {
   "display_name": "Julia 0.3.8-pre",
   "language": "julia",
   "name": "julia 0.3"
  },
  "language_info": {
   "name": "julia",
   "version": "0.3.9"
  }
 },
 "nbformat": 4,
 "nbformat_minor": 0
}
