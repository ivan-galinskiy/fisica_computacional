{
 "cells": [
  {
   "cell_type": "markdown",
   "metadata": {},
   "source": [
    "# Integración numérica "
   ]
  },
  {
   "cell_type": "markdown",
   "metadata": {},
   "source": [
    "A menudo en la física, es necesario evaluar integrales feas. (La verdad es que casi todas las integrales son feas...) Mientras que la diferenciación es un proceso que se puede llevar a cabo de manera algorítmica, siguiendo una receta, la integración no lo es. De hecho, se puede demostrar que hay integrales que no se pueden llevar a cabo de forma analítica en términos de las funciones elementales. Un ejemplo es el siguiente ejemplo famoso\n",
    "\n",
    "$$I = \\int_0^\\infty e^{-x^2} \\, dx.$$"
   ]
  },
  {
   "cell_type": "markdown",
   "metadata": {},
   "source": [
    "Por lo tanto, necesitamos encontrar maneras de aproximar integrales definidas de forma numérica.\n",
    "\n",
    "Recordemos que la integral \n",
    "\n",
    "$$I = \\int_a^b f(x) \\, dx$$ \n",
    "\n",
    "representa el **área debajo de la curva $y=f(x)$ entre $a$ y $b$**. Este punto de vista nos permite desarrollar métodos de aproximación numérica."
   ]
  },
  {
   "cell_type": "markdown",
   "metadata": {},
   "source": [
    "[1] Una manera natural de proceder es el dividir el intervalo $[a,b]$ en un número $N$ de sub-intervalos de igual tamaño $h$. \n",
    "\n",
    "(i) Esboza (con papel y lápiz) una función *monótona* $f$. Pensando en esta sub-división del intervalo, ¿cuál es la manera más sencilla de aproximar el área del \"pedazo\" de área sobre el intervalo $[a,b]$? \n",
    "\n",
    "(ii) ¿Cómo podríamos calcular tanto una cota inferior como una cota superior, suponiendo que $f$ es monótona.\n",
    "\n",
    "(iii) Escribe una función que calcule estas áreas dadas $f$, $a$, $b$ y $N$.\n",
    "\n",
    "(iv) Verifica que funcione al integrar una función conocida, por ejemplo $f(x) = x$.\n",
    "\n",
    "(v) ¿Cuál es la tasa de convergencia hacia el resultado analítico cuando $h \\to 0$?\n",
    "\n",
    "[2] Aplica tu función para calcular una cota inferior y una cota superior para el valor de $\\pi$. [Pista: piensa en un cuarto de círculo.] ¿Converge la aproximación a la misma velocidad?"
   ]
  },
  {
   "cell_type": "markdown",
   "metadata": {},
   "source": [
    "[3] Piensa en la siguiente aproximación más sencillo del área en un intervalo $[a,b]$.\n",
    "\n",
    "(i) ¿Cuál es? Pensando en aproximar *la función $f$*, ¿a qué corresponde esta aproximación? \n",
    "\n",
    "(ii) Impleméntalo. Nota que este método funciona para *cualquier* función $f$, sin que tenga que ser monótona. \n",
    "\n",
    "(iii) ¿Cuál es la tasa de convergencia? ¿Cómo se compara con el método de la pregunta [1]?"
   ]
  },
  {
   "cell_type": "markdown",
   "metadata": {},
   "source": [
    "[4] Piensa en cómo podríamos aproximar mejor la función $f$ en un sub-intervalo.\n",
    "\n",
    "(i) ¿Cómo es esta aproximación?\n",
    "\n",
    "(ii) Implémentalo y encuentra su tasa de convergencia."
   ]
  },
  {
   "cell_type": "markdown",
   "metadata": {},
   "source": [
    "[5] Escribe los distintos métodos en términos de sumas de los valores $f(x_i)$ en los puntos $x_i$ de la malla. Nota que no es necesario que los sub-intervalos sean del mismo tamaño."
   ]
  }
 ],
 "metadata": {
  "kernelspec": {
   "display_name": "Julia 0.3.11-pre",
   "language": "julia",
   "name": "julia-0.3"
  },
  "language_info": {
   "name": "julia",
   "version": "0.3.12"
  }
 },
 "nbformat": 4,
 "nbformat_minor": 0
}
