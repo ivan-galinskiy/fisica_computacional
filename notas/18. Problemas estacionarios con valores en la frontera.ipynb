{
 "cells": [
  {
   "cell_type": "markdown",
   "metadata": {},
   "source": [
    "Hasta ahora, hemos estudiado únicamente **ecuaciones de evolución**, o sea, problemas **con valores iniciales**, en el cual se quiere determinar la evolución temporal de la solución, tanto para EDOs como para EDPs.\n",
    "\n",
    "Otra clase fundamental de problemas son los **problemas estacionarios** o **problemas estáticos**, también llamados **problemas con valores en la frontera**. En este tipo de problemas, se busca una solución estacionaria, es decir, una solución que *no* cambia en el tiempo, pero que depende del espacio.\n",
    "\n",
    "Este tipo de problemas surge en distintos contextos. Por ejemplo, si resolvemos la ecuación de difusión con condiciones de Dirichlet dadas que no sean cero, la solución temporal *converge* a una solución estacionaria. ¿Podemos calcular directamente esta solución estacionaria? Los problemas estacionarios también ocurren naturalmente al resolver, por ejemplo, las ecuaciones de Laplace y de Poisson para determinar el potencial (y de ahí el campo) eléctrico para una configuración dada de cargas y fronteras."
   ]
  },
  {
   "cell_type": "markdown",
   "metadata": {},
   "source": [
    "## La ecuación de Laplace "
   ]
  },
  {
   "cell_type": "markdown",
   "metadata": {},
   "source": [
    "Consideremos el problema de encontrar el campo de potencial debido a una carga fija colocada entre dos placas de un capacitor. El campo de potencial $V$ satisface la ecuación de Poisson,\n",
    "\n",
    "$$ \\nabla^2 V(\\mathbf{x}) = -\\rho(\\mathbf{x}), $$\n",
    "\n",
    "donde $\\rho(\\mathbf{x})$ es la densidad de carga en unidades adecuadas.\n",
    "\n",
    "con los valores en la frontera  $V = V_1$ y $V = V_2$ en las dos placas.\n",
    "\n",
    "Para comenzar, reduzcamos el problema a una sola dimensión. Entonces la ecuación se vuelve\n",
    "\n",
    "$$ \\frac{d^2 V(x)}{dx^2} = -\\rho(x), $$ \n",
    "\n",
    "para todas las $x$,\n",
    "con los potenciales en las placas $V(a) = x_1$ y $V(b) = x_2$,\n",
    "es decir, una EDO con valores en la frontera.\n",
    "\n",
    "Este tipo de problema es de una naturaleza *completamente diferente* de los que hemos visto anteriormente en EDOs, ya que no hay evolución en el tiempo. "
   ]
  },
  {
   "cell_type": "markdown",
   "metadata": {},
   "source": [
    "[1] Discretiza la ecuación con una malla en el espacio, tal como hicimos para la ecuación de difusión. ¿Cuál ecuación discretizada se satisface en un sitio $i$? ¿Si hay una sola carga puntual, cuáles sitios son especiales?\n",
    "\n",
    "[2] Dado que ya no hay evolución en el tiempo, todas las ecuaciones para todos los sitios $i$ **se deben cumplir simultáneamente**. ¿Qué tipo de problema resulta? Escríbele bajo una forma útil. ¿Cuál tipo de método conoces para resolver problemas de este tipo?"
   ]
  },
  {
   "cell_type": "markdown",
   "metadata": {},
   "source": [
    "[3] Trabaja este método en el notebook 19.\n",
    "\n",
    "[4] Utiliza lo que hayas desarrollado en el notebook 19 para resolver el problema del potencial en la presencia de una carga en una dimensión. ¿Tiene sentido físico el resultado?"
   ]
  }
 ],
 "metadata": {
  "kernelspec": {
   "display_name": "Julia 0.4.0",
   "language": "julia",
   "name": "julia-0.4"
  },
  "language_info": {
   "file_extension": ".jl",
   "mimetype": "application/julia",
   "name": "julia",
   "version": "0.4.0"
  }
 },
 "nbformat": 4,
 "nbformat_minor": 0
}
