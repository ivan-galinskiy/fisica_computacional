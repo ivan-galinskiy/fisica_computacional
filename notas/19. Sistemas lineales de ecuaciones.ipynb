{
 "cells": [
  {
   "cell_type": "markdown",
   "metadata": {},
   "source": [
    "# Eliminación gaussiana"
   ]
  },
  {
   "cell_type": "markdown",
   "metadata": {},
   "source": [
    "Considera el sistema de ecuaciones lineales\n",
    "\n",
    "$$ \\mathsf{A} \\cdot \\mathbf{x} = \\mathbf{b}. \\qquad (1)$$\n",
    "\n",
    "Aquí, $\\mathsf{A}$ es una matriz cuadrada dada, de tamaño $n \\times n$, y $\\mathbf{b}$ es un vector dado en $\\mathbb{R}^n$. Queremos resolver esta ecuación para encontrar el vector desconocido $\\mathbf{x}$ en $\\mathbb{R}^n$.\n",
    "\n",
    "Recuerda que podemos resolver este sistema usando el método de eliminación gaussiana, que consiste en llevar a cabo operaciones de renglón, tanto para la matriz $\\mathsf{A}$ como el vector $\\mathbf{b}$, para reducir $\\mathsf{A}$ a una forma triangular.\n",
    "\n",
    "[En este notebook, debes implementar los métodos numéricos \"a mano\" en la computadora, sin utilizar ningún método ni paquete de Julia ya implementado.]"
   ]
  },
  {
   "cell_type": "markdown",
   "metadata": {},
   "source": [
    "[1] Escribe la ecuación (1) utilizando índices.\n",
    "\n",
    "[2] Considera la ecuación $\\mathsf{U} \\cdot \\mathbf{x} = \\mathbf{c}$, en la cual $\\mathsf{U}$ es una matriz triangular superior (\"*U*pper triangular\") \n",
    "\n",
    "(i) ¿Cuál es la condición para que una matriz sea triangular superior? \n",
    "\n",
    "(ii) ¿Cómo se puede resolver esta ecuación? Piensa primero en un caso chiquito, e.g. $3 \\times 3$ con entradas $U_{11}$ etc., para que puedas hacer todo explícitamente.\n",
    "\n",
    "(iii) Implementa este método para una matriz triangular superior arbitraria.\n",
    "\n",
    "(iv) Verifica que tu método numérico funciona, es decir ¡que el resultado sí sea una solución de la ecuación original!\n",
    "\n",
    "[3] (i) Escribe, a mano, el método de eliminación gaussiana para reducir una matriz de $2 \\times 2$ a una matriz triangular superior, en términos de operaciones de renglón. ¿Qué se debe hacer al lado derecho de la ecuación? Supón (por el momento) que no hay problemas con dividir por cero. \n",
    "\n",
    "(ii) Impleméntalo numéricamente. Utiliza tu código para resolver las ecuaciones\n",
    "\n",
    "\\begin{align} \n",
    "    3x + 7y &= 1; \\\\\n",
    "    2x + 4y &= 1, \\\\\n",
    "\\end{align}\n",
    "\n",
    "y, por supuesto, ¡verifica que la solución que encuentres realmente sí sea solución de la ecuación!\n",
    "\n",
    "[4] (i) Implementa el método de eliminación gaussiana para una matriz de tamaño $3 \\times 3$,  y luego para una matriz abitraria para resolver la ecuación (1) general. Puedes utilizar la rutina que ya tienes para resolver el sistema triangular superior. Sigue suponiendo que no haya divisiones entre 0.\n",
    "\n",
    "(ii) Utilízalo para resolver las ecuaciones\n",
    "\n",
    "\\begin{align}\n",
    "    2x + y -  z &=   8; \\\\\n",
    "   -3x - y + 2z &= -11; \\\\\n",
    "   -2x + y + 2x &=  -3.\n",
    "\\end{align}"
   ]
  },
  {
   "cell_type": "markdown",
   "metadata": {},
   "source": [
    "[5] (i) Una operación de renglón sobre una matriz $\\mathsf{A}$, como las que se utilizan en el método de eliminación gaussiana, se puede escribir como una multiplicación de $\\mathsf{A}$ con otra matriz $\\mathsf{L}$. ¿Cuál? ¿Qué propiedad tiene $\\mathsf{L}$?\n",
    "\n",
    "(ii) Considerando que el método de eliminación gaussiana consiste en una secuencia de operaciones de renglón, y que produce una matriz triangular superior, ¿de qué forma se puede escribir $\\mathsf{A}$? [Piensa en términos abstractos sobre la forma que tienen las matrices involucradas.]\n",
    "\n",
    "(iii) ¿Qué implica esto si es necesario para un problema dado que se resuelvan muchas ecuaciones de la forma $\\mathsf{A} \\cdot \\mathbf{x}^{(i)} = \\mathbf{b}^{(i)}$, para distintos lados derechos $\\mathbf{b}$?"
   ]
  }
 ],
 "metadata": {
  "kernelspec": {
   "display_name": "Julia 0.4.0",
   "language": "julia",
   "name": "julia-0.4"
  },
  "language_info": {
   "file_extension": ".jl",
   "mimetype": "application/julia",
   "name": "julia",
   "version": "0.4.0"
  }
 },
 "nbformat": 4,
 "nbformat_minor": 0
}
