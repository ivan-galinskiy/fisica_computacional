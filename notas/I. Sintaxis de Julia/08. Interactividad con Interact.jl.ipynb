{
 "cells": [
  {
   "cell_type": "markdown",
   "metadata": {},
   "source": [
    "# Paquetes"
   ]
  },
  {
   "cell_type": "markdown",
   "metadata": {},
   "source": [
    "Nueva funcionalidad en Julia se adquiere a través de *paquetes*, que son básicamente archivos de Julia que definen funciones nuevas.\n",
    "\n",
    "El gestor de paquetes se llama `Pkg`. Conoce la ubicación de todos los paquetes ya registrados. Para actualizarlo hacemos:"
   ]
  },
  {
   "cell_type": "code",
   "execution_count": 1,
   "metadata": {
    "collapsed": false
   },
   "outputs": [
    {
     "name": "stderr",
     "output_type": "stream",
     "text": [
      "INFO: Updating METADATA...\n",
      "INFO: Updating cache of NaNMath...\n",
      "INFO: Updating cache of Showoff...\n",
      "INFO: Updating cache of GZip...\n",
      "INFO: Updating cache of LaTeXStrings...\n",
      "INFO: Updating cache of Loess...\n",
      "INFO: Updating cache of PDMats...\n",
      "INFO: Updating cache of DualNumbers...\n",
      "INFO: Updating cache of Iterators...\n",
      "INFO: Updating cache of PyCall...\n",
      "INFO: Updating cache of SortingAlgorithms...\n",
      "INFO: Updating cache of ArrayViews...\n",
      "INFO: Updating cache of ZMQ...\n",
      "INFO: Updating cache of IJulia...\n",
      "INFO: Updating cache of BinDeps...\n",
      "INFO: Updating cache of Grid...\n",
      "INFO: Updating cache of Distributions...\n",
      "INFO: Updating cache of Interact...\n",
      "INFO: Updating cache of Reactive...\n",
      "INFO: Updating cache of Compose...\n",
      "INFO: Updating cache of HttpCommon...\n",
      "INFO: Updating cache of Calculus...\n",
      "INFO: Updating cache of DataStructures...\n",
      "INFO: Updating cache of Optim...\n",
      "INFO: Updating cache of StatsBase...\n",
      "INFO: Updating cache of Gadfly...\n",
      "INFO: Updating cache of FixedPointNumbers...\n",
      "INFO: Updating cache of Nettle...\n",
      "INFO: Updating cache of ColorTypes...\n",
      "INFO: Updating cache of Colors...\n",
      "INFO: Updating cache of Compat...\n",
      "INFO: Updating cache of Docile...\n",
      "INFO: Updating cache of WoodburyMatrices...\n",
      "INFO: Updating cache of StatsFuns...\n",
      "INFO: Updating cache of JSON...\n",
      "INFO: Updating cache of PyPlot...\n",
      "INFO: Updating cache of URIParser...\n",
      "INFO: Updating cache of SHA...\n",
      "INFO: Updating Interact...\n",
      "INFO: Computing changes...\n",
      "INFO: Cloning cache of Conda from git://github.com/Luthaf/Conda.jl.git\n",
      "INFO: Upgrading ArrayViews: v0.6.3 => v0.6.4\n",
      "INFO: Upgrading BinDeps: v0.3.15 => v0.3.17\n",
      "INFO: Upgrading Calculus: v0.1.10 => v0.1.12\n",
      "INFO: Upgrading ColorTypes: v0.1.3 => v0.1.6\n",
      "INFO: Upgrading Colors: v0.5.2 => v0.5.4\n",
      "INFO: Upgrading Compat: v0.6.0 => v0.7.3\n",
      "INFO: Upgrading Compose: v0.3.14 => v0.3.15\n",
      "INFO: Installing Conda v0.1.7\n",
      "INFO: Upgrading DataStructures: v0.3.12 => v0.3.13\n",
      "INFO: Upgrading Distributions: v0.8.4 => v0.8.7\n",
      "INFO: Upgrading Docile: v0.5.16 => v0.5.19\n",
      "INFO: Upgrading DualNumbers: v0.1.3 => v0.1.4\n",
      "INFO: Upgrading FixedPointNumbers: v0.0.10 => v0.0.11\n",
      "INFO: Upgrading GZip: v0.2.17 => v0.2.18\n",
      "INFO: Upgrading Gadfly: v0.3.14 => v0.3.16\n",
      "INFO: Upgrading Grid: v0.3.10 => v0.3.11\n",
      "INFO: Upgrading Hexagons: v0.0.3 => v0.0.4\n",
      "INFO: Upgrading IJulia: v0.2.5 => v1.1.0\n",
      "INFO: Upgrading Iterators: v0.1.8 => v0.1.9\n",
      "INFO: Upgrading JSON: v0.4.5 => v0.4.6\n",
      "INFO: Upgrading LaTeXStrings: v0.1.4 => v0.1.5\n",
      "INFO: Upgrading Loess: v0.0.3 => v0.0.4\n",
      "INFO: Upgrading NaNMath: v0.1.0 => v0.1.1\n",
      "INFO: Upgrading Nettle: v0.1.10 => v0.2.0\n",
      "INFO: Upgrading Optim: v0.4.2 => v0.4.3\n",
      "INFO: Upgrading PDMats: v0.3.5 => v0.3.6\n",
      "INFO: Upgrading PyCall: v0.8.2 => v1.1.2\n",
      "INFO: Upgrading PyPlot: v2.0.1 => v2.1.1\n",
      "INFO: Upgrading Reactive: v0.2.2 => v0.2.3\n",
      "INFO: Upgrading SHA: v0.1.1 => v0.1.2\n",
      "INFO: Upgrading Showoff: v0.0.4 => v0.0.5\n",
      "INFO: Upgrading SortingAlgorithms: v0.0.5 => v0.0.6\n",
      "INFO: Upgrading StatsBase: v0.7.2 => v0.7.3\n",
      "INFO: Upgrading StatsFuns: v0.1.3 => v0.1.4\n",
      "INFO: Upgrading WoodburyMatrices: v0.1.1 => v0.1.2\n",
      "INFO: Upgrading ZMQ: v0.2.0 => v0.3.0\n",
      "INFO: Removing REPLCompletions v0.0.3\n",
      "INFO: Building Nettle\n",
      "===============================[ ERROR: Nettle ]================================\n",
      "\n",
      "type: instantiate_type: expected TypeConstructor, got Function\n",
      "while loading /home/ivanko/.julia/v0.3/BinDeps/src/dependencies.jl, in expression starting on line 266\n",
      "while loading /home/ivanko/.julia/v0.3/BinDeps/src/BinDeps.jl, in expression starting on line 507\n",
      "while loading /home/ivanko/.julia/v0.3/Nettle/deps/build.jl, in expression starting on line 1\n",
      "\n",
      "================================================================================\n",
      "INFO: Building ZMQ\n",
      "=================================[ ERROR: ZMQ ]=================================\n",
      "\n",
      "provides not defined\n",
      "while loading /home/ivanko/.julia/v0.3/ZMQ/deps/build.jl, in expression starting on line 8\n",
      "\n",
      "================================================================================\n",
      "INFO: Building IJulia\n",
      "===============================[ ERROR: IJulia ]================================\n",
      "\n",
      "generate_steps not defined\n",
      "while loading /home/ivanko/.julia/v0.3/Conda/src/bindeps_conda.jl, in expression starting on line 37\n",
      "while loading /home/ivanko/.julia/v0.3/Conda/src/Conda.jl, in expression starting on line 202\n",
      "while loading /home/ivanko/.julia/v0.3/IJulia/deps/build.jl, in expression starting on line 2\n",
      "\n",
      "================================================================================\n",
      "INFO: Building PyCall\n",
      "INFO: PyCall is using python (Python 3.4.3) at /usr/bin/python, libpython = /usr/lib/libpython3.4m.so\n",
      "\n",
      "================================[ BUILD ERRORS ]================================\n",
      "\n",
      "WARNING: IJulia, Nettle and ZMQ had build errors.\n",
      "\n",
      " - packages with build errors remain installed in /home/ivanko/.julia/v0.3\n",
      " - build the package(s) and all dependencies with `Pkg.build(\"IJulia\", \"Nettle\", \"ZMQ\")`\n",
      " - build a single package by running its `deps/build.jl` script\n",
      "\n",
      "================================================================================\n"
     ]
    }
   ],
   "source": [
    "Pkg.update()"
   ]
  },
  {
   "cell_type": "markdown",
   "metadata": {},
   "source": [
    "Para agregar un paquete nuevo, ponemos:"
   ]
  },
  {
   "cell_type": "code",
   "execution_count": 2,
   "metadata": {
    "collapsed": false
   },
   "outputs": [
    {
     "name": "stderr",
     "output_type": "stream",
     "text": [
      "INFO: Nothing to be done\n"
     ]
    }
   ],
   "source": [
    "Pkg.add(\"Interact\")"
   ]
  },
  {
   "cell_type": "markdown",
   "metadata": {},
   "source": [
    "En el caso de este paquete, cuyo nombre es  `Interact.jl`, resulta que para utilizarlo con IPython versión 3, es necesario usar la versión de desarrollo (\"`master`\") con"
   ]
  },
  {
   "cell_type": "code",
   "execution_count": 3,
   "metadata": {
    "collapsed": false
   },
   "outputs": [
    {
     "name": "stderr",
     "output_type": "stream",
     "text": [
      "INFO: Checking out Interact master...\n",
      "INFO: Pulling Interact latest master...\n",
      "INFO: No packages to install, update or remove\n"
     ]
    }
   ],
   "source": [
    "Pkg.checkout(\"Interact\")"
   ]
  },
  {
   "cell_type": "markdown",
   "metadata": {},
   "source": [
    "# Interactividad"
   ]
  },
  {
   "cell_type": "markdown",
   "metadata": {},
   "source": [
    "Cargamos el paquete `Interact.jl` con"
   ]
  },
  {
   "cell_type": "code",
   "execution_count": 1,
   "metadata": {
    "collapsed": false
   },
   "outputs": [
    {
     "data": {
      "text/html": [
       "<script charset=\"utf-8\">(function ($, undefined) {\n",
       "\n",
       "    function createElem(tag, attr, content) {\n",
       "\t// TODO: remove jQuery dependency\n",
       "\tvar el = $(\"<\" + tag + \"/>\").attr(attr);\n",
       "\tif (content) {\n",
       "\t    el.append(content);\n",
       "\t}\n",
       "\treturn el[0];\n",
       "    }\n",
       "\n",
       "    // A widget must expose an id field which identifies it to the backend,\n",
       "    // an elem attribute which is will be added to the DOM, and\n",
       "    // a getState() method which returns the value to be sent to the backend\n",
       "    // a sendUpdate() method which sends its current value to the backend\n",
       "    var Widget = {\n",
       "\tid: undefined,\n",
       "\telem: undefined,\n",
       "\tlabel: undefined,\n",
       "\tgetState: function () {\n",
       "\t    return this.elem.value;\n",
       "\t},\n",
       "\tsendUpdate: undefined\n",
       "    };\n",
       "\n",
       "    var Slider = function (typ, id, init) {\n",
       "\tvar attr = { type:  \"range\",\n",
       "\t\t     value: init.value,\n",
       "\t\t     min:   init.min,\n",
       "\t\t     max:   init.max,\n",
       "\t\t     step:  init.step },\n",
       "\t    elem = createElem(\"input\", attr),\n",
       "\t    self = this;\n",
       "\n",
       "\telem.onchange = function () {\n",
       "\t    self.sendUpdate();\n",
       "\t}\n",
       "\n",
       "\tthis.id = id;\n",
       "\tthis.elem = elem;\n",
       "\tthis.label = init.label;\n",
       "\n",
       "\tInputWidgets.commInitializer(this); // Initialize communication\n",
       "    }\n",
       "    Slider.prototype = Widget;\n",
       "\n",
       "    var Checkbox = function (typ, id, init) {\n",
       "\tvar attr = { type: \"checkbox\",\n",
       "\t\t     checked: init.value },\n",
       "\t    elem = createElem(\"input\", attr),\n",
       "\t    self = this;\n",
       "\n",
       "\tthis.getState = function () {\n",
       "\t    return elem.checked;\n",
       "\t}\n",
       "\telem.onchange = function () {\n",
       "\t    self.sendUpdate();\n",
       "\t}\n",
       "\n",
       "\tthis.id = id;\n",
       "\tthis.elem = elem;\n",
       "\tthis.label = init.label;\n",
       "\n",
       "\tInputWidgets.commInitializer(this);\n",
       "    }\n",
       "    Checkbox.prototype = Widget;\n",
       "\n",
       "    var Button = function (typ, id, init) {\n",
       "\tvar attr = { type:    \"button\",\n",
       "\t\t     value:   init.label },\n",
       "\t    elem = createElem(\"input\", attr),\n",
       "\t    self = this;\n",
       "\tthis.getState = function () {\n",
       "\t    return null;\n",
       "\t}\n",
       "\telem.onclick = function () {\n",
       "\t    self.sendUpdate();\n",
       "\t}\n",
       "\n",
       "\tthis.id = id;\n",
       "\tthis.elem = elem;\n",
       "\tthis.label = init.label;\n",
       "\n",
       "\tInputWidgets.commInitializer(this);\n",
       "    }\n",
       "    Button.prototype = Widget;\n",
       "\n",
       "    var Text = function (typ, id, init) {\n",
       "\tvar attr = { type:  \"text\",\n",
       "\t\t     placeholder: init.label,\n",
       "\t\t     value: init.value },\n",
       "\t    elem = createElem(\"input\", attr),\n",
       "\t    self = this;\n",
       "\tthis.getState = function () {\n",
       "\t    return elem.value;\n",
       "\t}\n",
       "\telem.onkeyup = function () {\n",
       "\t    self.sendUpdate();\n",
       "\t}\n",
       "\n",
       "\tthis.id = id;\n",
       "\tthis.elem = elem;\n",
       "\tthis.label = init.label;\n",
       "\n",
       "\tInputWidgets.commInitializer(this);\n",
       "    }\n",
       "    Text.prototype = Widget;\n",
       "\n",
       "    var Textarea = function (typ, id, init) {\n",
       "\tvar attr = { placeholder: init.label },\n",
       "\t    elem = createElem(\"textarea\", attr, init.value),\n",
       "\t    self = this;\n",
       "\tthis.getState = function () {\n",
       "\t    return elem.value;\n",
       "\t}\n",
       "\telem.onchange = function () {\n",
       "\t    self.sendUpdate();\n",
       "\t}\n",
       "\n",
       "\tthis.id = id;\n",
       "\tthis.elem = elem;\n",
       "\tthis.label = init.label;\n",
       "\n",
       "\tInputWidgets.commInitializer(this);\n",
       "    }\n",
       "    Textarea.prototype = Widget;\n",
       "\n",
       "    // RadioButtons\n",
       "    // Dropdown\n",
       "    // HTML\n",
       "    // Latex\n",
       "\n",
       "    var InputWidgets = {\n",
       "\tSlider: Slider,\n",
       "\tCheckbox: Checkbox,\n",
       "\tButton: Button,\n",
       "\tText: Text,\n",
       "\tTextarea: Textarea,\n",
       "\tdebug: false,\n",
       "\tlog: function () {\n",
       "\t    if (InputWidgets.debug) {\n",
       "\t\tconsole.log.apply(console, arguments);\n",
       "\t    }\n",
       "\t},\n",
       "\t// a central way to initalize communication\n",
       "\t// for widgets.\n",
       "\tcommInitializer: function (widget) {\n",
       "\t    widget.sendUpdate = function () {};\n",
       "\t}\n",
       "    };\n",
       "\n",
       "    window.InputWidgets = InputWidgets;\n",
       "\n",
       "})(jQuery, undefined);\n",
       "</script>"
      ]
     },
     "metadata": {},
     "output_type": "display_data"
    },
    {
     "data": {
      "text/html": [
       "<div id=\"interact-js-shim\">\n",
       "    <script charset=\"utf-8\">\n",
       "(function (IPython, $, _, MathJax, Widgets) {\n",
       "    $.event.special.destroyed = {\n",
       "\tremove: function(o) {\n",
       "\t    if (o.handler) {\n",
       "\t\to.handler.apply(this, arguments)\n",
       "\t    }\n",
       "\t}\n",
       "    }\n",
       "\n",
       "    var OutputArea = IPython.version >= \"4.0.0\" ? require(\"notebook/js/outputarea\").OutputArea : IPython.OutputArea;\n",
       "\n",
       "    var redrawValue = function (container, type, val) {\n",
       "\tvar selector = $(\"<div/>\");\n",
       "\tvar oa = new OutputArea(_.extend(selector, {\n",
       "\t    selector: selector,\n",
       "\t    prompt_area: true,\n",
       "\t    events: IPython.events,\n",
       "\t    keyboard_manager: IPython.keyboard_manager\n",
       "\t})); // Hack to work with IPython 2.1.0\n",
       "\n",
       "\tswitch (type) {\n",
       "\tcase \"image/png\":\n",
       "            var _src = 'data:' + type + ';base64,' + val;\n",
       "\t    $(container).find(\"img\").attr('src', _src);\n",
       "\t    break;\n",
       "\tdefault:\n",
       "\t    var toinsert = OutputArea.append_map[type].apply(\n",
       "\t\toa, [val, {}, selector]\n",
       "\t    );\n",
       "\t    $(container).empty().append(toinsert.contents());\n",
       "\t    selector.remove();\n",
       "\t}\n",
       "\tif (type === \"text/latex\" && MathJax) {\n",
       "\t    MathJax.Hub.Queue([\"Typeset\", MathJax.Hub, toinsert.get(0)]);\n",
       "\t}\n",
       "    }\n",
       "\n",
       "\n",
       "    $(document).ready(function() {\n",
       "\tWidgets.debug = false; // log messages etc in console.\n",
       "\tfunction initComm(evt, data) {\n",
       "\t    var comm_manager = data.kernel.comm_manager;\n",
       "        //_.extend(comm_manager.targets, require(\"widgets/js/widget\"))\n",
       "\t    comm_manager.register_target(\"Signal\", function (comm) {\n",
       "            comm.on_msg(function (msg) {\n",
       "                //Widgets.log(\"message received\", msg);\n",
       "                var val = msg.content.data.value;\n",
       "                $(\".signal-\" + comm.comm_id).each(function() {\n",
       "                var type = $(this).data(\"type\");\n",
       "                if (val[type]) {\n",
       "                    redrawValue(this, type, val[type], type);\n",
       "                }\n",
       "                });\n",
       "                delete val;\n",
       "                delete msg.content.data.value;\n",
       "            });\n",
       "\t    });\n",
       "\n",
       "\t    // coordingate with Comm and redraw Signals\n",
       "\t    // XXX: Test using Reactive here to improve performance\n",
       "\t    $([IPython.events]).on(\n",
       "\t\t'output_appended.OutputArea', function (event, type, value, md, toinsert) {\n",
       "\t\t    if (md && md.reactive) {\n",
       "                // console.log(md.comm_id);\n",
       "                toinsert.addClass(\"signal-\" + md.comm_id);\n",
       "                toinsert.data(\"type\", type);\n",
       "                // Signal back indicating the mimetype required\n",
       "                var comm_manager = IPython.notebook.kernel.comm_manager;\n",
       "                var comm = comm_manager.comms[md.comm_id];\n",
       "                comm.then(function (c) {\n",
       "                    c.send({action: \"subscribe_mime\",\n",
       "                       mime: type});\n",
       "                    toinsert.bind(\"destroyed\", function() {\n",
       "                        c.send({action: \"unsubscribe_mime\",\n",
       "                               mime: type});\n",
       "                    });\n",
       "                })\n",
       "\t\t    }\n",
       "\t    });\n",
       "\t}\n",
       "\n",
       "\ttry {\n",
       "\t    // try to initialize right away. otherwise, wait on the status_started event.\n",
       "\t    initComm(undefined, IPython.notebook);\n",
       "\t} catch (e) {\n",
       "\t    $([IPython.events]).on('kernel_created.Kernel kernel_created.Session', initComm);\n",
       "\t}\n",
       "    });\n",
       "})(IPython, jQuery, _, MathJax, InputWidgets);\n",
       "</script>\n",
       "    <script>\n",
       "        window.interactLoadedFlag = true\n",
       "       $(\"#interact-js-shim\").bind(\"destroyed\", function () {\n",
       "           if (window.interactLoadedFlag) {\n",
       "               console.warn(\"JavaScript required by Interact will be removed if you remove this cell or run using Interact more than once.\")\n",
       "           }\n",
       "       })\n",
       "       $([IPython.events]).on(\"kernel_starting.Kernel kernel_restarting.Kernel\", function () { window.interactLoadedFlag = false })\n",
       "   </script>\n",
       "</div>"
      ]
     },
     "metadata": {},
     "output_type": "display_data"
    }
   ],
   "source": [
    "using Interact"
   ]
  },
  {
   "cell_type": "markdown",
   "metadata": {},
   "source": [
    "Esto hace disponible varios nombres, incluyendo `@manipulate`:"
   ]
  },
  {
   "cell_type": "code",
   "execution_count": 2,
   "metadata": {
    "collapsed": false
   },
   "outputs": [
    {
     "data": {
      "text/html": [],
      "text/plain": [
       "Slider{Float64}([Input{Float64}] 0.0,\"x\",0.0,-3.0:0.1:3.0)"
      ]
     },
     "metadata": {},
     "output_type": "display_data"
    },
    {
     "data": {
      "text/plain": [
       "0.0"
      ]
     },
     "execution_count": 2,
     "metadata": {
      "comm_id": "662042f8-fbaa-4102-824c-d00ae029d4ac",
      "reactive": true
     },
     "output_type": "execute_result"
    }
   ],
   "source": [
    "@manipulate for x in -3:0.1:3\n",
    "    x^2\n",
    "end"
   ]
  },
  {
   "cell_type": "code",
   "execution_count": 3,
   "metadata": {
    "collapsed": false
   },
   "outputs": [
    {
     "data": {
      "text/html": [],
      "text/plain": [
       "Slider{Float64}([Input{Float64}] 0.0,\"x\",0.0,-3.0:0.1:3.0)"
      ]
     },
     "metadata": {},
     "output_type": "display_data"
    },
    {
     "data": {
      "text/html": [],
      "text/plain": [
       "Slider{Float64}([Input{Float64}] 0.0,\"y\",0.0,-3.0:0.1:3.0)"
      ]
     },
     "metadata": {},
     "output_type": "display_data"
    },
    {
     "data": {
      "text/plain": [
       "0.0"
      ]
     },
     "execution_count": 3,
     "metadata": {
      "comm_id": "927ebc14-347f-4680-acff-79ca40d40e54",
      "reactive": true
     },
     "output_type": "execute_result"
    }
   ],
   "source": [
    "f(x) = x^2\n",
    "\n",
    "@manipulate for x in -3:0.1:3, y in -3:0.1:3\n",
    "    f(x+y)\n",
    "end"
   ]
  },
  {
   "cell_type": "markdown",
   "metadata": {},
   "source": [
    "Nótese la sintaxis corta para dos bucles `for`."
   ]
  },
  {
   "cell_type": "markdown",
   "metadata": {},
   "source": [
    "# Interactuando con `PyPlot`"
   ]
  },
  {
   "cell_type": "markdown",
   "metadata": {},
   "source": [
    "Ahora queremos poder interactuar con gráficas hechas con `PyPlot`. Resulta que tenemos que usar algo adicional: primero definir el objeto que represente la figura, y luego utilizar una sintaxis un poco rara. Pero con estos elementos debería funcionar:"
   ]
  },
  {
   "cell_type": "code",
   "execution_count": null,
   "metadata": {
    "collapsed": false
   },
   "outputs": [],
   "source": [
    "Pkg.add(\"PyPlot\")"
   ]
  },
  {
   "cell_type": "code",
   "execution_count": 4,
   "metadata": {
    "collapsed": false
   },
   "outputs": [
    {
     "name": "stderr",
     "output_type": "stream",
     "text": [
      "INFO: Loading help data...\n"
     ]
    }
   ],
   "source": [
    "using PyPlot"
   ]
  },
  {
   "cell_type": "code",
   "execution_count": 5,
   "metadata": {
    "collapsed": false
   },
   "outputs": [
    {
     "data": {
      "text/html": [],
      "text/plain": [
       "Slider{Float64}([Input{Float64}] 0.0,\"a\",0.0,-2.0:0.1:2.0)"
      ]
     },
     "metadata": {},
     "output_type": "display_data"
    },
    {
     "data": {
      "image/png": "[encoded data removed]",
      "text/plain": [
       "Figure(PyObject <matplotlib.figure.Figure object at 0x7f1e79148ac8>)"
      ]
     },
     "execution_count": 5,
     "metadata": {
      "comm_id": "f3951558-2446-4118-bf41-26008eb15c9e",
      "reactive": true
     },
     "output_type": "execute_result"
    }
   ],
   "source": [
    "fig = figure()\n",
    "\n",
    "@manipulate for a in -2:0.1:2\n",
    "    withfig(fig) do\n",
    "        x = -3:0.1:3\n",
    "        plot(x, sin(x+a))\n",
    "    end\n",
    "end"
   ]
  },
  {
   "cell_type": "markdown",
   "metadata": {},
   "source": [
    "(Nótese que nada de lo interactivo aparecerá en una versión estática de este notebook. Hay que correrlo de forma... ¡interactiva!)"
   ]
  },
  {
   "cell_type": "code",
   "execution_count": null,
   "metadata": {
    "collapsed": false
   },
   "outputs": [],
   "source": [
    "using Interact"
   ]
  },
  {
   "cell_type": "code",
   "execution_count": 6,
   "metadata": {
    "collapsed": false
   },
   "outputs": [
    {
     "data": {
      "text/html": [],
      "text/plain": [
       "Slider{Float64}([Input{Float64}] 0.0,\"a\",0.0,-2.0:0.1:2.0)"
      ]
     },
     "metadata": {},
     "output_type": "display_data"
    },
    {
     "data": {
      "image/png": "[encoded data removed]",
      "text/plain": [
       "Figure(PyObject <matplotlib.figure.Figure object at 0x7f1e788d7080>)"
      ]
     },
     "execution_count": 6,
     "metadata": {
      "comm_id": "d6f52cc0-a595-4a00-b563-d27c5f625348",
      "reactive": true
     },
     "output_type": "execute_result"
    }
   ],
   "source": [
    "fig = figure(figsize=(5,4))\n",
    "\n",
    "@manipulate for a in -2:0.1:2\n",
    "    withfig(fig) do\n",
    "        x = -3:0.1:3\n",
    "        plot(x, sin(x+a))\n",
    "    end\n",
    "end"
   ]
  },
  {
   "cell_type": "markdown",
   "metadata": {},
   "source": [
    "[1] Haz una gráfica interactiva de una cuadrática, en la cual puedes modificar todos los coeficientes.\n",
    "\n",
    "[2] Haz lo mismo para una cuártica."
   ]
  },
  {
   "cell_type": "markdown",
   "metadata": {},
   "source": [
    "Se pueden hacer cosas más impresionantes; los siguientes ejemplos se tomaron de posts de Steven Johnson (autor de PyPlot) en los issues del paquete `Interact.jl` hace un par de semanas:"
   ]
  },
  {
   "cell_type": "code",
   "execution_count": 7,
   "metadata": {
    "collapsed": false
   },
   "outputs": [
    {
     "data": {
      "text/html": [],
      "text/plain": [
       "Slider{Float64}([Input{Float64}] 1.6,\"α\",1.6,0.2:0.1:3.0)"
      ]
     },
     "metadata": {},
     "output_type": "display_data"
    },
    {
     "data": {
      "image/png": "[encoded data removed]",
      "text/plain": [
       "Figure(PyObject <matplotlib.figure.Figure object at 0x7f1e78479828>)"
      ]
     },
     "execution_count": 7,
     "metadata": {
      "comm_id": "506545c6-06c9-4f72-90fb-aa0645106f56",
      "reactive": true
     },
     "output_type": "execute_result"
    }
   ],
   "source": [
    "x = -2:0.1:2\n",
    "y = -2:0.1:2\n",
    "fig = figure(figsize=(5,4))\n",
    "@manipulate for α=0.2:0.1:3 \n",
    "    withfig(fig) do\n",
    "        surf(x, y, exp(-α * (x.^2 .+ y'.^2)))\n",
    "    end\n",
    "end"
   ]
  },
  {
   "cell_type": "code",
   "execution_count": 8,
   "metadata": {
    "collapsed": false
   },
   "outputs": [
    {
     "data": {
      "text/html": [],
      "text/plain": [
       "Slider{Float64}([Input{Float64}] 2.0,\"α\",2.0,1.0:0.1:3.0)"
      ]
     },
     "metadata": {},
     "output_type": "display_data"
    },
    {
     "data": {
      "text/html": [],
      "text/plain": [
       "Slider{Float64}([Input{Float64}] 2.0,\"β\",2.0,1.0:0.1:3.0)"
      ]
     },
     "metadata": {},
     "output_type": "display_data"
    },
    {
     "data": {
      "text/html": [],
      "text/plain": [
       "Slider{Float64}([Input{Float64}] 2.0,\"γ\",2.0,1.0:0.1:3.0)"
      ]
     },
     "metadata": {},
     "output_type": "display_data"
    },
    {
     "data": {
      "text/html": [],
      "text/plain": [
       "Checkbox([Input{Bool}] false,\"leg\",false)"
      ]
     },
     "metadata": {},
     "output_type": "display_data"
    },
    {
     "data": {
      "image/png": "[encoded data removed]",
      "text/plain": [
       "Figure(PyObject <matplotlib.figure.Figure object at 0x7f1e787aba20>)"
      ]
     },
     "execution_count": 8,
     "metadata": {
      "comm_id": "565ae1de-7740-4164-a215-53b01967cdf4",
      "reactive": true
     },
     "output_type": "execute_result"
    }
   ],
   "source": [
    "fig = figure()\n",
    "x = linspace(0,2π,1000)\n",
    "@manipulate for α=1:0.1:3, β=1:0.1:3, γ=1:0.1:3, leg=false\n",
    "    withfig(fig) do\n",
    "        plot(x, cos(α*x + sin(β*x + γ)))\n",
    "        if leg\n",
    "            legend([\"a funny plot\"])\n",
    "        end\n",
    "    end\n",
    "end"
   ]
  },
  {
   "cell_type": "markdown",
   "metadata": {},
   "source": [
    "# Gadfly"
   ]
  },
  {
   "cell_type": "markdown",
   "metadata": {},
   "source": [
    "Otro paquete gráfico, muy avanzado y de otro tipo, nativo para Julia, se llama Gadfly:"
   ]
  },
  {
   "cell_type": "code",
   "execution_count": null,
   "metadata": {
    "collapsed": false
   },
   "outputs": [
    {
     "name": "stderr",
     "output_type": "stream",
     "text": [
      "INFO: Nothing to be done\n"
     ]
    }
   ],
   "source": [
    "Pkg.add(\"Gadfly\")\n",
    "using Gadfly"
   ]
  },
  {
   "cell_type": "code",
   "execution_count": null,
   "metadata": {
    "collapsed": false
   },
   "outputs": [],
   "source": [
    "@manipulate for ϕ in 0:π/16:4π, f=[\"sin\"=>sin, \"cos\"=>cos]\n",
    "    Gadfly.plot(θ -> f(θ + ϕ), 0, 25)\n",
    "end"
   ]
  },
  {
   "cell_type": "markdown",
   "metadata": {},
   "source": [
    "La estructura"
   ]
  },
  {
   "cell_type": "code",
   "execution_count": null,
   "metadata": {
    "collapsed": false
   },
   "outputs": [],
   "source": [
    "d = [\"sin\"=>sin, \"cos\"=>cos]"
   ]
  },
  {
   "cell_type": "markdown",
   "metadata": {},
   "source": [
    "se llama un *diccionario*; es un *arreglo associativo*, que asocia *valores* a *claves*. Es como un arreglo, perlo las claves pueden ser de *cualquier* tipo."
   ]
  }
 ],
 "metadata": {
  "kernelspec": {
   "display_name": "Julia 0.3.11",
   "language": "julia",
   "name": "julia-0.3"
  },
  "language_info": {
   "file_extension": ".jl",
   "mimetype": "application/julia",
   "name": "julia",
   "version": "0.3.11"
  }
 },
 "nbformat": 4,
 "nbformat_minor": 0
}
