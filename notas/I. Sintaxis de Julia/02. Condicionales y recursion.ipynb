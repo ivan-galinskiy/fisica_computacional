{
 "cells": [
  {
   "cell_type": "markdown",
   "metadata": {},
   "source": [
    "# 0. Reseña de la clase pasada"
   ]
  },
  {
   "cell_type": "markdown",
   "metadata": {},
   "source": [
    "[1] Define una función `vol_esfera` que acepta un radio y calcula el volumen de la esfera con ese radio."
   ]
  },
  {
   "cell_type": "markdown",
   "metadata": {},
   "source": [
    "### *Solución:*"
   ]
  },
  {
   "cell_type": "code",
   "execution_count": 105,
   "metadata": {
    "collapsed": false
   },
   "outputs": [
    {
     "data": {
      "text/plain": [
       "vol_esfera (generic function with 1 method)"
      ]
     },
     "execution_count": 105,
     "metadata": {},
     "output_type": "execute_result"
    }
   ],
   "source": [
    "vol_esfera(r) = 4/3 * π*r^3"
   ]
  },
  {
   "cell_type": "markdown",
   "metadata": {},
   "source": [
    "[2] Utiliza tu función para calcular el volumen de la esfera con radio $\\rho = 10$"
   ]
  },
  {
   "cell_type": "markdown",
   "metadata": {},
   "source": [
    "### *Solución:*"
   ]
  },
  {
   "cell_type": "code",
   "execution_count": 106,
   "metadata": {
    "collapsed": false
   },
   "outputs": [
    {
     "data": {
      "text/plain": [
       "4188.790204786391"
      ]
     },
     "execution_count": 106,
     "metadata": {},
     "output_type": "execute_result"
    }
   ],
   "source": [
    "vol_esfera(10)"
   ]
  },
  {
   "cell_type": "markdown",
   "metadata": {},
   "source": [
    "[3] Define una función `vol_cilindro` que calcula el volumen de un cilindro de radio $\\rho$ y altura $\\zeta$."
   ]
  },
  {
   "cell_type": "markdown",
   "metadata": {},
   "source": [
    "### *Solución:*"
   ]
  },
  {
   "cell_type": "code",
   "execution_count": 107,
   "metadata": {
    "collapsed": false
   },
   "outputs": [
    {
     "data": {
      "text/plain": [
       "vol_cilindro (generic function with 1 method)"
      ]
     },
     "execution_count": 107,
     "metadata": {},
     "output_type": "execute_result"
    }
   ],
   "source": [
    "vol_cilindro(ρ, ζ) = π * ρ^2 * ζ"
   ]
  },
  {
   "cell_type": "markdown",
   "metadata": {},
   "source": [
    "[4] Calcula el volumen del cilindro con radio $\\rho = \\frac{1}{2}$ y altura $\\zeta = 10$."
   ]
  },
  {
   "cell_type": "markdown",
   "metadata": {},
   "source": [
    "### *Solución:*"
   ]
  },
  {
   "cell_type": "code",
   "execution_count": 108,
   "metadata": {
    "collapsed": false
   },
   "outputs": [
    {
     "data": {
      "text/plain": [
       "7.853981633974483"
      ]
     },
     "execution_count": 108,
     "metadata": {},
     "output_type": "execute_result"
    }
   ],
   "source": [
    "vol_cilindro(1/2, 10)"
   ]
  },
  {
   "cell_type": "markdown",
   "metadata": {},
   "source": [
    "# Condicionales"
   ]
  },
  {
   "cell_type": "markdown",
   "metadata": {},
   "source": [
    "Necesitamos poder verificar condiciones y hacer distintas cosas dependiendo de la respuesta.\n",
    "\n",
    "Primero, veamos las condiciones que podemos utilizar:"
   ]
  },
  {
   "cell_type": "markdown",
   "metadata": {},
   "source": [
    "[1] Define una variable `a` con el valor 3. ¿Qué dice Julia si ponemos `a < 3`?  Y ¿`a >= 3`? ¿De qué tipo es la respuesta?"
   ]
  },
  {
   "cell_type": "markdown",
   "metadata": {},
   "source": [
    "### *Solución:*"
   ]
  },
  {
   "cell_type": "code",
   "execution_count": 109,
   "metadata": {
    "collapsed": false
   },
   "outputs": [
    {
     "name": "stdout",
     "output_type": "stream",
     "text": [
      "false\n",
      "true\n"
     ]
    }
   ],
   "source": [
    "a = 3\n",
    "println(a < 3)\n",
    "println(a >= 3)"
   ]
  },
  {
   "cell_type": "markdown",
   "metadata": {},
   "source": [
    "**La respuesta en ambos cosas es buleana, i.e. true o false. Julia dice, correspondientemente, si a es menor que 3 (falso) o mayor o igual a 3 (verdadero)**"
   ]
  },
  {
   "cell_type": "markdown",
   "metadata": {},
   "source": [
    "[2] Dos condiciones no tan evidentes son `a == 3` y `a != 3`. ¿Qué es lo que checan?"
   ]
  },
  {
   "cell_type": "markdown",
   "metadata": {},
   "source": [
    "### *Solución:*"
   ]
  },
  {
   "cell_type": "code",
   "execution_count": 110,
   "metadata": {
    "collapsed": false
   },
   "outputs": [
    {
     "name": "stdout",
     "output_type": "stream",
     "text": [
      "true\n",
      "false\n"
     ]
    }
   ],
   "source": [
    "println(a == 3)\n",
    "println(a != 3)"
   ]
  },
  {
   "cell_type": "markdown",
   "metadata": {},
   "source": [
    "**Checan si a es igual a 3 (verdadero) o no es igual a 3 (falso)**"
   ]
  },
  {
   "cell_type": "markdown",
   "metadata": {},
   "source": [
    "[3] Se pueden combinar condiciones con `&&` (\"y\") y `||` (\"o\"). Inténtalo."
   ]
  },
  {
   "cell_type": "markdown",
   "metadata": {},
   "source": [
    "### *Solución:*"
   ]
  },
  {
   "cell_type": "code",
   "execution_count": 111,
   "metadata": {
    "collapsed": false
   },
   "outputs": [
    {
     "name": "stdout",
     "output_type": "stream",
     "text": [
      "true\n",
      "true\n",
      "false\n"
     ]
    }
   ],
   "source": [
    "println(a > 2 && a == 3) # a es mayor a 2 _y_ es igual a 3 (verdadero)\n",
    "println(a > 4 || a < 5) # a es mayor a 4 _o_ es menor a 5 (verdadero)\n",
    "println(a == 3 && a > 4) # a es igual a 3 _y_ es mayor a 4 (falso)"
   ]
  },
  {
   "cell_type": "markdown",
   "metadata": {},
   "source": [
    "Ahora podemos utilizar estas condiciones en un `if`, que tiene la siguiente sintaxis:"
   ]
  },
  {
   "cell_type": "markdown",
   "metadata": {},
   "source": [
    "```\n",
    "if <condicion>\n",
    "    <haz esto si la condicion se cumple>\n",
    "elseif <condicion>\n",
    "    <haz esto si no>\n",
    "else \n",
    "    <haz esto si no se satisface ninguno de los anteriores>\n",
    "end\n",
    "```\n",
    "\n",
    "El `elseif` y el `else` son opcionales."
   ]
  },
  {
   "cell_type": "markdown",
   "metadata": {},
   "source": [
    "[4] Define una función `fabs` que calcule el valor absoluto de un número flotante. Checa con la función predefinida `abs`."
   ]
  },
  {
   "cell_type": "markdown",
   "metadata": {},
   "source": [
    "### *Solución:*"
   ]
  },
  {
   "cell_type": "code",
   "execution_count": 112,
   "metadata": {
    "collapsed": false
   },
   "outputs": [
    {
     "name": "stdout",
     "output_type": "stream",
     "text": [
      "0.0\n",
      "0\n",
      "0.0\n"
     ]
    }
   ],
   "source": [
    "function fabs(x)\n",
    "    if x < 0\n",
    "        return -x\n",
    "    else\n",
    "        return x\n",
    "    end\n",
    "end\n",
    "\n",
    "## Función auxiliar para checar la compatibilidad con abs(x)\n",
    "check_abs(x) = (fabs(x) - abs(x))\n",
    "\n",
    "## Checamos que se cumpla para algunos números\n",
    "println(check_abs(-π))\n",
    "println(check_abs(19))\n",
    "println(check_abs(-5/8))"
   ]
  },
  {
   "cell_type": "markdown",
   "metadata": {},
   "source": [
    "Otra notación útil cuando las condiciones son cortas se usa el llamado *operador ternario* (así llamado por contar con tres argumentos):  `condicion ? <haz esto si la condicion se cumple> : <si no, haz esto>`\n",
    "\n",
    "[5] Reescribe la función `fabs` usando el operador ternario.\n"
   ]
  },
  {
   "cell_type": "markdown",
   "metadata": {},
   "source": [
    "### *Solución*"
   ]
  },
  {
   "cell_type": "code",
   "execution_count": 113,
   "metadata": {
    "collapsed": false
   },
   "outputs": [
    {
     "name": "stdout",
     "output_type": "stream",
     "text": [
      "18.4\n",
      "6\n",
      "0\n"
     ]
    }
   ],
   "source": [
    "fabs(x) = (x < 0)? -x : x\n",
    "\n",
    "## Una prueba rápida\n",
    "println(fabs(-18.4))\n",
    "println(fabs(6))\n",
    "println(fabs(0))"
   ]
  },
  {
   "cell_type": "markdown",
   "metadata": {},
   "source": [
    "# Recursión"
   ]
  },
  {
   "cell_type": "markdown",
   "metadata": {},
   "source": [
    "Ahora podemos hacer cálculos útiles.\n",
    "\n",
    "Empecemos con el factorial. Recordemos que se define así: $n! := 1 \\times 2 \\times \\cdots \\times n$."
   ]
  },
  {
   "cell_type": "markdown",
   "metadata": {},
   "source": [
    "[1] Piensa en tres formas distintas de que pudiéramos hacer un algoritmo para calcular el factorial de un número $n$. (No es necesario que los implementes; sólo pensar en distintas formas de ver el problema.)"
   ]
  },
  {
   "cell_type": "markdown",
   "metadata": {},
   "source": [
    "### *Solución:*"
   ]
  },
  {
   "cell_type": "markdown",
   "metadata": {},
   "source": [
    "1. Hacer un ciclo sencillo que multiplica los n elementos\n",
    "2. Usar un ciclo, pero notar que el factorial se compone de elementos pares e impares. Entonces, por simplicidad,con $n$ impar:\n",
    "$$(2n)! = 1\\cdot 2 \\cdot 3 \\cdots (2n) = (1\\cdot 3\\cdot 5 \\cdots n) \\cdot ( (2\\cdot 1)\\cdot (2\\cdot 3) \\cdots (2n)) = 2^n \\cdot (1\\cdot 3\\cdot 5 \\cdots n)^2$$\n",
    "Este pensamiento permite reducir la cantidad de operaciones aproximadamente a la mitad, especialmente cuando $n$ es grande.\n",
    "3. Usar recursión, i.e. $n! = n \\cdot (n-1)!$ y con $0! = 1$ (para que la recursión se cierre)"
   ]
  },
  {
   "cell_type": "markdown",
   "metadata": {},
   "source": [
    "[2] Define una función `fact` que implementa una versión en la cual utilizamos *recursión*, es decir, que la función `fact` *¡llame a sí misma!*"
   ]
  },
  {
   "cell_type": "markdown",
   "metadata": {},
   "source": [
    "### *Solución:*"
   ]
  },
  {
   "cell_type": "code",
   "execution_count": 114,
   "metadata": {
    "collapsed": false
   },
   "outputs": [
    {
     "name": "stdout",
     "output_type": "stream",
     "text": [
      "true\n",
      "true\n",
      "true\n",
      "true\n"
     ]
    },
    {
     "ename": "LoadError",
     "evalue": "`fact` has no method matching fact(::Float64)\nwhile loading In[114], in expression starting on line 18",
     "output_type": "error",
     "traceback": [
      "`fact` has no method matching fact(::Float64)\nwhile loading In[114], in expression starting on line 18",
      ""
     ]
    }
   ],
   "source": [
    "## Definimos una función, pero tenemos cuidado con que n sea entero. De otra manera, la recursión podrá nunca terminar\n",
    "## Note que con valores negativos, la función no regresa nada\n",
    "function fact(n::Int)\n",
    "    if (n > 0) \n",
    "        return n*fact(n-1)\n",
    "    elseif (n == 0) \n",
    "        return 1\n",
    "    end\n",
    "end\n",
    "    \n",
    "## Verifiquemos el funcionamiento correcto\n",
    "println(fact(0) == 1)\n",
    "println(fact(1) == 1)\n",
    "println(fact(3) == 6)\n",
    "println(fact(4) == 24)\n",
    "\n",
    "## Lo siguiente lanza una excepción, como esperado, ya que no definimos el factorial de un número no entero\n",
    "fact(0.3)"
   ]
  },
  {
   "cell_type": "markdown",
   "metadata": {},
   "source": [
    "[3] Utiliza estas ideas para definir una función `mi_exp` que calcule el exponencial de un número $x$, usando la serie de Taylor de la función, y *usando recursión*. Define otra función que compare tu resultado con la función predefinida `exp`."
   ]
  },
  {
   "cell_type": "markdown",
   "metadata": {},
   "source": [
    "### *Solución:*\n",
    "Primero, sabemos que con $n$ lo suficientemente grande\n",
    "$$e^x \\approx \\sum^n_{k=0} \\frac{x^k}{k!}$$\n",
    "Entonces, podemos definir recursivamente \n",
    "$$s_m = \\frac{x^m}{m!} + s_{m-1}$$\n",
    "Es fácil ver entonces que\n",
    "$$s_m = \\frac{x^m}{m!} + s_{m-1} = \\frac{x^m}{m!} + \\frac{x^{m-1}}{(m-1)!} + s_{m-2} = \\sum^m_{k=0} \\frac{x^k}{k!}$$\n",
    "si acordamos que $s_0 = 1$ para cerrar la inducción:"
   ]
  },
  {
   "cell_type": "code",
   "execution_count": 115,
   "metadata": {
    "collapsed": false
   },
   "outputs": [
    {
     "name": "stdout",
     "output_type": "stream",
     "text": [
      "1.0000000000000002\n",
      "1.0000039726973105\n",
      "0.9999991382500102\n"
     ]
    }
   ],
   "source": [
    "## Otra vez, n tiene que ser entero, y para n < 0 la función no regresa nada\n",
    "function mi_exp(x, n::Int)\n",
    "    if (n > 0)\n",
    "        return x^n/fact(n) + mi_exp(x, n-1)\n",
    "    elseif (n == 0)\n",
    "        return 1\n",
    "    end\n",
    "end\n",
    "\n",
    "## Función auxiliar para checar la compatibilidad con exp(x) de Julia (mientras más cerca del 1 es el resultado, mejor)\n",
    "check_exp(x) = mi_exp(x, 20)/exp(x)\n",
    "\n",
    "## Checando... Los resultados están muy cercanos entre mi_exp(x, 20) y exp(x)\n",
    "println(check_exp(1))\n",
    "println(check_exp(-4))\n",
    "println(check_exp(5.8))"
   ]
  },
  {
   "cell_type": "markdown",
   "metadata": {},
   "source": [
    "# Métodos"
   ]
  },
  {
   "cell_type": "markdown",
   "metadata": {},
   "source": [
    "En el problema anterior, tenías que definir una función que aceptara dos argumentos, el valor de $x$ y el orden $n$ de la serie de Taylor.\n",
    "\n",
    "[4] Ahora define otra función con el *mismo* nombre, que llame a la función anterior, con un valor fijo, más o menos grande, de $n$."
   ]
  },
  {
   "cell_type": "markdown",
   "metadata": {},
   "source": [
    "### *Solución:*"
   ]
  },
  {
   "cell_type": "code",
   "execution_count": 116,
   "metadata": {
    "collapsed": false
   },
   "outputs": [
    {
     "name": "stdout",
     "output_type": "stream",
     "text": [
      "2.7182818284590455\n"
     ]
    }
   ],
   "source": [
    "mi_exp(x) = mi_exp(x, 20)\n",
    "\n",
    "## Una prueba rápida:\n",
    "println(mi_exp(1))"
   ]
  },
  {
   "cell_type": "markdown",
   "metadata": {},
   "source": [
    "[5] Usa la función `methods` con el nombre de la función como argumento. Deberías ver los dos métodos que has creado, y dónde se han definido. Esto se puede hacer para cualquier función en Julia, incluyendo los operadores matemáticos."
   ]
  },
  {
   "cell_type": "markdown",
   "metadata": {},
   "source": [
    "### *Solución:*"
   ]
  },
  {
   "cell_type": "code",
   "execution_count": 117,
   "metadata": {
    "collapsed": false
   },
   "outputs": [
    {
     "data": {
      "text/html": [
       "2 methods for generic function <b>mi_exp</b>:<ul><li> mi_exp(x,n::<b>Int64</b>) at In[115]:3<li> mi_exp(x) at In[116]:1</ul>"
      ],
      "text/plain": [
       "# 2 methods for generic function \"mi_exp\":\n",
       "mi_exp(x,n::Int64) at In[115]:3\n",
       "mi_exp(x) at In[116]:1"
      ]
     },
     "execution_count": 117,
     "metadata": {},
     "output_type": "execute_result"
    }
   ],
   "source": [
    "## Veamos los métodos de mi_exp. Se ve el método original y el simplificado (con n=20). \n",
    "## En otros lenguajes, esto se llama \"overloading\"\n",
    "methods(mi_exp)"
   ]
  },
  {
   "cell_type": "markdown",
   "metadata": {},
   "source": [
    "[6] Investiga como ejemplo los métodos de `+`."
   ]
  },
  {
   "cell_type": "markdown",
   "metadata": {},
   "source": [
    "### *Solución:*"
   ]
  },
  {
   "cell_type": "code",
   "execution_count": 118,
   "metadata": {
    "collapsed": false
   },
   "outputs": [
    {
     "name": "stdout",
     "output_type": "stream",
     "text": [
      "b\n"
     ]
    }
   ],
   "source": [
    "## Veamos los métodos del operador \"+\". Aparecen no solo métodos para números reales, \n",
    "## sino también para e.g. matrices o caracteres\n",
    "methods(+)\n",
    "println('a'+1)"
   ]
  },
  {
   "cell_type": "markdown",
   "metadata": {},
   "source": [
    "En Julia, una *función* consiste en muchos *métodos* que sirven para actuar sobre distintos tipos y/o distintos números de argumentos. "
   ]
  },
  {
   "cell_type": "markdown",
   "metadata": {},
   "source": [
    "## Argumentos por defecto"
   ]
  },
  {
   "cell_type": "markdown",
   "metadata": {},
   "source": [
    "De hecho, también es posible especificar argumentos *por defecto*, poniendo `<variable>=<valor>` en la definición de la función.\n",
    "\n",
    "[7] Define otra versión de `mi_exp` con un argumento por defecto, y checa que sí sirve cuando no se especifica este argumento."
   ]
  },
  {
   "cell_type": "markdown",
   "metadata": {},
   "source": [
    "### *Solución:*"
   ]
  },
  {
   "cell_type": "code",
   "execution_count": 119,
   "metadata": {
    "collapsed": false
   },
   "outputs": [
    {
     "name": "stdout",
     "output_type": "stream",
     "text": [
      "2.7182818284590455\n",
      "2.7182818011463845\n"
     ]
    }
   ],
   "source": [
    "## Una exponencial con el orden de Taylor especificado por defecto\n",
    "mi_exp_default(x, n=20) = mi_exp(x, n)\n",
    "\n",
    "## Una prueba rápida\n",
    "println(mi_exp_default(1))\n",
    "println(mi_exp_default(1, 10))"
   ]
  }
 ],
 "metadata": {
  "kernelspec": {
   "display_name": "Julia 0.3.11",
   "language": "julia",
   "name": "julia-0.3"
  },
  "language_info": {
   "name": "julia",
   "version": "0.3.11"
  }
 },
 "nbformat": 4,
 "nbformat_minor": 0
}
