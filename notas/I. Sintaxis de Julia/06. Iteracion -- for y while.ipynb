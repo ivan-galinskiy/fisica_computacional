{
 "cells": [
  {
   "cell_type": "markdown",
   "metadata": {},
   "source": [
    "# Iteración"
   ]
  },
  {
   "cell_type": "markdown",
   "metadata": {},
   "source": [
    "Las computadoras están diseñadas para llevar a cabo cálculos de forma repetida. Hasta ahora, para hacerlo, sólo tenemos el recurso de las funciones recursivas (es decir, funciones que llamen a sí mismas). Sin embargo, la recursión no siempre es deseable, ni necesario.\n",
    "\n",
    "En Julia (y muchos otros lenguajes), existen dos formas de llevar a cabo iteraciones de forma más explícita: `for` y `while`. "
   ]
  },
  {
   "cell_type": "markdown",
   "metadata": {},
   "source": [
    "## `for`"
   ]
  },
  {
   "cell_type": "markdown",
   "metadata": {},
   "source": [
    "Un bucle `for` itera a través de un arreglo, rango etc. (cualquier objeto \"iterable\", de hecho). Su sintaxis es:\n",
    "\n",
    "```\n",
    "for <variable> in <iterable>\n",
    "    [haz esto]\n",
    "    [y esto]\n",
    "end\n",
    "```\n",
    "\n",
    "En un bucle de este tipo, la variable toma cada valor en turno del arreglo. Por lo tanto, este tipo de bucle se ocupa cuando se conoce de antemano el número de veces que se requiere \n",
    "\n",
    "Por ejemplo:"
   ]
  },
  {
   "cell_type": "code",
   "execution_count": 1,
   "metadata": {
    "collapsed": false
   },
   "outputs": [
    {
     "name": "stdout",
     "output_type": "stream",
     "text": [
      "El valor actual de i es 1\n",
      "El valor actual de i es 2\n",
      "El valor actual de i es 3\n",
      "El valor actual de i es 4\n",
      "El valor actual de i es 5\n",
      "El valor actual de i es 6\n",
      "El valor actual de i es 7\n",
      "El valor actual de i es 8\n",
      "El valor actual de i es 9\n",
      "El valor actual de i es 10\n"
     ]
    }
   ],
   "source": [
    "for i in 1:10\n",
    "    println(\"El valor actual de i es $i\")\n",
    "end"
   ]
  },
  {
   "cell_type": "markdown",
   "metadata": {},
   "source": [
    "En este ejemplo, se iteró sobre un objeto de tipo rango. También se puede iterar sobre un vector:"
   ]
  },
  {
   "cell_type": "code",
   "execution_count": 2,
   "metadata": {
    "collapsed": false
   },
   "outputs": [
    {
     "name": "stdout",
     "output_type": "stream",
     "text": [
      "6\n",
      "8\n",
      "14\n"
     ]
    }
   ],
   "source": [
    "x = [3, 4, 7]\n",
    "\n",
    "for i in x\n",
    "    a = 2i\n",
    "    println(a)\n",
    "end"
   ]
  },
  {
   "cell_type": "markdown",
   "metadata": {},
   "source": [
    "[1] Crea una función que calcula la suma de los primeros $N$ enteros y de sus cuadrados en un solo bucle, y regresa las dos sumas.\n",
    "\n",
    "[2] Haz una función que cuenta el número de enteros hasta $N$ que sean divisibles por $2$, $3$ y/o $5$.\n",
    "¿Tiene sentido el resultado?"
   ]
  },
  {
   "cell_type": "markdown",
   "metadata": {},
   "source": [
    "Se puede salir de un bucle `for` de inmediato con `break`, y seguir con el siguiente iterado con `continue`. "
   ]
  },
  {
   "cell_type": "markdown",
   "metadata": {},
   "source": [
    "## `while` "
   ]
  },
  {
   "cell_type": "markdown",
   "metadata": {},
   "source": [
    "Un bucle `while` mantiene la iteración *mientras* una condición dada se siga satisfaciendo. Su sintaxis es\n",
    "\n",
    "```\n",
    "while <condicion>\n",
    "    [haz esto]\n",
    "    [y esto]\n",
    "end\n",
    "```\n",
    "\n",
    "Se utiliza cuando no se sabe de antemano el número de iteraciones que se requerirán, sino que esto se controla a través de la condición. Sin embargo, para evitar bucles infinitos, a menudo es sensato incluir un contador para que no pueda haber demasiadas (posiblemente infinitas) iteraciones.\n",
    "   "
   ]
  },
  {
   "cell_type": "markdown",
   "metadata": {},
   "source": [
    "[1] Escribe una función, usando un `while`, que calcula la potencia de $2$ más grande debajo de un número dado.\n",
    "\n",
    "[2] Escribe el método de bisección usando un `for`, y usando un `while`. ¿Cuál es más apropiado, y por qué?\n",
    "\n",
    "[3] Escribe el método de Newton usando un `for`. ¿Cómo puedes salir?"
   ]
  },
  {
   "cell_type": "markdown",
   "metadata": {},
   "source": [
    "## El método de Newton para más dimensiones "
   ]
  },
  {
   "cell_type": "markdown",
   "metadata": {},
   "source": [
    "El método de Newton también se puede utilizar para encontrar ceros de funciones de varias variables, $\\mathbf{f}\\colon \\mathbb{R}^n \\to \\mathbb{R}^n$.\n",
    "\n",
    "[1] Tomando una adivinanza inicial $\\mathbf{x}_0$, resuelve aproximadamente la ecuación $\\mathbf{f}(\\mathbf{x}_0 + \\mathbf{\\delta x}) = \\mathbf{0}$. ¿Qué es lo que cambia con respecto a la versión para una sola variable?\n",
    "\n",
    "[2] ¿Qué tipo de operaciones computacionales necesitaremos poder implementar?"
   ]
  }
 ],
 "metadata": {
  "kernelspec": {
   "display_name": "Julia 0.3.11",
   "language": "julia",
   "name": "julia-0.3"
  },
  "language_info": {
   "name": "julia",
   "version": "0.3.11"
  }
 },
 "nbformat": 4,
 "nbformat_minor": 0
}
