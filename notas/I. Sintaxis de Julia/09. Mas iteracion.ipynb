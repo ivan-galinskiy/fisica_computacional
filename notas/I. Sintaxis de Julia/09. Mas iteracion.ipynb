{
 "cells": [
  {
   "cell_type": "markdown",
   "metadata": {},
   "source": [
    "[1] La secuencia de Fibonacci está definida a través de la recursión\n",
    "\n",
    "$$F_{n} = F_{n-1} + F_{n-2}$$\n",
    "\n",
    "con condiciones iniciales\n",
    "\n",
    "$$F_0 = F_1 = 1.$$\n",
    "\n",
    "(i) Implementa una función recursiva para calcular los valores de la secuencia.\n",
    "\n",
    "(ii) Implementa una función iterativa.\n",
    "\n",
    "(iii) Guarda los valores que salgan en un arreglo. Dibuja $F_n$ como función de $n$. Modifica tu gráfica para dar una idea de la *tasa de crecimiento* de $F_n$. ¿Cómo podrías encontrar la tasa a partir de la gráfica? Habiendo encontrado una supuesta tasa, ¿cómo lo podrías comprobar?\n",
    "\n"
   ]
  },
  {
   "cell_type": "markdown",
   "metadata": {},
   "source": [
    "[2] En esta pregunta, usaremos la computadora para investigar el comportamiento de un modelo matemático (aparentemente) sencillo del crecimiento de una población, el llamado *mapeo logístico*:\n",
    "\n",
    "$$x_{n+1} = r \\, x_n \\, (1-x_n).$$\n",
    "\n",
    "Nos restringiremos a $x_n \\in [0,1]$ y $r \\in [0,4]$.\n",
    "\n",
    "(i) Dibuja $x_n$ en función de $n$ para distintos valores de $r$ entre $0$ y $4$ y distintas condiciones iniciales. ¿Qué tipo de fenómenos observas?  Una manera bonita de hacer esto es con `Interact.jl`. ¡Hazlo!\n",
    "\n",
    "(ii) Para valores relativamente chicos de $r$, encuentra analíticamente el comportamiento límite (*asintótico*) de la iteración.\n",
    "\n",
    "(iii) Para valores un tanto más grandes, ¿puedes encontrar el comportamiento asintótico?\n",
    "\n",
    "(iv) Una manera de resumir el comportamiento del modelo es a través del llamado *diagrama de bifurcaciones*. Constrúyelo como sigue.\n",
    "\n",
    "Para cada valor de $r$, se toma una condición inicial $x_0$ al azar, y se itera bastantes veces. A partir de un momento dado, se empieza a grabar los iterados $x_n$ en un arreglo. Se grafica $r$ en el eje $x$, y los valores posibles $x_n$ en el eje $y$.\n",
    "\n",
    "(v) Teniendo en mano el diagrama de bifurcaciones, investiga más a fondo ciertos valores interesantes de $r$. ¿Qué observas conforme $r$ va creciendo? ¿Sigue para siempre este comportamiento?"
   ]
  },
  {
   "cell_type": "markdown",
   "metadata": {},
   "source": [
    "[3] Un caso particular del mapeo logístico de la pregunta [2] ocurre cuando $r=4$. Toma una condición inicial (casi) cualquiera e itéralo muchas veces. \n",
    "\n",
    "(i) Dibuja $x_n$ en función de $n$. Vemos que el resultado es poco entendible.\n",
    "\n",
    "(ii) Una manera de resumir su comportamiento es el siguiente. Dividamos el intervalo $[0,1]$ en $N$ pedazos de tamaños iguales (por ejemplo) y calculamos cuántas veces cae en cada pedazo. ¿Cómo se llama esto?\n",
    "\n",
    "(iii) Escribe una función para calcular esto. Acepta el vector de valores y el número de pedazos $N$.\n",
    "\n",
    "(iv) Lleva esto a cabo para $r=4$ y dibuja el resultado. ¿Qué observas? ¿Qué pasa para valores chicos de $r$? Y ¿para valores de $r$ cercanos a 4?\n",
    "\n"
   ]
  }
 ],
 "metadata": {
  "kernelspec": {
   "display_name": "Julia 0.3.11-pre",
   "language": "julia",
   "name": "julia-0.3"
  },
  "language_info": {
   "name": "julia",
   "version": "0.3.12"
  }
 },
 "nbformat": 4,
 "nbformat_minor": 0
}
