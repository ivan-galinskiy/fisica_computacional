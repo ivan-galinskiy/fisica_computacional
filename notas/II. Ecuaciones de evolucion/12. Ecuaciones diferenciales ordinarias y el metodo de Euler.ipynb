{
 "cells": [
  {
   "cell_type": "markdown",
   "metadata": {},
   "source": [
    "# Ecuaciones diferenciales ordinarias"
   ]
  },
  {
   "cell_type": "markdown",
   "metadata": {},
   "source": [
    "Recordemos qué son las ecuaciones diferenciales ordinarias (EDOs).\n",
    "La EDO más simple no-trivial y físicamente relevante en una variable es \n",
    "\n",
    "$$\\dot{x} = -\\alpha x.$$\n",
    "\n",
    "[Recordemos que la notación quiere decir $\\dot{x} := \\textstyle \\frac{dx}{dt}$.]\n",
    "\n",
    "Una solución a esta ecuación es un objeto $x$ tal que cuando la derivamos con respecto al tiempo, nos da $-\\alpha$ veces el mismo objeto. Implícitamente está claro que $x$ depende de $t$, por lo cual realmente $x$ se refiere a una función de $t$, es decir $x: \\mathbb{R} \\to \\mathbb{R}$, con $x: t \\mapsto x(t)$. Esta ecuación es una ecuación *funcional*, es decir, una igualdad de funciones. La podemos explicitar como sigue:\n",
    "\n",
    "$$\\dot{x}(t) = -\\alpha x(t) \\qquad \\text{para cada } t \\in \\mathbb{R}.$$\n",
    "\n",
    "En mi opinión, en esta forma está mucho más claro qué es lo que está pasando.\n",
    "\n",
    "Esto quiere decir que si *de alguna manera* hayamos logrado saber que la solución en el tiempo $t$ está en la posición $x(t)$, entonces sabemos cuál será la *velocidad* en este momento. \n",
    "\n",
    "\n",
    "La forma general de una EDO en una variable es\n",
    "\n",
    "$$\\dot{x} = f(x, t),$$\n",
    "\n",
    "o sea\n",
    "\n",
    "$$\\dot{x}(t) = f(x(t), t) \\qquad \\text{para cada } t \\in \\mathbb{R}.$$\n",
    "\n",
    "Recordemos que debe ir acompañada por una condición inicial $x(t_0) = x_0$ para formar un problema bien posado (*problema de valores iniciales*, o *problema de Cauchy*).\n",
    "\n",
    "Así que la solución de una tal ecuación será una *función* $x(t)$ que satisface esta relación para cualquier $t$.\n",
    "\n",
    "En el caso de la primera ecuación, conocemos analíticamente la solución, pero para las ecuaciones de interés para la física, esto *casi nunca ocurre*, una situación que ¡suele pasar desapercibida durante la carrera! En estos casos, debemos aplicar distintas técnicas de *aproximación* de la solución, entre las cuales se destacan los *métodos numéricos*.\n"
   ]
  },
  {
   "cell_type": "markdown",
   "metadata": {},
   "source": [
    "# Método de Euler"
   ]
  },
  {
   "cell_type": "markdown",
   "metadata": {},
   "source": [
    "Para resolver una EDO numéricamente en la computadora, tendremos que *aproximar* la solución continua $x: t \\mapsto x(t)$ con una versión con una cantidad finita de información, es decir, *discretizarla* de alguna forma.\n",
    "\n",
    "La manera más sencilla de hacerla es usando *diferencias finitas*: la derivada, que es una \"diferencia infinitesimal\", se reemplaza por una aproximación \"finita\".\n",
    "\n",
    "[1] ¿Cuál es la aproximación más sencilla de la derivada $\\dot{x}(t)$, en términos de una distancia pequeña $h$?\n",
    "\n",
    "[2] Aplica esto para obtener una expresión para $x(t+h)$, es decir el valor *predicho* en el siguiente *paso* de tiempo, en términos del valor ya conocido $x(t)$.\n",
    "\n",
    "[3] Implementa este *método de Euler* en una función. Para hacerlo, crea un arreglo `t` de los tiempos en los cuales se evaluará la función. Luego crea otro arreglo, usando `zeros`, inicialmente cero. [Si pasas el arreglo `t` como argumento a esta función, creará un arreglo del mismo tamaño automáticamente.] Ahora implementa el algoritmo iterativo del paso [2] para actualizar los valores en el nuevo arreglo.\n",
    "\n",
    "[4] Utiliza tu función para resolver la ecuación $\\dot{x} = -\\alpha x$ y compara con la solución analítica. ¿Qué pasa al variar el paso de tiempo? ¿Cuál herramienta de Julia sería bueno aplicar aquí? ¡Hazlo!\n",
    "\n",
    "[5] ¿Cómo se puede tratar la ecuación de caída libre, $\\ddot{y} = -g$? Compara la solución con el resultado analítico."
   ]
  },
  {
   "cell_type": "markdown",
   "metadata": {},
   "source": [
    "# Varias variables"
   ]
  },
  {
   "cell_type": "markdown",
   "metadata": {},
   "source": [
    "Recordemos que *cualquier* EDO se puede escribir en la forma\n",
    "$$\\dot{\\mathbf{x}} = \\mathbf{f}(\\mathbf{x}, t),$$\n",
    "\n",
    "es decir\n",
    "\n",
    "$$\\dot{\\mathbf{x}}(t) = \\mathbf{f}(\\mathbf{x}(t), t),$$\n",
    "\n",
    "donde ahora $\\mathbf{x} = (x_1, \\ldots, x_n) \\in \\mathbb{R}^n$ es un vector y $\\mathbf{f}: \\mathbb{R}^n \\to \\mathbb{R}^n$ es una función vectorial, que nos da un **campo vectorial** que indica en cuál dirección seguir desde cada punto del espacio."
   ]
  },
  {
   "cell_type": "markdown",
   "metadata": {},
   "source": [
    "[1] Escribe una función para hacer un paso del método de Euler en este caso. El código deberá ser *genérico*, es decir, funcionar para cualquier $\\mathbf{x}$ y $\\mathbf{f}$ de cualquier dimensión.\n",
    "\n",
    "[2] Escribe el método de Euler completo. \n",
    "\n",
    "[3] Úsalo para resolver la caída libre y una caída con fricción lineal en la velocidad. Compara con el resultado exacto. Dibuja las resultados con distintos tamaños de fricción."
   ]
  },
  {
   "cell_type": "markdown",
   "metadata": {},
   "source": [
    "[4] \n",
    "\n",
    "(i) Resuelve numéricamente el problema del tiro parabólico con Euler para un proyectil que empieza en una altura $h>0$ con rapidez $1$ y ángulo inicial $\\alpha$, *hasta que* caiga al suelo.\n",
    "\n",
    "(ii) Encuentra la distancia horizontal donde cae al suelo (el rango). Dibuja el resultado tal que puedas manipular interactivamente las condiciones iniciales. Encuentra numéricamente el ángulo que maximiza el rango. ¿Es correcto?\n",
    "\n",
    "(iii) Agrega fricción del aire al problema y agrégalo como otro parámetro que puedas manipular."
   ]
  },
  {
   "cell_type": "markdown",
   "metadata": {},
   "source": [
    "# El error del método de Euler"
   ]
  },
  {
   "cell_type": "markdown",
   "metadata": {},
   "source": [
    "[1] Expande la función $x(t)$ en una serie de Taylor para encontrar el tamaño del error *local* que comete el método de Euler, es decir, el error que se comete en cada paso al utilizar el método de Euler. Se dice que el método de Euler es de *orden 1*.\n",
    "\n",
    "[2] Considera el método de Euler para el oscilador armónico. Intégralo para un tiempo $T$ de tu elección y dibuja el resultado, junto con el resultado analítico.\n",
    "\n",
    "[3] Calcula el *error global*, que se puede medir como la máxima diferencia entre el resultado calculado y el analítico, para distintos tamaños de paso $h$. ¿Cómo cambia con $h$? ¿Tiene sentido?"
   ]
  }
 ],
 "metadata": {
  "kernelspec": {
   "display_name": "Julia 0.3.12-pre",
   "language": "julia",
   "name": "julia-0.3"
  },
  "language_info": {
   "file_extension": ".jl",
   "mimetype": "application/julia",
   "name": "julia",
   "version": "0.3.12"
  }
 },
 "nbformat": 4,
 "nbformat_minor": 0
}
