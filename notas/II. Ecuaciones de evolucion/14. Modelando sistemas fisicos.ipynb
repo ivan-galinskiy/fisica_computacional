{
 "cells": [
  {
   "cell_type": "markdown",
   "metadata": {},
   "source": [
    "Teniendo métodos numéricos sencillos para EDOs, podemos modelar distintos sistemas físicos."
   ]
  },
  {
   "cell_type": "markdown",
   "metadata": {},
   "source": [
    "### Atractor de Lorenz"
   ]
  },
  {
   "cell_type": "markdown",
   "metadata": {},
   "source": [
    "[1] (i) Encuentra las ecuaciones de Lorenz (¡no Lorentz!) que proveen un modelo (o, realmente, una caricatura) de la dinámica de la atmósfera.\n",
    "\n",
    "(ii) Intégralos, e.g. con RK4, y dibuja trayectorias largas en 2D y 3D con distintos colores. ¿Qué observas? [Para dibujar en 3D, se puede utilizar `plot3D` de PyPlot.] Haz una animación / interacción. [Para animar, checa el notebook `Como animar.ipynb` en el repositorio del curso.]\n",
    "\n",
    "(iii) Toma dos trayectorias con condiciones iniciales *muy* cercanas. ¿Cómo varía la distancia entre ellas en el tiempo (para tiempos suficientemente cortos)? Llamamos un sistema con este tipo de comportamiento *caótico*."
   ]
  },
  {
   "cell_type": "markdown",
   "metadata": {},
   "source": [
    "### Dinámica de $N$ cuerpos"
   ]
  },
  {
   "cell_type": "markdown",
   "metadata": {},
   "source": [
    "[2] Gran parte de la dinámica clásica se originó en el estudio de los cuerpos celestes. \n",
    "\n",
    "(i) Considera un sistema de dos cuerpos con una interacción gravitacional. ¿Cuáles variables necesitas? Escribe las ecuaciones diferenciales cuidadosamente y escribe la función $\\mathbf{f}$ correspondiente de Julia para el sistema $\\dot{\\mathbf{x}} = \\mathbf{f}(\\mathbf{x})$.\n",
    "\n",
    "(ii) Resuelve las ecuaciones numéricamente para dos masas iguales. ¿Ocurre lo que debería ocurrir? Haz una animación de la dinámica.\n",
    "\n",
    "(iii) Cambia una de las dos masas. ¿Ahora qué pasa? \n",
    "\n",
    "(iv) Cambia al sistema de coordenadas del centro de masa. ¿Qué ocurre?\n",
    "\n",
    "(iv) ¿Qué ocurre si una de las dos masas es mucho más grande?"
   ]
  },
  {
   "cell_type": "markdown",
   "metadata": {},
   "source": [
    "[3] \n",
    "\n",
    "(i) Haz lo mismo para 3 cuerpos. \n",
    "\n",
    "(ii) Existen soluciones especiales llamadas *coreografías* (choreographies), en las cuales las masas se siguen la una a la otra. Busca las condiciones iniciales adecuadas e integra las ecuaciones. Haz una animación.\n",
    "\n",
    "(iii) En el problema restringida de 3 cuerpos, una de las masas es tan pequeña que no influye a las otras dos. ¿Cómo puedes resolver esto numéricamente? ¿Qué observas? ¡Hazlo interactivo!\n",
    "\n",
    "[4] ¿Qué es lo que cambia si las partículas son partíclas cargadas con interacciones de Coulomb, en lugar de masas? Impleméntalo.\n",
    "\n",
    "** [5] ¿Cómo puedes hacer una simulación de $N$ cuerpos, donde $N$ es un parámetro que puedes variar? ¡Hazlo!"
   ]
  }
 ],
 "metadata": {
  "kernelspec": {
   "display_name": "Julia 0.3.11",
   "language": "julia",
   "name": "julia-0.3"
  },
  "language_info": {
   "name": "julia",
   "version": "0.3.11"
  }
 },
 "nbformat": 4,
 "nbformat_minor": 0
}
