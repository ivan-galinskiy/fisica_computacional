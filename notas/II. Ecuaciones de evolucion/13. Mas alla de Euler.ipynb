{
 "cells": [
  {
   "cell_type": "markdown",
   "metadata": {},
   "source": [
    "# Euler puede fracasar"
   ]
  },
  {
   "cell_type": "markdown",
   "metadata": {},
   "source": [
    "El método de Euler parece sencillo y útil, pero puede fracasar, y de hecho *casi siempre fracasa*, no sólo cuantitativamente, sino también cualitativamente.\n",
    "\n",
    "Para entender qué podría estar pasando, consideremos la ecuación del péndulo para ángulos pequeños, que hace movimiento armónico simple. \n",
    "\n",
    "[1] Escribe la ecuación de movimiento de este sistema, en términos del ángulo $\\theta$ y la velocidad angular $\\omega$.\n",
    "\n",
    "[2] Escribe las ecuaciones del método de Euler para este problema.\n",
    "\n",
    "[3] Este sistema tiene una propiedad especial -- ¿cuál es? Utiliza esto para investigar cómo cambia una cantidad importante del sistema bajo el método de Euler."
   ]
  },
  {
   "cell_type": "markdown",
   "metadata": {},
   "source": [
    "# El método de Euler-Cromer"
   ]
  },
  {
   "cell_type": "markdown",
   "metadata": {},
   "source": [
    "Un cambio aparentemente insignificativo al método puede dar resultados mucho mejores para ciertas clases de sistema, que tienen posiciones y velocidades (¿a qué tipo de sistema nos referimos?):\n",
    "actualizar primero la velocidad, y utiliza esta *nueva* velocidad para actualizar la posición.\n",
    "Esto da el llamado método de Euler-Cromer.\n",
    "\n",
    "[4] Aplica el método de Euler-Cromer al oscilador armónico.\n",
    "\n",
    "[5] (i) Encuentra la tasa de convergencia de Euler-Cromer cuando tomas el tamaño $h$ de un paso a cero.\n",
    "\n",
    "(ii) ¿Puedes encontrar analíticamente el error del método con Taylor?\n",
    "\n",
    "[6] Aplícalo al péndulo simple y dibuja el espacio fase completo. Para hacer esto, escoge distintas condiciones iniciales (posición y velocidad/momento) e integra tanto para adelante como para atrás en el tiempo. Describe físicamente lo que observas.\n",
    "\n"
   ]
  },
  {
   "cell_type": "markdown",
   "metadata": {},
   "source": [
    "# Métodos tipo Runge-Kutta"
   ]
  },
  {
   "cell_type": "markdown",
   "metadata": {},
   "source": [
    "Una clase de métodos muy utilizados son los métodos tipo Runge-Kutta.\n",
    "Para entender la motivación detrás de estos métodos, una manera es el considerar la versión *integral* de una ecuación diferencial."
   ]
  },
  {
   "cell_type": "markdown",
   "metadata": {},
   "source": [
    "Al integrar la EDO\n",
    "\n",
    "$$\\dot{x}(t) = f(x(t), t)$$\n",
    "\n",
    "para $t$ entre $t_0$ y $t_0+h$  (cambiando la variable de integración a $t'$), obtenemos\n",
    "\n",
    "$$x(t_0+h) - x(t_0) = \\int_{t_0}^{t_0+h} f(x(t'), t') dt',$$\n",
    "\n",
    "es decir\n",
    "\n",
    "$$x(t_0+h) = x(t_0) + \\int_{t_0}^{t_0+h} f(x(t'), t') dt',$$\n",
    "\n",
    "[8] ¿Cómo podemos obtener el método de Euler de esta formulación integral? Es decir, ¿cuál es la aproximación de la función $f$ que utilizamos?\n",
    "\n",
    "[9] ¿Cómo podemos mejorar la aproximación de la función $f$, y así mejorar el método numérico para resolver la EDO? ¿Cuál es el problema? ¿Se te ocurre una solución?\n",
    "\n",
    "[10] Demuestra que tu solución es correcta a *segundo* orden, es decir que el error local es un orden de magnitud más chica en $h$.\n",
    "\n",
    "[11] Aplica el nuevo método "
   ]
  },
  {
   "cell_type": "markdown",
   "metadata": {},
   "source": [
    "Los métodos de Runge-Kutta aproximan la función $f$ en el intervalo de distintas maneras.\n",
    "\n",
    "[12] El método de Runge-Kutta más clásico es el RK4, el método de cuarto orden. Búscalo e impleméntalo. Nota que está complicado derivarlo. \n",
    "\n",
    "[13] Aplica RK4 a una ecuación de primer orden y al oscilador armónico. Para el oscilador armónico, encuentra numéricamente su tasa de convergencia, y compara su comportamiento numérico con los otros métodos que has desarrollado siguiendo el mismo método que en la pregunta [3]."
   ]
  }
 ],
 "metadata": {
  "kernelspec": {
   "display_name": "Julia 0.3.12-pre",
   "language": "julia",
   "name": "julia-0.3"
  },
  "language_info": {
   "file_extension": ".jl",
   "mimetype": "application/julia",
   "name": "julia",
   "version": "0.3.12"
  }
 },
 "nbformat": 4,
 "nbformat_minor": 0
}
