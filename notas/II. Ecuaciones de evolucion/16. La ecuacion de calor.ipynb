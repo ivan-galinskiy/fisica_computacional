{
 "cells": [
  {
   "cell_type": "markdown",
   "metadata": {},
   "source": [
    "Las ecuaciones diferenciales parciales (EDPs) constituyen otra área de suma importancia en la física, ya que modelan sistemas que varían con respecto a más de una variable independiente.\n",
    "\n",
    "El tipo de EDPs que es más sencillo de punto de vista numérico es el de las EDPs dichas **parabólicas**, de las cuales la más conocida es la **ecuación de calor** o **ecuación de difusión**."
   ]
  },
  {
   "cell_type": "markdown",
   "metadata": {},
   "source": [
    "# La ecuación de calor"
   ]
  },
  {
   "cell_type": "markdown",
   "metadata": {},
   "source": [
    "La ecuación de calor modela el esparcimiento en el tiempo y en el espacio de un \"paquete\" de calor (perturbación de temperatura) o de concentración de una sustancia física o química. \n",
    "\n",
    "Llamemos $u(\\mathbf{x},t)$ la perturbación de la temperatura o la concentración de la sustancia en la posición $\\mathbf{x}$ al tiempo $t$. La ecuación de calor es\n",
    "\n",
    "$$\\frac{\\partial u}{\\partial t} = D \\nabla^2 u.$$\n",
    "\n",
    "[Recordemos que $\\nabla^2 \\equiv \\frac{\\partial^2}{\\partial x^2} + \\frac{\\partial^2}{\\partial y^2} + \\frac{\\partial^2}{\\partial z^2}$ en tres dimensiones.]\n",
    "\n",
    "Esta ecuación nos dice cómo varía la concentración en el tiempo, dadas las condiciones locales en el espacio. Se deriva en términos de una ley de conservación:\n",
    "\n",
    "$$\\frac{\\partial u}{\\partial t} + \\nabla \\cdot \\mathbf{J} = 0,$$\n",
    "\n",
    "donde el flujo de calor o de concentración $\\mathbf{J}$ es proporcional a la gradiente local:\n",
    "\n",
    "$$\\mathbf{J} = -D \\nabla u.$$\n",
    "\n",
    "Es una ecuación de *evolución* (describe la evolución temporal del sistema). Por lo tanto, su tratamiento se sigue de forma más natural de lo que hemos visto para EDOs.\n",
    "\n",
    "## Una dimensión\n",
    "\n",
    "El caso más sencillo, con el cual empezaremos, es en una dimensión, cuando la ecuación de calor se reduce a\n",
    "\n",
    "$$\\frac{\\partial u(x,t)}{\\partial t} = D \\frac{\\partial^2 u(x,t)}{\\partial x^2}.$$\n",
    "\n",
    "Para resolverla, necesitaremos una condición inicial, así como condiciones a la frontera para todo tiempo.\n",
    "\n"
   ]
  },
  {
   "cell_type": "markdown",
   "metadata": {},
   "source": [
    "# Métodos numéricos "
   ]
  },
  {
   "cell_type": "markdown",
   "metadata": {},
   "source": [
    "Dado que, como siempre, no podemos resolver problemas de naturaleza continua en la computadora, tendremos que *aproximar la solución* $u(x,t)$ de alguna forma. La manera más sencilla será **discretizarla*."
   ]
  },
  {
   "cell_type": "markdown",
   "metadata": {},
   "source": [
    "[1] Pensando en tu experiencia con las ecuaciones diferenciales ordinarias, ¿cómo se te ocurre discretizar $u(x,t)$? En estos términos, ¿cómo puedes discretizar la EDP?\n",
    "\n",
    "[2] Considera la ecuación de calor en una dimensión con condición inicial $u(x,t=0) = \\delta(x)$, donde $\\delta$ es la delta de Dirac, y condiciones de frontera absorbentes (de Dirichlet) en $x=0$ y $x=L$. \n",
    "\n",
    "(i) ¿Qué esperas intuitivamente que pase durante la evolución? ¿Qué pasará para tiempos largos?\n",
    "\n",
    "(ii) Escribe lo que pasará en las fronteras en términos de tu discretización.\n",
    "\n",
    "(iii) Implementa el sistema.\n",
    "\n",
    "(iv) Dibuja la evolución, e.g. como animación. ¿Ocurre lo que esperabas?\n",
    "\n",
    "(v) ¿Qué ocurre si tomas otra condición inicial, por ejemplo una suma de dos deltas?\n",
    "\n",
    "(vi) Los parámetros $\\delta t$ y $\\delta x$ de la discretización en el tiempo y en el espacio, respectivamente, ocurren en una combinación en la ecuación discretizada. ¿Cuál es esta combinación?  Resulta que el método numérico es estable para ciertos valores de este parámetro, e inestable para otros. Encuentra numéricamente el valor crítico de este parámetro, debajo del cual el método es estable y arriba del cual es inestable."
   ]
  },
  {
   "cell_type": "markdown",
   "metadata": {},
   "source": [
    "[2] (i) Para un sistema grande (tal que el efecto de las fronteras se puede ignorar), compara el resultado de la evolución temporal calculado numéricamente con el resultado analítico conocido para el sistema. ¿Qué observas?\n",
    "\n",
    "(ii) Para un sistema más chico, para el cual el efecto de las fronteras es importante, escribe las ecuaciones de frontera explícitamente en términos de la formulación continua. \n",
    "\n",
    "(iii) Encuentra la solución analítica de la ecuación de difusión con estas condiciones de frontera y la delta de Dirac como solución inicial. \n",
    "\n",
    "(iii) Compara los resultados numéricos con esta solución."
   ]
  },
  {
   "cell_type": "markdown",
   "metadata": {},
   "source": [
    "[3] Repite las preguntas [1] y [2] para condiciones de frontera de Neumann."
   ]
  },
  {
   "cell_type": "markdown",
   "metadata": {},
   "source": [
    "[4] Pensando sólo en la parte de la evolución temporal:\n",
    "\n",
    "(i) ¿A qué método numérico para EDOs corresponde? \n",
    "\n",
    "(ii) Discretiza *sólo* la derivada espacial de la ecuación y deja sin discretizarse la derivada temporal. El resultado se llama una **semi-discretización** de la ecuación. ¿Qué forma tiene?\n",
    "\n",
    "(iii) Así, especifica cuáles otros métodos numéricos podrías aplicar.\n",
    "\n",
    "(i˜v) Impleméntalos y compáralos con la solución analítica, tanto para un sistema grande, como para un sistema chico. "
   ]
  },
  {
   "cell_type": "markdown",
   "metadata": {},
   "source": [
    "[5] Considera un sistema con **condiciones periódicas de frontera**, es decir, sobre un círculo, en el cual $u(x=0) = u(x=L)$ para toda $t$. \n",
    "\n",
    "(i) Encuentra la solución analítica de la ecuación de difusión.\n",
    "\n",
    "(ii) Encuentra la solución numérica con distintos métodos."
   ]
  },
  {
   "cell_type": "markdown",
   "metadata": {},
   "source": [
    "** [6] ¿Cómo puedes mejorar la discretización espacial? Impleméntalo."
   ]
  }
 ],
 "metadata": {
  "kernelspec": {
   "display_name": "Julia 0.3.11",
   "language": "julia",
   "name": "julia-0.3"
  },
  "language_info": {
   "name": "julia",
   "version": "0.3.11"
  }
 },
 "nbformat": 4,
 "nbformat_minor": 0
}
