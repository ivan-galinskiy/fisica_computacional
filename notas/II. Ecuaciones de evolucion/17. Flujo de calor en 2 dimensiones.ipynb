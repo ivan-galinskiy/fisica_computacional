{
 "cells": [
  {
   "cell_type": "markdown",
   "metadata": {},
   "source": [
    "Los sistemas físicos raremente viven en 1 sola dimensión. Es más usual que sean dos-dimensionales y tres-dimensionales. \n",
    "\n",
    "Dado que los sistemas 3D son computacionalmente demandantes, y las ideas a menudo son las mismas que en 2D, nos restringiremos aquí al caso 2D.\n",
    "\n",
    "La ecuación de difusión en 2D es\n",
    "\n",
    "$$\\frac{\\partial u(x,y,t)}{\\partial t} = \\nabla^2 u(x,y,t) \n",
    "= \\frac{\\partial^2 u(x,y,t)}{\\partial x^2} + \\frac{\\partial^2 u(x,y,t)}{\\partial y^2}.$$"
   ]
  },
  {
   "cell_type": "markdown",
   "metadata": {},
   "source": [
    "[1] (i) Pensando en la discretización de $u(x,t)$ como $u_i^n$ en los puntos de la malla $(x_i; t_n)$ que utilizamos para el caso 1D, ¿cómo propones discretizar $u(x,y,t)$ en un punto de la malla con coordinadas $(x_i, y_j; t_n)$?\n",
    "\n",
    "(ii) Teniendo esta discretización, encuentra una discretización de $\\nabla^2 u$ en el punto $(x_i, y_j; t_n)$.\n",
    "\n",
    "(iii) Así, escribe la ecuación discretizada en la malla y así encuentra la regla para la evolución de Euler en el tiempo."
   ]
  },
  {
   "cell_type": "markdown",
   "metadata": {},
   "source": [
    "[2] (i) ¿Cómo son las condiciones de frontera de Dirichlet ahora? ¿Qué esperas ver físicamente para este tipo de condiciones absorbentes?\n",
    "\n",
    "(ii) Impleméntalo numéricamente y haz una animación para una condición inicial tipo delta.\n",
    "\n",
    "(iii) ¿Qué ocurre para otras condiciones iniciales?\n"
   ]
  },
  {
   "cell_type": "markdown",
   "metadata": {},
   "source": [
    "[3] (i) Repite la pregunta [2] con condiciones de Neumann.\n",
    "\n",
    "(ii) Ahora hazlo con condiciones periódicas de frontera."
   ]
  },
  {
   "cell_type": "markdown",
   "metadata": {},
   "source": [
    "** [4] Implementa un método mejorado de integración numérica de la ecuación de difusión 2D."
   ]
  }
 ],
 "metadata": {
  "kernelspec": {
   "display_name": "Julia 0.3.11",
   "language": "julia",
   "name": "julia-0.3"
  },
  "language_info": {
   "name": "julia",
   "version": "0.3.11"
  }
 },
 "nbformat": 4,
 "nbformat_minor": 0
}
