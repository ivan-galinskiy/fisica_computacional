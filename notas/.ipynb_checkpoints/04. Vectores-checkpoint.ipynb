{
 "cells": [
  {
   "cell_type": "markdown",
   "metadata": {},
   "source": [
    "# Vectores"
   ]
  },
  {
   "cell_type": "markdown",
   "metadata": {},
   "source": [
    "Los arreglos se pueden considerar simplemente como secuencias de números, es decir, un tipo de *contenedor* que contienen datos.\n",
    "\n",
    "Sin embargo, en la física, usamos colecciones de números con otra meta: *representar* a las componentes de vectores matemáticos.\n",
    "\n",
    "Resulta que en Julia, podemos utilizar arreglos ¡también para este fin!\n",
    "\n",
    "[1] Define dos vectores `v` y `w` con tres componentes cada quien. "
   ]
  },
  {
   "cell_type": "markdown",
   "metadata": {},
   "source": [
    "[2] Intenta calcular dos veces `v`,  y la suma de `v` y `w`. ¿Funciona como esperarías?"
   ]
  },
  {
   "cell_type": "markdown",
   "metadata": {},
   "source": [
    "[3] Adivina cómo se llaman las funciones de producto punto y cruz, y verifica que funcionan."
   ]
  },
  {
   "cell_type": "markdown",
   "metadata": {},
   "source": [
    "[4] Estas funciones también se pueden escribir con `\\cdot` y `\\times`,  respectivamente. Inténtalo."
   ]
  },
  {
   "cell_type": "markdown",
   "metadata": {},
   "source": [
    "[5] ¿Qué pasa si intentas multiplicar `v` y `w`? ¿Por qué?"
   ]
  },
  {
   "cell_type": "code",
   "execution_count": 9,
   "metadata": {
    "collapsed": false
   },
   "outputs": [
    {
     "name": "stdout",
     "output_type": "stream",
     "text": [
      "[2,4,6]\n",
      "[5,7,9]\n",
      "[-3,6,-3]\n",
      "6\n",
      "32\n",
      "[-3,6,-3]\n"
     ]
    }
   ],
   "source": [
    "v = [1, 2, 3];\n",
    "w = [4, 5, 6];\n",
    "\n",
    "println(2v);\n",
    "println(v + w);\n",
    "println(cross(v, w));\n",
    "println(dot([1,2,3], [1,1,1]));\n",
    "\n",
    "println(v⋅w)\n",
    "println(v×w)"
   ]
  },
  {
   "cell_type": "markdown",
   "metadata": {},
   "source": [
    "# Operaciones sobre vectores"
   ]
  },
  {
   "cell_type": "markdown",
   "metadata": {},
   "source": [
    "Hay muchas operaciones que por conveniencia ya están definidas para que operen sobre vectores. Normalmente las operaciones son *componente por componente*.\n",
    "\n",
    "Las operaciones aritméticas que funcionen elemento de elemento, aparte de `+` y `-` y multiplicación por un escalar, se escriben con un `.` antes de la operación. Por ejemplo, podemos dividir dos vectores elemento por elemento así:"
   ]
  },
  {
   "cell_type": "code",
   "execution_count": 4,
   "metadata": {
    "collapsed": false
   },
   "outputs": [
    {
     "data": {
      "text/plain": [
       "3-element Array{Int64,1}:\n",
       " 6\n",
       " 7\n",
       " 8"
      ]
     },
     "execution_count": 4,
     "metadata": {},
     "output_type": "execute_result"
    }
   ],
   "source": [
    "v = [3,4,5]\n",
    "w = [6,7,8]"
   ]
  },
  {
   "cell_type": "code",
   "execution_count": 5,
   "metadata": {
    "collapsed": false
   },
   "outputs": [
    {
     "data": {
      "text/plain": [
       "3-element Array{Float64,1}:\n",
       " 0.5     \n",
       " 0.571429\n",
       " 0.625   "
      ]
     },
     "execution_count": 5,
     "metadata": {},
     "output_type": "execute_result"
    }
   ],
   "source": [
    "v ./ w"
   ]
  },
  {
   "cell_type": "markdown",
   "metadata": {},
   "source": [
    "[1] Define una función `producto_punto` que hace tu propio producto punto de dos vectores. "
   ]
  },
  {
   "cell_type": "code",
   "execution_count": 10,
   "metadata": {
    "collapsed": false
   },
   "outputs": [
    {
     "data": {
      "text/plain": [
       "14"
      ]
     },
     "execution_count": 10,
     "metadata": {},
     "output_type": "execute_result"
    }
   ],
   "source": [
    "producto_punto(v1, v2) = sum(v1 .* v2);\n",
    "producto_punto([1,2,3],[1,2,3])"
   ]
  },
  {
   "cell_type": "markdown",
   "metadata": {},
   "source": [
    "Muchas operaciones matemáticas también están definidas, y operan elemento por elemento:"
   ]
  },
  {
   "cell_type": "code",
   "execution_count": 1,
   "metadata": {
    "collapsed": false
   },
   "outputs": [
    {
     "data": {
      "text/plain": [
       "3-element Array{Float64,1}:\n",
       "  0.14112 \n",
       " -0.756802\n",
       " -0.958924"
      ]
     },
     "execution_count": 1,
     "metadata": {},
     "output_type": "execute_result"
    }
   ],
   "source": [
    "v = [3, 4, 5]\n",
    "sin(v)"
   ]
  },
  {
   "cell_type": "markdown",
   "metadata": {},
   "source": [
    "[2] Dibuja en una sola gráfica las funciones $\\sin$, $\\cos$, $2 \\sin$, $\\sin^2$ y $\\frac{1}{2} \\cos$"
   ]
  },
  {
   "cell_type": "code",
   "execution_count": 13,
   "metadata": {
    "collapsed": false
   },
   "outputs": [
    {
     "name": "stderr",
     "output_type": "stream",
     "text": [
      "WARNING: Color is deprecated, please use Colors instead. See https://github.com/JuliaGraphics/Colors.jl\n",
      "\n",
      "(.:2884): Gtk-WARNING **: Theme parsing error: gtk.css:3:11: Not using units is deprecated. Assuming 'px'.\n"
     ]
    }
   ],
   "source": [
    "using PyPlot;"
   ]
  },
  {
   "cell_type": "code",
   "execution_count": 14,
   "metadata": {
    "collapsed": false
   },
   "outputs": [
    {
     "name": "stdout",
     "output_type": "stream",
     "text": [
      "Plot lines and/or markers to the\n",
      ":class:`~matplotlib.axes.Axes`.  *args* is a variable length\n",
      "argument, allowing for multiple *x*, *y* pairs with an\n",
      "optional format string.  For example, each of the following is\n",
      "legal::\n",
      "\n",
      "    plot(x, y)        # plot x and y using default line style and color\n",
      "    plot(x, y, 'bo')  # plot x and y using blue circle markers\n",
      "    plot(y)           # plot y using x as index array 0..N-1\n",
      "    plot(y, 'r+')     # ditto, but with red plusses\n",
      "\n",
      "If *x* and/or *y* is 2-dimensional, then the corresponding columns\n",
      "will be plotted.\n",
      "\n",
      "An arbitrary number of *x*, *y*, *fmt* groups can be\n",
      "specified, as in::\n",
      "\n",
      "    a.plot(x1, y1, 'g^', x2, y2, 'g-')\n",
      "\n",
      "Return value is a list of lines that were added.\n",
      "\n",
      "By default, each line is assigned a different color specified by a\n",
      "'color cycle'.  To change this behavior, you can edit the\n",
      "axes.color_cycle rcParam.\n",
      "\n",
      "The following format string characters are accepted to control\n",
      "the line style or marker:\n",
      "\n",
      "================    ===============================\n",
      "character           description\n",
      "================    ===============================\n",
      "``'-'``             solid line style\n",
      "``'--'``            dashed line style\n",
      "``'-.'``            dash-dot line style\n",
      "``':'``             dotted line style\n",
      "``'.'``             point marker\n",
      "``','``             pixel marker\n",
      "``'o'``             circle marker\n",
      "``'v'``             triangle_down marker\n",
      "``'^'``             triangle_up marker\n",
      "``'<'``             triangle_left marker\n",
      "``'>'``             triangle_right marker\n",
      "``'1'``             tri_down marker\n",
      "``'2'``             tri_up marker\n",
      "``'3'``             tri_left marker\n",
      "``'4'``             tri_right marker\n",
      "``'s'``             square marker\n",
      "``'p'``             pentagon marker\n",
      "``'*'``             star marker\n",
      "``'h'``             hexagon1 marker\n",
      "``'H'``             hexagon2 marker\n",
      "``'+'``             plus marker\n",
      "``'x'``             x marker\n",
      "``'D'``             diamond marker\n",
      "``'d'``             thin_diamond marker\n",
      "``'|'``             vline marker\n",
      "``'_'``             hline marker\n",
      "================    ===============================\n",
      "\n",
      "\n",
      "The following color abbreviations are supported:\n",
      "\n",
      "==========  ========\n",
      "character   color\n",
      "==========  ========\n",
      "'b'         blue\n",
      "'g'         green\n",
      "'r'         red\n",
      "'c'         cyan\n",
      "'m'         magenta\n",
      "'y'         yellow\n",
      "'k'         black\n",
      "'w'         white\n",
      "==========  ========\n",
      "\n",
      "In addition, you can specify colors in many weird and\n",
      "wonderful ways, including full names (``'green'``), hex\n",
      "strings (``'#008000'``), RGB or RGBA tuples (``(0,1,0,1)``) or\n",
      "grayscale intensities as a string (``'0.8'``).  Of these, the\n",
      "string specifications can be used in place of a ``fmt`` group,\n",
      "but the tuple forms can be used only as ``kwargs``.\n",
      "\n",
      "Line styles and colors are combined in a single format string, as in\n",
      "``'bo'`` for blue circles.\n",
      "\n",
      "The *kwargs* can be used to set line properties (any property that has\n",
      "a ``set_*`` method).  You can use this to set a line label (for auto\n",
      "legends), linewidth, anitialising, marker face color, etc.  Here is an\n",
      "example::\n",
      "\n",
      "    plot([1,2,3], [1,2,3], 'go-', label='line 1', linewidth=2)\n",
      "    plot([1,2,3], [1,4,9], 'rs',  label='line 2')\n",
      "    axis([0, 4, 0, 10])\n",
      "    legend()\n",
      "\n",
      "If you make multiple lines with one plot command, the kwargs\n",
      "apply to all those lines, e.g.::\n",
      "\n",
      "    plot(x1, y1, x2, y2, antialised=False)\n",
      "\n",
      "Neither line will be antialiased.\n",
      "\n",
      "You do not need to use format strings, which are just\n",
      "abbreviations.  All of the line properties can be controlled\n",
      "by keyword arguments.  For example, you can set the color,\n",
      "marker, linestyle, and markercolor with::\n",
      "\n",
      "    plot(x, y, color='green', linestyle='dashed', marker='o',\n",
      "         markerfacecolor='blue', markersize=12).\n",
      "\n",
      "See :class:`~matplotlib.lines.Line2D` for details.\n",
      "\n",
      "The kwargs are :class:`~matplotlib.lines.Line2D` properties:\n",
      "\n",
      "  agg_filter: unknown\n",
      "  alpha: float (0.0 transparent through 1.0 opaque)         \n",
      "  animated: [True | False]         \n",
      "  antialiased or aa: [True | False]         \n",
      "  axes: an :class:`~matplotlib.axes.Axes` instance         \n",
      "  clip_box: a :class:`matplotlib.transforms.Bbox` instance         \n",
      "  clip_on: [True | False]         \n",
      "  clip_path: [ (:class:`~matplotlib.path.Path`,         :class:`~matplotlib.transforms.Transform`) |         :class:`~matplotlib.patches.Patch` | None ]         \n",
      "  color or c: any matplotlib color         \n",
      "  contains: a callable function         \n",
      "  dash_capstyle: ['butt' | 'round' | 'projecting']         \n",
      "  dash_joinstyle: ['miter' | 'round' | 'bevel']         \n",
      "  dashes: sequence of on/off ink in points         \n",
      "  drawstyle: ['default' | 'steps' | 'steps-pre' | 'steps-mid' |                   'steps-post']         \n",
      "  figure: a :class:`matplotlib.figure.Figure` instance         \n",
      "  fillstyle: ['full' | 'left' | 'right' | 'bottom' | 'top' | 'none']         \n",
      "  gid: an id string         \n",
      "  label: string or anything printable with '%s' conversion.         \n",
      "  linestyle or ls: [``'-'`` | ``'--'`` | ``'-.'`` | ``':'`` | ``'None'`` |                   ``' '`` | ``''``]\n",
      "  linewidth or lw: float value in points         \n",
      "  lod: [True | False]         \n",
      "  marker: :mod:`A valid marker style <matplotlib.markers>`\n",
      "  markeredgecolor or mec: any matplotlib color         \n",
      "  markeredgewidth or mew: float value in points         \n",
      "  markerfacecolor or mfc: any matplotlib color         \n",
      "  markerfacecoloralt or mfcalt: any matplotlib color         \n",
      "  markersize or ms: float         \n",
      "  markevery: [None | int | length-2 tuple of int | slice |         list/array of int | float | length-2 tuple of float]\n",
      "  path_effects: unknown\n",
      "  picker: float distance in points or callable pick function         ``fn(artist, event)``         \n",
      "  pickradius: float distance in points         \n",
      "  rasterized: [True | False | None]         \n",
      "  sketch_params: unknown\n",
      "  snap: unknown\n",
      "  solid_capstyle: ['butt' | 'round' |  'projecting']         \n",
      "  solid_joinstyle: ['miter' | 'round' | 'bevel']         \n",
      "  transform: a :class:`matplotlib.transforms.Transform` instance         \n",
      "  url: a url string         \n",
      "  visible: [True | False]         \n",
      "  xdata: 1D array         \n",
      "  ydata: 1D array         \n",
      "  zorder: any number         \n",
      "\n",
      "kwargs *scalex* and *scaley*, if defined, are passed on to\n",
      ":meth:`~matplotlib.axes.Axes.autoscale_view` to determine\n",
      "whether the *x* and *y* axes are autoscaled; the default is\n",
      "*True*.\n",
      "\n",
      "\n",
      "\n",
      "Additional kwargs: hold = [True|False] overrides default hold state\n"
     ]
    }
   ],
   "source": [
    "xr = [1:2π/100:2π];\n",
    "help(plot)"
   ]
  },
  {
   "cell_type": "markdown",
   "metadata": {},
   "source": [
    "[3] Encuentra gráficamente la solución de la ecuación $\\tan(x) = x$."
   ]
  }
 ],
 "metadata": {
  "kernelspec": {
   "display_name": "Julia 0.3.11",
   "language": "julia",
   "name": "julia-0.3"
  },
  "language_info": {
   "name": "julia",
   "version": "0.3.11"
  }
 },
 "nbformat": 4,
 "nbformat_minor": 0
}
