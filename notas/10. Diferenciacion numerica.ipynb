{
 "cells": [
  {
   "cell_type": "markdown",
   "metadata": {},
   "source": [
    "# Diferenciación numérica"
   ]
  },
  {
   "cell_type": "markdown",
   "metadata": {},
   "source": [
    "Como ya hemos visto con el método de Newton, a menudo es necesario calcular la derivada de una función. Próximamente también querremos aproximar la derivada de una función definida solamente en ciertos puntos, e.g. de una malla.\n",
    "\n",
    "Por lo tanto, un tema fundamental en la física computacional es el calcular derivadas numéricamente. En este notebook, veremos una manera clásica de calcular derivadas con diferencias finitas. Sin embargo, ¡**el hecho de ser clásico no necesariamente implica que sea la manera recomendada de hacerlo**! Posteriormente veremos un método *mucho mejor* para calcular derivadas de funciones dadas como funciones de Julia."
   ]
  },
  {
   "cell_type": "markdown",
   "metadata": {},
   "source": [
    "[1]  Piensa en una función $f \\colon \\mathbb{R} \\to \\mathbb{R}$. \n",
    "\n",
    "(i) ¿Cuál es la definición matemática de la derivada $f'(a)$ de $f$ en el punto $a \\in \\mathbb{R}$, en términos de la distancia $h$ desde $a$?\n",
    "\n",
    "(ii) ¿Qué parte de esta definición no se puede llevar a cabo en la computadora? ¿Qué solución se te ocurre? Esto se llama una *diferencia dividida* (o *diferencia finita*), y se usa la notación $f[x, x+h]$.\n",
    "\n",
    "(iii) Escribe una función que calcula la derivada de una función $f$ en un punto $a$, con un $h$ dado.\n",
    "\n",
    "(iv) Toma una función sencilla y fija $a$. Calcula $f[a, a+h]$ para distintos valores de $h$ y grafícalo en función de $h$. ¿Qué observas? ¿Qué implica con respecto al uso de esta fórmula? ¿Qué explicación puedes dar?\n",
    "\n",
    "(v) ¿Ayuda si utilizas números de más alta precisión (`big`)?"
   ]
  },
  {
   "cell_type": "markdown",
   "metadata": {},
   "source": [
    "[2] Vemos que para un cierto rango de $h$, parece que hay una convergencia. ¿Cómo puedes calcular la *tasa de convergencia* gráficamente / numéricamente? Pista: Julia tiene una función `linreg` para ajustar una línea recta a datos."
   ]
  },
  {
   "cell_type": "markdown",
   "metadata": {},
   "source": [
    "[3] Para entender esto analíticamente, hay que pensar en cómo se ve la función cerca del punto $a$. \n",
    "\n",
    "(i) Suponiendo que la función $f$ es suave, ¿qué técnica puedes utilizar para esto? Pista: considera $f(a+h)$. Así, encuentra el tamaño del \"error\" (en términos de potencias de $h$) que se comete cuando usas la aproximación de la pregunta [1]. \n",
    "\n",
    "(ii) ¿Coincide con tu resultado de la pregunta [2]?"
   ]
  },
  {
   "cell_type": "markdown",
   "metadata": {},
   "source": [
    "[4] Pensando en $f(a+h)$ y $f(a-h)$, encuentra una *mejor* aproximación de la derivada, y su error. Comprúebalo gráficamente / numéricamente. \n",
    "\n",
    "¿Cómo se podria encontrar una aproximación aún mejor?"
   ]
  },
  {
   "cell_type": "markdown",
   "metadata": {},
   "source": [
    "[5] Toma una función $f$ y *muestréala* (\"sample\") en una malla fina. \n",
    "\n",
    "(i) Calcula dos aproximaciones a la función $f'$ en la malla, usando los dos métodos. ¿Qué puedes hacer en los bordes de la malla?\n",
    "\n",
    "(ii) Compáralas con la derivada verdadera en estos puntos."
   ]
  },
  {
   "cell_type": "markdown",
   "metadata": {},
   "source": [
    "[6] Utiliza una idea parecida para calcular la segunda derivada $f''(a)$. Encuentra el error analíticamente y numéricamente."
   ]
  },
  {
   "cell_type": "markdown",
   "metadata": {},
   "source": [
    "[7] ¿Cómo se pueden extender estas ideas para calcular derivadas de funciones de más variables? \n",
    "\n",
    "(i) Empieza con el caso de una función $f: \\mathbb{R}^2 \\to \\mathbb{R}$.\n",
    "\n",
    "(ii) Escribe una función que calcula el Jacobiano de una función $f: \\mathbb{R}^2 \\to \\mathbb{R}^2$.\n",
    "\n",
    "**[Reto] Extiende eso a una función cualquiera de muchas variables, $f: \\mathbb{R}^m \\to \\mathbb{R}^n$. Puedes pasar $m$ y $n$ como argumentos a la función. "
   ]
  },
  {
   "cell_type": "code",
   "execution_count": null,
   "metadata": {
    "collapsed": true
   },
   "outputs": [],
   "source": []
  }
 ],
 "metadata": {
  "kernelspec": {
   "display_name": "Julia 0.3.11-pre",
   "language": "julia",
   "name": "julia-0.3"
  },
  "language_info": {
   "file_extension": ".jl",
   "mimetype": "application/julia",
   "name": "julia",
   "version": "0.3.11"
  }
 },
 "nbformat": 4,
 "nbformat_minor": 0
}
