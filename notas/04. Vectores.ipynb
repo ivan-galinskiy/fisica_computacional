{
 "metadata": {
  "language": "Julia",
  "name": "",
  "signature": "sha256:ced3388fcbf9b4babe2da9a872f27253b9c467dcae9926d4a3f63382c5c46536"
 },
 "nbformat": 3,
 "nbformat_minor": 0,
 "worksheets": [
  {
   "cells": [
    {
     "cell_type": "heading",
     "level": 1,
     "metadata": {},
     "source": [
      "Vectores"
     ]
    },
    {
     "cell_type": "markdown",
     "metadata": {},
     "source": [
      "Los arreglos se pueden considerar simplemente como secuencias de n\u00fameros, es decir, un tipo de *contenedor* que contienen datos.\n",
      "\n",
      "Sin embargo, en la f\u00edsica, usamos colecciones de n\u00fameros con otra meta: *representar* a las componentes de vectores matem\u00e1ticos.\n",
      "\n",
      "Resulta que en Julia, podemos utilizar arreglos \u00a1tambi\u00e9n para este fin!\n",
      "\n",
      "[1] Define dos vectores `v` y `w` con tres componentes cada quien. \n",
      "\n",
      "[2] Intenta calcular dos veces `v`,  y la suma de `v` y `w`. \u00bfFunciona como esperar\u00edas?\n",
      "\n",
      "[3] Adivina c\u00f3mo se llaman las funciones de producto punto y cruz, y verifica que funcionan.\n",
      "\n",
      "[4] Estas funciones tambi\u00e9n se pueden escribir con `\\cdot` y `\\times`,  respectivamente. Int\u00e9ntalo.\n",
      "\n",
      "[5] \u00bfQu\u00e9 pasa si intentas multiplicar `v` y `w`? \u00bfPor qu\u00e9?\n"
     ]
    },
    {
     "cell_type": "heading",
     "level": 1,
     "metadata": {},
     "source": [
      "Operaciones sobre vectores"
     ]
    },
    {
     "cell_type": "markdown",
     "metadata": {},
     "source": [
      "Hay muchas operaciones que por conveniencia ya est\u00e1n definidas para que operen sobre vectores. Normalmente las operaciones son *componente por componente*.\n",
      "\n",
      "Las operaciones aritm\u00e9ticas que funcionen elemento de elemento, aparte de `+` y `-` y multiplicaci\u00f3n por un escalar, se escriben con un `.` antes de la operaci\u00f3n. Por ejemplo, podemos dividir dos vectores elemento por elemento as\u00ed:"
     ]
    },
    {
     "cell_type": "code",
     "collapsed": false,
     "input": [
      "v = [3,4,5]\n",
      "w = [6,7,8]"
     ],
     "language": "python",
     "metadata": {},
     "outputs": [
      {
       "metadata": {},
       "output_type": "pyout",
       "prompt_number": 4,
       "text": [
        "3-element Array{Int64,1}:\n",
        " 6\n",
        " 7\n",
        " 8"
       ]
      }
     ],
     "prompt_number": 4
    },
    {
     "cell_type": "code",
     "collapsed": false,
     "input": [
      "v ./ w"
     ],
     "language": "python",
     "metadata": {},
     "outputs": [
      {
       "metadata": {},
       "output_type": "pyout",
       "prompt_number": 5,
       "text": [
        "3-element Array{Float64,1}:\n",
        " 0.5     \n",
        " 0.571429\n",
        " 0.625   "
       ]
      }
     ],
     "prompt_number": 5
    },
    {
     "cell_type": "markdown",
     "metadata": {},
     "source": [
      "[1] Define una funci\u00f3n `producto_punto` que hace tu propio producto punto de dos vectores. "
     ]
    },
    {
     "cell_type": "markdown",
     "metadata": {},
     "source": [
      "Muchas operaciones matem\u00e1ticas tambi\u00e9n est\u00e1n definidas, y operan elemento por elemento:"
     ]
    },
    {
     "cell_type": "code",
     "collapsed": false,
     "input": [
      "v = [3, 4, 5]\n",
      "sin(v)"
     ],
     "language": "python",
     "metadata": {},
     "outputs": [
      {
       "metadata": {},
       "output_type": "pyout",
       "prompt_number": 1,
       "text": [
        "3-element Array{Float64,1}:\n",
        "  0.14112 \n",
        " -0.756802\n",
        " -0.958924"
       ]
      }
     ],
     "prompt_number": 1
    },
    {
     "cell_type": "markdown",
     "metadata": {},
     "source": [
      "[2] Dibuja en una sola gr\u00e1fica las funciones $\\sin$, $\\cos$, $2 \\sin$, $\\sin^2$ y $\\frac{1}{2} \\cos$\n",
      "\n",
      "[3] Encuentra gr\u00e1ficamente la soluci\u00f3n de la ecuaci\u00f3n $\\tan(x) = x$."
     ]
    }
   ],
   "metadata": {}
  }
 ]
}