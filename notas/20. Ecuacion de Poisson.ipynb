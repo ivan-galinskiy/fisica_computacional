{
 "cells": [
  {
   "cell_type": "markdown",
   "metadata": {},
   "source": [
    "# La ecuación de Poisson"
   ]
  },
  {
   "cell_type": "markdown",
   "metadata": {},
   "source": [
    "Resolveremos la *ecuación de Poisson* en 2D,\n",
    "\n",
    "$$ \\nabla^2 \\phi(\\mathbf{x}) = -f(\\mathbf{x}), $$\n",
    "\n",
    "para encontrar el potencial y campo eléctrico debido a una distribución de carga $f(\\mathbf{x})$ en una caja cuadrada. Extenderemos la misma idea que aplicamos en 1D."
   ]
  },
  {
   "cell_type": "markdown",
   "metadata": {},
   "source": [
    "[1] Pensemos en dividir la caja en una malla cuadrada con distancia $h$ entre los puntos de la malla, tanto en la dirección $x$ como $y$. \n",
    "Encuentra una aproximación en diferencias finitas para $\\nabla^2 \\phi(x_i, y_j)$ en el punto $(x_i, y_j)$ de la malla.\n",
    "\n",
    "[2] Para seguir la idea del caso 1D, es necesario escribir estas ecuaciones simultáneas como *una sola ecuación matricial*. Es decir, \n",
    "debemos recolectar todas las $\\phi(x_i, y_j)$ en *un solo vector*.\n",
    "\n",
    "(i) Inventa una manera de hacer esto (es decir, enlistar los puntos $(x_i, y_j)$ de una forma coherente), y escribe funciones correspondientes para pasar de la posición dada por $(i, j)$ a la posición $k$ en tu lista, y vice versa.\n",
    "\n",
    "(ii) Para sistemas chiquitos, muestra las matrices correspondientes que se generan.\n",
    "\n",
    "\n",
    "[3] (i) Resuelve la ecuación de Laplace,\n",
    "$$\\nabla^2 \\phi = 0$$ con condiciones de frontera de Dirichlet, es decir, con valores dados en las fronteras. Empieza con el caso que $\\phi=0$ en tres de las fronteras y $\\phi=\\mathrm{constante}$ en la frontera de arriba. Dibuja el potencial.\n",
    "\n",
    "(ii) Encuentra las componentes del campo eléctrico $\\mathbf{E} = -\\nabla \\phi$. Dibuja el campo vectorial usando la función `quiver` de `PyPlot`.\n",
    "\n",
    "(iii) Experimenta con distintas condiciones de frontera.\n",
    "\n",
    "[4] Resuelve la ecuación de Poisson para una carga puntual tipo delta en algún punto de la malla. Utiliza condiciones de frontera $\\phi(x_i, y_j) = 0$ (representando un campo que decae $0$ a una distancia grande desde la carga). Dibuja el potencial y el campo eléctrico.\n",
    "\n",
    "[5] Encuentra el potencial y el campo eléctrico para un capacitor \"real\", es decir, dos placas paralelas de tamaño finito (menor de la caja), tanto entre las placas como afuera de ellas."
   ]
  }
 ],
 "metadata": {
  "kernelspec": {
   "display_name": "Julia 0.4.0",
   "language": "julia",
   "name": "julia-0.4"
  },
  "language_info": {
   "file_extension": ".jl",
   "mimetype": "application/julia",
   "name": "julia",
   "version": "0.4.0"
  }
 },
 "nbformat": 4,
 "nbformat_minor": 0
}
