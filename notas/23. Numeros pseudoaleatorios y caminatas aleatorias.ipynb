{
 "cells": [
  {
   "cell_type": "markdown",
   "metadata": {},
   "source": [
    "# Procesos estocásticos"
   ]
  },
  {
   "cell_type": "markdown",
   "metadata": {},
   "source": [
    "El concepto de *aleatoriedad* o *estocasticidad* juega un papel importante en la física. Se tratan de procesos, por ejemplo, el decaimiento radioactivo, que son *aleatorios* o *estocásticos*.\n",
    "\n",
    "Para modelar estos procesos en la computadora, necesitamos poder generar *números aleatorios* en la computadora. Hay un solo problema: no se puede, ya que ¡la computadora es, por naturaleza, un bicho determinista! [Pero se pueden captar datos de procesos aleatorios reales, o de la misma computadara. Ver e.g. <http://www.random.org/> ]\n",
    "\n"
   ]
  },
  {
   "cell_type": "markdown",
   "metadata": {},
   "source": [
    "# Números pseudoaleatorios"
   ]
  },
  {
   "cell_type": "markdown",
   "metadata": {},
   "source": [
    "Podemos producir secuencias de números que *parecen ser* aleatorios, usando iteraciones deterministas suficientemente complicadas. Pero tienen que diseñarse con mucho cuidado.\n",
    "\n",
    "Un ejemplo que antes se usaba, pero que *ya no se utiliza*, ya que no es tan bueno, son los generadores congruenciales lineales:\n",
    "\n",
    "$$X_{n+1} = \\left( a X_n + c \\right)~~\\bmod~~m$$\n",
    "\n",
    "[1] Implementa esta recurrencia con $a = 6364136223846793005$ y $c=\t1442695040888963407$. Tomamos $m=2^{64}$, es decir, usamos enteros *unsigned*:\n",
    "\n",
    "    a = uint64(6364136223846793005)\n",
    "    \n",
    "Los números resultantes caen entre 0 y $2^{64} - 1$.\n",
    "\n",
    "[2] Utiliza esto para hacer una función `mi_rand` que genere números aleatorios reales entre 0 y 1.\n",
    "\n",
    "[3] En Julia, existe la función `rand()` que [actualmente] ocupa un generador moderno, llamado Mersenne Twister.\n",
    "Al darle un argumento `N`, genera un vector de `N` números de este tipo.\n",
    "\n",
    "[4] (i) Genera $N$ números aleatorios. Haz un histograma de los datos usando la función `plt[:hist]` en el paquete `PyPlot` o la función `hist` de Julia.\n",
    "Se ven uniformemente distribuidos?\n",
    "\n",
    "(ii) Cambia $N$ y vuelve a calcular el histograma. Encuentra el \"error\" de las barras con respecto al valor esperado en función de $N$. Dibuja el error *relativo* como función de $N$. ¿Qué esperas que pase? ¿Cómo cambia el error relativo con $N$? \n",
    "\n"
   ]
  },
  {
   "cell_type": "markdown",
   "metadata": {},
   "source": [
    "# Caminatas aleatorias"
   ]
  },
  {
   "cell_type": "markdown",
   "metadata": {},
   "source": [
    "Uno de los procesos estocásticos más fundamentales e importantes en la física es el *movimiento Browniano*. Un acercamiento inicial a este p|roblema se da a través de las *caminatas aleatorias*, que modela una partícula que recibe impactos al azar, que hacen que brinque en direcciones aleatorias."
   ]
  },
  {
   "cell_type": "markdown",
   "metadata": {},
   "source": [
    "[5] Piensa en una caminata aleatoria en una dimensión. Vive en los enteros, y en cada paso de tiempo brinca a la derecha con probabilidad $\\frac{1}{2}$ y a la izquierda con probabilidad $\\frac{1}{2}$.\n",
    "\n",
    "Utiliza la función `mi_rand` o `rand` para generar el tamaño del brinco: $+1$ o $-1$, cada uno con probabilidad $\\frac{1}{2}$."
   ]
  },
  {
   "cell_type": "markdown",
   "metadata": {},
   "source": [
    "[6] Haz una función que calcule la trayectoria de una caminata aleatoria que empiece en $0$ y toma $N$ pasos al azar. Dibuja bastantes trayectorias en una misma gráfica. ¿Qué observas?\n",
    "\n",
    "[7] Modifica tu función para que brinque a la derecha con probabilidad $p$ y a la izquierda con probabilidad $q := 1-p$. Dibuja las trayectorias para varios valores de $p$. ¿Qué observas?"
   ]
  },
  {
   "cell_type": "markdown",
   "metadata": {},
   "source": [
    "[8] ¿Cómo puedes caracterizar la posición de la(s) caminata(s) después de $N$ pasos? Hazlo. ¿Cómo evoluciona en el tiempo? Si es demasiado trivial, piensa en otra caracterización."
   ]
  },
  {
   "cell_type": "markdown",
   "metadata": {},
   "source": [
    "# Caminatas aleatorias en 2D"
   ]
  },
  {
   "cell_type": "markdown",
   "metadata": {},
   "source": [
    "[9] Una partícula grande inmersa en un fluido lleva a cabo una caminata aleatoria / movimiento Browniano. Simula una partícula que vive en una red cuadrada con coordenadas enteras y puede brincar en cualquiera de las 4 direcciones más cercanas con igual probabilidad. Dibuja unas trayectorias."
   ]
  },
  {
   "cell_type": "markdown",
   "metadata": {},
   "source": [
    "[10] Para acercarnos a un movimiento Browniano, podemos hacer que los brincos sean de distintos tamaños. Piensa en varias formas de hacerlo, implementarlas, y dibuja las trayectorias correspondientes. ¿Cómo se pueden caracterizar los comportamientos resultantes?"
   ]
  }
 ],
 "metadata": {
  "kernelspec": {
   "display_name": "Julia 0.4.0",
   "language": "julia",
   "name": "julia-0.4"
  },
  "language_info": {
   "file_extension": ".jl",
   "mimetype": "application/julia",
   "name": "julia",
   "version": "0.4.0"
  }
 },
 "nbformat": 4,
 "nbformat_minor": 0
}
