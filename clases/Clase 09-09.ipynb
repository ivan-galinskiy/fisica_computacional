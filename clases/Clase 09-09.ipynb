{
 "cells": [
  {
   "cell_type": "markdown",
   "metadata": {},
   "source": [
    "# Crear arreglo de datos "
   ]
  },
  {
   "cell_type": "code",
   "execution_count": 1,
   "metadata": {
    "collapsed": false
   },
   "outputs": [
    {
     "data": {
      "text/plain": [
       "f (generic function with 1 method)"
      ]
     },
     "execution_count": 1,
     "metadata": {},
     "output_type": "execute_result"
    }
   ],
   "source": [
    "f(x) = x^2"
   ]
  },
  {
   "cell_type": "code",
   "execution_count": 2,
   "metadata": {
    "collapsed": false
   },
   "outputs": [
    {
     "data": {
      "text/plain": [
       "-5.0:0.1:5.0"
      ]
     },
     "execution_count": 2,
     "metadata": {},
     "output_type": "execute_result"
    }
   ],
   "source": [
    "xx = -5:0.1:5"
   ]
  },
  {
   "cell_type": "code",
   "execution_count": 10,
   "metadata": {
    "collapsed": false
   },
   "outputs": [],
   "source": [
    "y = Float64[]\n",
    "\n",
    "for x in xx\n",
    "    push!(y, f(x))\n",
    "end\n",
    "\n",
    "y;"
   ]
  },
  {
   "cell_type": "code",
   "execution_count": 9,
   "metadata": {
    "collapsed": false
   },
   "outputs": [],
   "source": [
    "y = [f(x) for x in xx];"
   ]
  },
  {
   "cell_type": "code",
   "execution_count": 11,
   "metadata": {
    "collapsed": false
   },
   "outputs": [],
   "source": [
    "y = map(f, xx);"
   ]
  },
  {
   "cell_type": "code",
   "execution_count": 6,
   "metadata": {
    "collapsed": false
   },
   "outputs": [
    {
     "ename": "LoadError",
     "evalue": "`*` has no method matching *(::FloatRange{Float64}, ::FloatRange{Float64})\nwhile loading In[6], in expression starting on line 1",
     "output_type": "error",
     "traceback": [
      "`*` has no method matching *(::FloatRange{Float64}, ::FloatRange{Float64})\nwhile loading In[6], in expression starting on line 1",
      "",
      " in power_by_squaring at intfuncs.jl:56",
      " in ^ at intfuncs.jl:86"
     ]
    }
   ],
   "source": [
    "y = xx^2"
   ]
  },
  {
   "cell_type": "code",
   "execution_count": 12,
   "metadata": {
    "collapsed": false
   },
   "outputs": [],
   "source": [
    "y = xx .^ 2;"
   ]
  },
  {
   "cell_type": "code",
   "execution_count": 22,
   "metadata": {
    "collapsed": false
   },
   "outputs": [
    {
     "data": {
      "text/plain": [
       "aplicar2 (generic function with 1 method)"
      ]
     },
     "execution_count": 22,
     "metadata": {},
     "output_type": "execute_result"
    }
   ],
   "source": [
    "function aplicar1(f, xx)\n",
    "    Float64[f(x) for x in xx]\n",
    "end\n",
    "\n",
    "function aplicar2(f, xx)\n",
    "    map(f, xx)\n",
    "end"
   ]
  },
  {
   "cell_type": "code",
   "execution_count": null,
   "metadata": {
    "collapsed": true
   },
   "outputs": [],
   "source": []
  },
  {
   "cell_type": "code",
   "execution_count": 20,
   "metadata": {
    "collapsed": false
   },
   "outputs": [],
   "source": [
    "xx = collect(xx);"
   ]
  },
  {
   "cell_type": "code",
   "execution_count": 18,
   "metadata": {
    "collapsed": false
   },
   "outputs": [
    {
     "data": {
      "text/plain": [
       "101-element Array{Any,1}:\n",
       " 25.0 \n",
       " 24.01\n",
       " 23.04\n",
       " 22.09\n",
       " 21.16\n",
       " 20.25\n",
       " 19.36\n",
       " 18.49\n",
       " 17.64\n",
       " 16.81\n",
       " 16.0 \n",
       " 15.21\n",
       " 14.44\n",
       "  ⋮   \n",
       " 15.21\n",
       " 16.0 \n",
       " 16.81\n",
       " 17.64\n",
       " 18.49\n",
       " 19.36\n",
       " 20.25\n",
       " 21.16\n",
       " 22.09\n",
       " 23.04\n",
       " 24.01\n",
       " 25.0 "
      ]
     },
     "execution_count": 18,
     "metadata": {},
     "output_type": "execute_result"
    }
   ],
   "source": [
    "aplicar(f, xx)"
   ]
  },
  {
   "cell_type": "code",
   "execution_count": 27,
   "metadata": {
    "collapsed": false
   },
   "outputs": [],
   "source": [
    "aplicar1(f, xx) - aplicar2(f, xx);"
   ]
  },
  {
   "cell_type": "code",
   "execution_count": 36,
   "metadata": {
    "collapsed": false
   },
   "outputs": [
    {
     "name": "stdout",
     "output_type": "stream",
     "text": [
      "elapsed time: 0.007453106 seconds (4128000 bytes allocated)\n",
      "elapsed time: 0.007715954 seconds (4128000 bytes allocated)\n"
     ]
    }
   ],
   "source": [
    "gc()\n",
    "@time for i in 1:1000; aplicar1(f, xx); end\n",
    "@time for i in 1:1000; aplicar2(f, xx); end\n"
   ]
  },
  {
   "cell_type": "markdown",
   "metadata": {},
   "source": [
    "## `linspace` "
   ]
  },
  {
   "cell_type": "code",
   "execution_count": 37,
   "metadata": {
    "collapsed": false
   },
   "outputs": [
    {
     "name": "stderr",
     "output_type": "stream",
     "text": [
      "INFO: Loading help data...\n"
     ]
    },
    {
     "name": "stdout",
     "output_type": "stream",
     "text": [
      "Base.linspace(start, stop, n)\n",
      "\n",
      "   Construct a vector of \"n\" linearly-spaced elements from \"start\"\n",
      "   to \"stop\". See also: \"linrange()\" that constructs a range\n",
      "   object.\n"
     ]
    }
   ],
   "source": [
    "?linspace"
   ]
  },
  {
   "cell_type": "code",
   "execution_count": 38,
   "metadata": {
    "collapsed": false
   },
   "outputs": [
    {
     "data": {
      "text/plain": [
       "3-element Array{Float64,1}:\n",
       " 10.0\n",
       " 15.0\n",
       " 20.0"
      ]
     },
     "execution_count": 38,
     "metadata": {},
     "output_type": "execute_result"
    }
   ],
   "source": [
    "linspace(10, 20, 3)"
   ]
  },
  {
   "cell_type": "code",
   "execution_count": 40,
   "metadata": {
    "collapsed": false
   },
   "outputs": [
    {
     "data": {
      "text/plain": [
       "101-element Array{Float64,1}:\n",
       " -5.0\n",
       " -4.9\n",
       " -4.8\n",
       " -4.7\n",
       " -4.6\n",
       " -4.5\n",
       " -4.4\n",
       " -4.3\n",
       " -4.2\n",
       " -4.1\n",
       " -4.0\n",
       " -3.9\n",
       " -3.8\n",
       "  ⋮  \n",
       "  3.9\n",
       "  4.0\n",
       "  4.1\n",
       "  4.2\n",
       "  4.3\n",
       "  4.4\n",
       "  4.5\n",
       "  4.6\n",
       "  4.7\n",
       "  4.8\n",
       "  4.9\n",
       "  5.0"
      ]
     },
     "execution_count": 40,
     "metadata": {},
     "output_type": "execute_result"
    }
   ],
   "source": [
    "linspace(-5, 5, 101)"
   ]
  },
  {
   "cell_type": "code",
   "execution_count": 41,
   "metadata": {
    "collapsed": false
   },
   "outputs": [
    {
     "data": {
      "text/plain": [
       "101-element Array{Float64,1}:\n",
       " -5.0\n",
       " -4.9\n",
       " -4.8\n",
       " -4.7\n",
       " -4.6\n",
       " -4.5\n",
       " -4.4\n",
       " -4.3\n",
       " -4.2\n",
       " -4.1\n",
       " -4.0\n",
       " -3.9\n",
       " -3.8\n",
       "  ⋮  \n",
       "  3.9\n",
       "  4.0\n",
       "  4.1\n",
       "  4.2\n",
       "  4.3\n",
       "  4.4\n",
       "  4.5\n",
       "  4.6\n",
       "  4.7\n",
       "  4.8\n",
       "  4.9\n",
       "  5.0"
      ]
     },
     "execution_count": 41,
     "metadata": {},
     "output_type": "execute_result"
    }
   ],
   "source": [
    "collect(-5:0.1:5)"
   ]
  },
  {
   "cell_type": "code",
   "execution_count": 43,
   "metadata": {
    "collapsed": false
   },
   "outputs": [
    {
     "data": {
      "text/plain": [
       "102-element Array{Float64,1}:\n",
       " -5.0    \n",
       " -4.90099\n",
       " -4.80198\n",
       " -4.70297\n",
       " -4.60396\n",
       " -4.50495\n",
       " -4.40594\n",
       " -4.30693\n",
       " -4.20792\n",
       " -4.10891\n",
       " -4.0099 \n",
       " -3.91089\n",
       " -3.81188\n",
       "  ⋮      \n",
       "  3.91089\n",
       "  4.0099 \n",
       "  4.10891\n",
       "  4.20792\n",
       "  4.30693\n",
       "  4.40594\n",
       "  4.50495\n",
       "  4.60396\n",
       "  4.70297\n",
       "  4.80198\n",
       "  4.90099\n",
       "  5.0    "
      ]
     },
     "execution_count": 43,
     "metadata": {},
     "output_type": "execute_result"
    }
   ],
   "source": [
    "linspace(-5, 5, 102)"
   ]
  },
  {
   "cell_type": "code",
   "execution_count": 44,
   "metadata": {
    "collapsed": false
   },
   "outputs": [
    {
     "name": "stdout",
     "output_type": "stream",
     "text": [
      "Base.logspace(start, stop, n)\n",
      "\n",
      "   Construct a vector of \"n\" logarithmically-spaced numbers from\n",
      "   \"10^start\" to \"10^stop\".\n"
     ]
    }
   ],
   "source": [
    "?logspace"
   ]
  },
  {
   "cell_type": "code",
   "execution_count": 46,
   "metadata": {
    "collapsed": false
   },
   "outputs": [
    {
     "data": {
      "text/plain": [
       "-5.0:0.1:5.0"
      ]
     },
     "execution_count": 46,
     "metadata": {},
     "output_type": "execute_result"
    }
   ],
   "source": [
    "xx = -5:0.1:5"
   ]
  },
  {
   "cell_type": "code",
   "execution_count": 48,
   "metadata": {
    "collapsed": false
   },
   "outputs": [
    {
     "data": {
      "text/plain": [
       "101-element Array{Float64,1}:\n",
       "      1.0e-5     \n",
       "      1.25893e-5 \n",
       "      1.58489e-5 \n",
       "      1.99526e-5 \n",
       "      2.51189e-5 \n",
       "      3.16228e-5 \n",
       "      3.98107e-5 \n",
       "      5.01187e-5 \n",
       "      6.30957e-5 \n",
       "      7.94328e-5 \n",
       "      0.0001     \n",
       "      0.000125893\n",
       "      0.000158489\n",
       "      ⋮          \n",
       "   7943.28       \n",
       "  10000.0        \n",
       "  12589.3        \n",
       "  15848.9        \n",
       "  19952.6        \n",
       "  25118.9        \n",
       "  31622.8        \n",
       "  39810.7        \n",
       "  50118.7        \n",
       "  63095.7        \n",
       "  79432.8        \n",
       " 100000.0        "
      ]
     },
     "execution_count": 48,
     "metadata": {},
     "output_type": "execute_result"
    }
   ],
   "source": [
    "map(x->10^x, xx)"
   ]
  },
  {
   "cell_type": "code",
   "execution_count": 49,
   "metadata": {
    "collapsed": false
   },
   "outputs": [
    {
     "data": {
      "text/plain": [
       "100-element Array{Float64,1}:\n",
       " 1.0e-10    \n",
       " 1.2045e-10 \n",
       " 1.45083e-10\n",
       " 1.74753e-10\n",
       " 2.1049e-10 \n",
       " 2.53536e-10\n",
       " 3.05386e-10\n",
       " 3.67838e-10\n",
       " 4.43062e-10\n",
       " 5.3367e-10 \n",
       " 6.42807e-10\n",
       " 7.74264e-10\n",
       " 9.32603e-10\n",
       " ⋮          \n",
       " 0.00129155 \n",
       " 0.00155568 \n",
       " 0.00187382 \n",
       " 0.00225702 \n",
       " 0.00271859 \n",
       " 0.00327455 \n",
       " 0.00394421 \n",
       " 0.00475081 \n",
       " 0.00572237 \n",
       " 0.00689261 \n",
       " 0.00830218 \n",
       " 0.01       "
      ]
     },
     "execution_count": 49,
     "metadata": {},
     "output_type": "execute_result"
    }
   ],
   "source": [
    "logspace(-10, -2, 100)"
   ]
  },
  {
   "cell_type": "code",
   "execution_count": 50,
   "metadata": {
    "collapsed": false
   },
   "outputs": [
    {
     "data": {
      "text/html": [
       "logspace(start::<b>Real</b>,stop::<b>Real</b>,n::<b>Integer</b>) at <a href=\"https://github.com/JuliaLang/julia/tree/7709f2e9ab14f242b08634a1d5825a50bb5e1849/base/array.jl#L212\" target=\"_blank\">array.jl:212</a>"
      ],
      "text/plain": [
       "logspace(start::Real,stop::Real,n::Integer) at array.jl:212"
      ]
     },
     "execution_count": 50,
     "metadata": {},
     "output_type": "execute_result"
    }
   ],
   "source": [
    "@which logspace(1,2,3)"
   ]
  },
  {
   "cell_type": "code",
   "execution_count": null,
   "metadata": {
    "collapsed": true
   },
   "outputs": [],
   "source": []
  }
 ],
 "metadata": {
  "kernelspec": {
   "display_name": "Julia 0.3.11-pre",
   "language": "julia",
   "name": "julia-0.3"
  },
  "language_info": {
   "name": "julia",
   "version": "0.3.12"
  }
 },
 "nbformat": 4,
 "nbformat_minor": 0
}
