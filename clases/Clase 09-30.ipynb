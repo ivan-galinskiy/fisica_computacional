{
 "cells": [
  {
   "cell_type": "markdown",
   "metadata": {},
   "source": [
    "# Archivos"
   ]
  },
  {
   "cell_type": "markdown",
   "metadata": {},
   "source": [
    "- Memoria: chip en la máquina, que se borra al apagar\n",
    "- Disco duro: almacenaje permanente\n",
    "\n",
    "Archivo: vive en el disco duro -- secuencia de valores guardados *en el disco duro*"
   ]
  },
  {
   "cell_type": "markdown",
   "metadata": {},
   "source": [
    "¿Cómo escribir / leer archivos en Julia?"
   ]
  },
  {
   "cell_type": "code",
   "execution_count": 1,
   "metadata": {
    "collapsed": false
   },
   "outputs": [
    {
     "data": {
      "text/plain": [
       "3-element Array{Float64,1}:\n",
       " 3.0\n",
       " 4.0\n",
       " 5.0"
      ]
     },
     "execution_count": 1,
     "metadata": {},
     "output_type": "execute_result"
    }
   ],
   "source": [
    "X = [3, 4, 5.]"
   ]
  },
  {
   "cell_type": "markdown",
   "metadata": {},
   "source": [
    "Guardar estos datos:"
   ]
  },
  {
   "cell_type": "code",
   "execution_count": 2,
   "metadata": {
    "collapsed": false
   },
   "outputs": [
    {
     "name": "stderr",
     "output_type": "stream",
     "text": [
      "INFO: Loading help data...\n"
     ]
    },
    {
     "name": "stdout",
     "output_type": "stream",
     "text": [
      "Base.qrfact!(A[, pivot=false])\n",
      "Base.Profile.retrieve() -> data, lidict\n",
      "Base.cholfact!(A, [LU,][pivot=false,][tol=-1.0]) -> Cholesky\n",
      "Base.factorize!(A)\n",
      "Base.eigfact!(A[, B])\n",
      "Base.hessfact!(A)\n",
      "Base.lufact!(A) -> LU\n",
      "Base.svdfact!(A[, thin=true]) -> SVD\n",
      "Base.rfft(A[, dims])\n",
      "Base.bkfact!(A) -> BunchKaufman\n"
     ]
    }
   ],
   "source": [
    "apropos(\"save\")"
   ]
  },
  {
   "cell_type": "code",
   "execution_count": 3,
   "metadata": {
    "collapsed": false
   },
   "outputs": [
    {
     "name": "stdout",
     "output_type": "stream",
     "text": [
      "Base.nonzeros(A)\n",
      "Base.qrfact(A[, pivot=false]) -> F\n",
      "Base.broadcast!(f, dest, As...)\n",
      "Base.countnz(A)\n",
      "Base.getindex(type[, elements...])\n",
      "Base.getindex(A, inds...)\n",
      "Base.getindex(collection, key...)\n",
      "Base.LinAlg.BLAS.sbmv(uplo, k, alpha, A, x)\n",
      "Base.LinAlg.BLAS.sbmv(uplo, k, A, x)\n",
      "Base.Profile.retrieve() -> data, lidict\n",
      "Base.bitbroadcast(f, As...)\n",
      "Base.task_local_storage(symbol)\n",
      "Base.task_local_storage(symbol, value)\n",
      "Base.task_local_storage(body, symbol, value)\n",
      "Base.get!(collection, key, default)\n",
      "Base.get!(f::Function, collection, key)\n",
      "Base.float32_isvalid(x, out::Vector{Float32}) -> Bool\n",
      "Base.Profile.clear_malloc_data()\n",
      "Base.A_mul_B!(Y, A, B) -> Y\n",
      "Base.cglobal((symbol, library) or ptr[, Type=Void])\n",
      "Base.float64_isvalid(x, out::Vector{Float64}) -> Bool\n",
      "Base.broadcast_setindex!(A, X, inds...)\n",
      "Base.LinAlg.BLAS.sbmv!(uplo, k, alpha, A, x, beta, y)\n",
      "Base.randsubseq!(S, A, p)\n",
      "Base.IntSet([itr])\n",
      "Base.map!(function, collection)\n",
      "Base.map!(function, destination, collection...)\n",
      "Base.isready(r::RemoteRef)\n",
      "Base.mmap_array(type, dims, stream[, offset])\n",
      "Base.get(collection, key, default)\n",
      "Base.get(f::Function, collection, key)\n",
      "Base.put!(RemoteRef, value)\n",
      "Base.unsafe_store!(p::Ptr{T}, x, i::Integer)\n",
      "Base.nnz(A)\n",
      "Base.sub(A, inds...)\n",
      "Base.symperm(A, p)\n",
      "Base.setindex!(A, X, inds...)\n",
      "Base.setindex!(collection, value, key...)\n",
      "Base.Profile.init(; n::Integer, delay::Float64)\n"
     ]
    }
   ],
   "source": [
    "apropos(\"store\")"
   ]
  },
  {
   "cell_type": "code",
   "execution_count": 4,
   "metadata": {
    "collapsed": false
   },
   "outputs": [
    {
     "name": "stdout",
     "output_type": "stream",
     "text": [
      "Base.maximum!(r, A)\n",
      "Base.median!(v; checknan::Bool=true)\n",
      "Base.reducedim(f, A, dims, initial)\n",
      "Base.flush(stream)\n",
      "Base.show(x)\n",
      "Base.LinAlg.BLAS.axpy!(n, a, X, incx, Y, incy)\n",
      "Base.writedlm(f, A, delim='t')\n",
      "Base.iswritable(path) -> Bool\n",
      "Base.writecsv(filename, A)\n",
      "Base.readandwrite(command)\n",
      "Base.minimum!(r, A)\n",
      "Base.open(command, mode::String=\"r\", stdio=DevNull)\n",
      "Base.open(f::Function, command, mode::String=\"r\", stdio=DevNull)\n",
      "Base.open(file_name[, read, write, create, truncate, append]) -> IOStream\n",
      "Base.open(file_name[, mode]) -> IOStream\n",
      "Base.open(f::function, args...)\n",
      "Base.Base64Pipe(ostream)\n",
      "Base.write(stream, x)\n",
      "Base.maxabs!(r, A)\n",
      "Base.any!(r, A)\n",
      "Base.serialize(stream, value)\n",
      "Base.poll_fd(fd, seconds::Real; readable=false, writable=false)\n",
      "Base.addprocs(n; cman::ClusterManager=LocalManager()) -> List of process identifiers\n",
      "Base.addprocs(machines; tunnel=false, dir=JULIA_HOME, sshflags::Cmd=``) -> List of process identifiers\n",
      "Base.intersect!(s1, s2)\n",
      "Base.base64(writefunc, args...)\n",
      "Base.PipeBuffer()\n",
      "Base.PipeBuffer(data::Vector{Uint8}[, maxsize])\n",
      "Base.sumabs2!(r, A)\n",
      "Base.mimewritable(mime, x)\n",
      "Base.prod!(r, A)\n",
      "Base.LinAlg.BLAS.trsv!(ul, tA, dA, A, b)\n",
      "Base.hist!(counts, v, e) -> e, counts\n",
      "Base.LinAlg.BLAS.trsm!(side, ul, tA, dA, alpha, A, B)\n",
      "Base.mmap_array(type, dims, stream[, offset])\n",
      "Base.mean!(r, v)\n",
      "Base.hist2d!(counts, M, e1, e2) -> (e1, e2, counts)\n",
      "Base.filt!(out, b, a, x[, si])\n",
      "Base.sum!(r, A)\n",
      "Base.quantile!(v, p)\n",
      "Base.LinAlg.BLAS.scal!(n, a, X, incx)\n",
      "Base.writemime(stream, mime, x)\n",
      "Base.uperm(file)\n",
      "Base.reprmime(mime, x)\n",
      "Base.print(x)\n",
      "Base.minabs!(r, A)\n",
      "Base.sumabs!(r, A)\n",
      "Base.all!(r, A)\n"
     ]
    }
   ],
   "source": [
    "apropos(\"write\")"
   ]
  },
  {
   "cell_type": "code",
   "execution_count": 5,
   "metadata": {
    "collapsed": false
   },
   "outputs": [
    {
     "name": "stdout",
     "output_type": "stream",
     "text": [
      "Base.write(stream, x)\n",
      "\n",
      "   Write the canonical binary representation of a value to the given\n",
      "   stream.\n"
     ]
    }
   ],
   "source": [
    "?write"
   ]
  },
  {
   "cell_type": "code",
   "execution_count": 6,
   "metadata": {
    "collapsed": false
   },
   "outputs": [
    {
     "name": "stdout",
     "output_type": "stream",
     "text": [
      "Base.writedlm(f, A, delim='t')\n",
      "\n",
      "   Write \"A\" (either an array type or an iterable collection of\n",
      "   iterable rows) as text to \"f\" (either a filename string or an\n",
      "   \"IO\" stream) using the given delimeter \"delim\" (which defaults\n",
      "   to tab, but can be any printable Julia object, typically a \"Char\"\n",
      "   or \"String\").\n",
      "\n",
      "   For example, two vectors \"x\" and \"y\" of the same length can be\n",
      "   written as two columns of tab-delimited text to \"f\" by either\n",
      "   \"writedlm(f, [x y])\" or by \"writedlm(f, zip(x, y))\".\n"
     ]
    }
   ],
   "source": [
    "?writedlm"
   ]
  },
  {
   "cell_type": "markdown",
   "metadata": {},
   "source": [
    "## Archivos de datos con formato sencillo"
   ]
  },
  {
   "cell_type": "code",
   "execution_count": 7,
   "metadata": {
    "collapsed": true
   },
   "outputs": [],
   "source": [
    "writedlm(\"hola.dat\", X)"
   ]
  },
  {
   "cell_type": "code",
   "execution_count": 8,
   "metadata": {
    "collapsed": false
   },
   "outputs": [
    {
     "name": "stdout",
     "output_type": "stream",
     "text": [
      "hola.dat\n"
     ]
    }
   ],
   "source": [
    ";ls hola.dat"
   ]
  },
  {
   "cell_type": "code",
   "execution_count": 9,
   "metadata": {
    "collapsed": false
   },
   "outputs": [
    {
     "name": "stdout",
     "output_type": "stream",
     "text": [
      "3\n",
      "4\n",
      "5\n"
     ]
    }
   ],
   "source": [
    ";cat hola.dat"
   ]
  },
  {
   "cell_type": "code",
   "execution_count": 10,
   "metadata": {
    "collapsed": true
   },
   "outputs": [],
   "source": [
    "X = [3.5, 4, 5]\n",
    "writedlm(\"hola.dat\", X)"
   ]
  },
  {
   "cell_type": "code",
   "execution_count": 12,
   "metadata": {
    "collapsed": false
   },
   "outputs": [
    {
     "name": "stdout",
     "output_type": "stream",
     "text": [
      "3.5\n",
      "4\n",
      "5\n"
     ]
    }
   ],
   "source": [
    ";cat hola.dat"
   ]
  },
  {
   "cell_type": "code",
   "execution_count": 13,
   "metadata": {
    "collapsed": false
   },
   "outputs": [
    {
     "data": {
      "text/plain": [
       "10x2 Array{Float64,2}:\n",
       " 0.419556   0.976529 \n",
       " 0.0678596  0.0782755\n",
       " 0.462825   0.0210594\n",
       " 0.646494   0.538924 \n",
       " 0.058929   0.171232 \n",
       " 0.950104   0.134742 \n",
       " 0.800083   0.064136 \n",
       " 0.803065   0.118841 \n",
       " 0.927272   0.478405 \n",
       " 0.869517   0.313533 "
      ]
     },
     "execution_count": 13,
     "metadata": {},
     "output_type": "execute_result"
    }
   ],
   "source": [
    "N = 10\n",
    "M = rand(N, 2)"
   ]
  },
  {
   "cell_type": "code",
   "execution_count": 14,
   "metadata": {
    "collapsed": true
   },
   "outputs": [],
   "source": [
    "writedlm(\"matriz.dat\", M)"
   ]
  },
  {
   "cell_type": "code",
   "execution_count": 15,
   "metadata": {
    "collapsed": false,
    "scrolled": true
   },
   "outputs": [
    {
     "name": "stdout",
     "output_type": "stream",
     "text": [
      ".41955579755855155\t.9765287704619654\n",
      ".06785961721785627\t.0782755438885081\n",
      ".4628248406612585\t.02105936232640393\n",
      ".6464941862280498\t.5389235125738858\n",
      ".05892904492496953\t.17123204796331648\n",
      ".9501035388518755\t.13474191688791315\n",
      ".8000833565840839\t.06413596548588552\n",
      ".8030651168148046\t.11884106602878708\n",
      ".9272719325214211\t.478405064256465\n",
      ".8695172777708617\t.3135330579371658\n"
     ]
    }
   ],
   "source": [
    ";cat matriz.dat"
   ]
  },
  {
   "cell_type": "code",
   "execution_count": 16,
   "metadata": {
    "collapsed": true
   },
   "outputs": [],
   "source": [
    "writedlm(\"matriz.dat\", M, ',')"
   ]
  },
  {
   "cell_type": "code",
   "execution_count": 17,
   "metadata": {
    "collapsed": false
   },
   "outputs": [
    {
     "name": "stdout",
     "output_type": "stream",
     "text": [
      ".41955579755855155,.9765287704619654\n",
      ".06785961721785627,.0782755438885081\n",
      ".4628248406612585,.02105936232640393\n",
      ".6464941862280498,.5389235125738858\n",
      ".05892904492496953,.17123204796331648\n",
      ".9501035388518755,.13474191688791315\n",
      ".8000833565840839,.06413596548588552\n",
      ".8030651168148046,.11884106602878708\n",
      ".9272719325214211,.478405064256465\n",
      ".8695172777708617,.3135330579371658\n"
     ]
    }
   ],
   "source": [
    ";cat matriz.dat"
   ]
  },
  {
   "cell_type": "code",
   "execution_count": 18,
   "metadata": {
    "collapsed": false
   },
   "outputs": [
    {
     "data": {
      "text/plain": [
       "writedlm (generic function with 6 methods)"
      ]
     },
     "execution_count": 18,
     "metadata": {},
     "output_type": "execute_result"
    }
   ],
   "source": [
    "escribe_objeto = writedlm"
   ]
  },
  {
   "cell_type": "code",
   "execution_count": 19,
   "metadata": {
    "collapsed": false
   },
   "outputs": [
    {
     "data": {
      "text/plain": [
       "writedlm (generic function with 6 methods)"
      ]
     },
     "execution_count": 19,
     "metadata": {},
     "output_type": "execute_result"
    }
   ],
   "source": [
    "escribe_objeto"
   ]
  },
  {
   "cell_type": "code",
   "execution_count": 20,
   "metadata": {
    "collapsed": true
   },
   "outputs": [],
   "source": [
    "\n",
    "(\"hola2.dat\", M, '\\t')"
   ]
  },
  {
   "cell_type": "code",
   "execution_count": 21,
   "metadata": {
    "collapsed": false
   },
   "outputs": [
    {
     "name": "stdout",
     "output_type": "stream",
     "text": [
      ".41955579755855155\t.9765287704619654\n",
      ".06785961721785627\t.0782755438885081\n",
      ".4628248406612585\t.02105936232640393\n",
      ".6464941862280498\t.5389235125738858\n",
      ".05892904492496953\t.17123204796331648\n",
      ".9501035388518755\t.13474191688791315\n",
      ".8000833565840839\t.06413596548588552\n",
      ".8030651168148046\t.11884106602878708\n",
      ".9272719325214211\t.478405064256465\n",
      ".8695172777708617\t.3135330579371658\n"
     ]
    }
   ],
   "source": [
    ";cat hola2.dat"
   ]
  },
  {
   "cell_type": "code",
   "execution_count": 23,
   "metadata": {
    "collapsed": false
   },
   "outputs": [
    {
     "data": {
      "text/plain": [
       "10x2 Array{Float64,2}:\n",
       " 0.419556   0.976529 \n",
       " 0.0678596  0.0782755\n",
       " 0.462825   0.0210594\n",
       " 0.646494   0.538924 \n",
       " 0.058929   0.171232 \n",
       " 0.950104   0.134742 \n",
       " 0.800083   0.064136 \n",
       " 0.803065   0.118841 \n",
       " 0.927272   0.478405 \n",
       " 0.869517   0.313533 "
      ]
     },
     "execution_count": 23,
     "metadata": {},
     "output_type": "execute_result"
    }
   ],
   "source": [
    "M"
   ]
  },
  {
   "cell_type": "code",
   "execution_count": 24,
   "metadata": {
    "collapsed": true
   },
   "outputs": [],
   "source": [
    "workspace()"
   ]
  },
  {
   "cell_type": "code",
   "execution_count": 25,
   "metadata": {
    "collapsed": false
   },
   "outputs": [
    {
     "ename": "LoadError",
     "evalue": "M not defined\nwhile loading In[25], in expression starting on line 1",
     "output_type": "error",
     "traceback": [
      "M not defined\nwhile loading In[25], in expression starting on line 1",
      ""
     ]
    }
   ],
   "source": [
    "M"
   ]
  },
  {
   "cell_type": "code",
   "execution_count": 26,
   "metadata": {
    "collapsed": false
   },
   "outputs": [
    {
     "data": {
      "text/plain": [
       "2x3x4 Array{Float64,3}:\n",
       "[:, :, 1] =\n",
       " 0.485748  0.902126   0.411719\n",
       " 0.656464  0.0841279  0.21155 \n",
       "\n",
       "[:, :, 2] =\n",
       " 0.140927  0.36937   0.269455\n",
       " 0.754836  0.407146  0.741335\n",
       "\n",
       "[:, :, 3] =\n",
       " 0.775411  0.985     0.471097\n",
       " 0.954534  0.593631  0.143064\n",
       "\n",
       "[:, :, 4] =\n",
       " 0.714183  0.359916   0.397885\n",
       " 0.851215  0.0724688  0.372347"
      ]
     },
     "execution_count": 26,
     "metadata": {},
     "output_type": "execute_result"
    }
   ],
   "source": [
    "M = rand(2, 3, 4)"
   ]
  },
  {
   "cell_type": "code",
   "execution_count": 27,
   "metadata": {
    "collapsed": true
   },
   "outputs": [],
   "source": [
    "writedlm(\"test.dat\", M)"
   ]
  },
  {
   "cell_type": "code",
   "execution_count": 28,
   "metadata": {
    "collapsed": false
   },
   "outputs": [
    {
     "name": "stdout",
     "output_type": "stream",
     "text": [
      ".4857480924053277\t.9021259053330897\t.411719229480618\n",
      ".6564642414575619\t.08412789668422826\t.21155028700488798\n",
      "\n",
      ".14092666999145842\t.36936988107162905\t.2694554182273765\n",
      ".7548364403908501\t.40714616570424544\t.741335011915907\n",
      "\n",
      ".7754110239658112\t.98499995132228\t.4710971756287783\n",
      ".9545344924170867\t.5936312955485292\t.143063709173884\n",
      "\n",
      ".7141831248766717\t.3599159895825248\t.39788477196527916\n",
      ".8512152756798195\t.07246880292838376\t.3723471973923951\n"
     ]
    }
   ],
   "source": [
    ";cat test.dat"
   ]
  },
  {
   "cell_type": "code",
   "execution_count": 29,
   "metadata": {
    "collapsed": false
   },
   "outputs": [
    {
     "name": "stdout",
     "output_type": "stream",
     "text": [
      "Base.writedlm(f, A, delim='t')\n",
      "\n",
      "   Write \"A\" (either an array type or an iterable collection of\n",
      "   iterable rows) as text to \"f\" (either a filename string or an\n",
      "   \"IO\" stream) using the given delimeter \"delim\" (which defaults\n",
      "   to tab, but can be any printable Julia object, typically a \"Char\"\n",
      "   or \"String\").\n",
      "\n",
      "   For example, two vectors \"x\" and \"y\" of the same length can be\n",
      "   written as two columns of tab-delimited text to \"f\" by either\n",
      "   \"writedlm(f, [x y])\" or by \"writedlm(f, zip(x, y))\".\n"
     ]
    }
   ],
   "source": [
    "?writedlm"
   ]
  },
  {
   "cell_type": "code",
   "execution_count": 31,
   "metadata": {
    "collapsed": false
   },
   "outputs": [
    {
     "ename": "LoadError",
     "evalue": "X not defined\nwhile loading In[31], in expression starting on line 1",
     "output_type": "error",
     "traceback": [
      "X not defined\nwhile loading In[31], in expression starting on line 1",
      ""
     ]
    }
   ],
   "source": [
    "X"
   ]
  },
  {
   "cell_type": "code",
   "execution_count": 35,
   "metadata": {
    "collapsed": false
   },
   "outputs": [
    {
     "data": {
      "text/plain": [
       "10x2 Array{Float64,2}:\n",
       " 0.419556   0.976529 \n",
       " 0.0678596  0.0782755\n",
       " 0.462825   0.0210594\n",
       " 0.646494   0.538924 \n",
       " 0.058929   0.171232 \n",
       " 0.950104   0.134742 \n",
       " 0.800083   0.064136 \n",
       " 0.803065   0.118841 \n",
       " 0.927272   0.478405 \n",
       " 0.869517   0.313533 "
      ]
     },
     "execution_count": 35,
     "metadata": {},
     "output_type": "execute_result"
    }
   ],
   "source": [
    "readdlm(\"matriz.dat\", ',')"
   ]
  },
  {
   "cell_type": "code",
   "execution_count": 39,
   "metadata": {
    "collapsed": false
   },
   "outputs": [],
   "source": [
    "X = readcsv(\"matriz.dat\");"
   ]
  },
  {
   "cell_type": "code",
   "execution_count": 41,
   "metadata": {
    "collapsed": false
   },
   "outputs": [
    {
     "data": {
      "text/plain": [
       "10x2 Array{Float64,2}:\n",
       " 3.25867  4.92959\n",
       " 2.20358  2.23483\n",
       " 3.38847  2.06318\n",
       " 3.93948  3.61677\n",
       " 2.17679  2.5137 \n",
       " 4.85031  2.40423\n",
       " 4.40025  2.19241\n",
       " 4.4092   2.35652\n",
       " 4.78182  3.43522\n",
       " 4.60855  2.9406 "
      ]
     },
     "execution_count": 41,
     "metadata": {},
     "output_type": "execute_result"
    }
   ],
   "source": [
    "3X + 2"
   ]
  },
  {
   "cell_type": "code",
   "execution_count": 43,
   "metadata": {
    "collapsed": false
   },
   "outputs": [
    {
     "name": "stdout",
     "output_type": "stream",
     "text": [
      ".4857480924053277\t.9021259053330897\t.411719229480618\n",
      ".6564642414575619\t.08412789668422826\t.21155028700488798\n",
      "\n",
      ".14092666999145842\t.36936988107162905\t.2694554182273765\n",
      ".7548364403908501\t.40714616570424544\t.741335011915907\n",
      "\n",
      ".7754110239658112\t.98499995132228\t.4710971756287783\n",
      ".9545344924170867\t.5936312955485292\t.143063709173884\n",
      "\n",
      ".7141831248766717\t.3599159895825248\t.39788477196527916\n",
      ".8512152756798195\t.07246880292838376\t.3723471973923951\n"
     ]
    }
   ],
   "source": [
    ";cat test.dat"
   ]
  },
  {
   "cell_type": "markdown",
   "metadata": {},
   "source": [
    "## Más archivos "
   ]
  },
  {
   "cell_type": "markdown",
   "metadata": {},
   "source": [
    "(Ver también paquete [`DataFrames.jl`](https://github.com/JuliaStats/DataFrames.jl))"
   ]
  },
  {
   "cell_type": "code",
   "execution_count": 49,
   "metadata": {
    "collapsed": false
   },
   "outputs": [
    {
     "name": "stdout",
     "output_type": "stream",
     "text": [
      "3.5\n",
      "4\n",
      "5\n"
     ]
    }
   ],
   "source": [
    ";cat hola.dat"
   ]
  },
  {
   "cell_type": "code",
   "execution_count": 50,
   "metadata": {
    "collapsed": false
   },
   "outputs": [
    {
     "data": {
      "text/plain": [
       "IOStream(<file hola.dat>)"
      ]
     },
     "execution_count": 50,
     "metadata": {},
     "output_type": "execute_result"
    }
   ],
   "source": [
    "entrada = open(\"hola.dat\", \"r\")"
   ]
  },
  {
   "cell_type": "code",
   "execution_count": 52,
   "metadata": {
    "collapsed": false
   },
   "outputs": [
    {
     "data": {
      "text/plain": [
       "IOStream(<file hola.dat>)"
      ]
     },
     "execution_count": 52,
     "metadata": {},
     "output_type": "execute_result"
    }
   ],
   "source": [
    "entrada  # IOStream: Input/Output Stream \n",
    "# -- flujo de entrada/salida"
   ]
  },
  {
   "cell_type": "code",
   "execution_count": 53,
   "metadata": {
    "collapsed": false
   },
   "outputs": [
    {
     "data": {
      "text/plain": [
       "3-element Array{Union(UTF8String,ASCIIString),1}:\n",
       " \"3.5\\n\"\n",
       " \"4\\n\"  \n",
       " \"5\\n\"  "
      ]
     },
     "execution_count": 53,
     "metadata": {},
     "output_type": "execute_result"
    }
   ],
   "source": [
    "lineas = readlines(entrada)"
   ]
  },
  {
   "cell_type": "code",
   "execution_count": 54,
   "metadata": {
    "collapsed": false
   },
   "outputs": [
    {
     "data": {
      "text/plain": [
       "\"3.5\\n\""
      ]
     },
     "execution_count": 54,
     "metadata": {},
     "output_type": "execute_result"
    }
   ],
   "source": [
    "lineas[1]"
   ]
  },
  {
   "cell_type": "code",
   "execution_count": 56,
   "metadata": {
    "collapsed": false
   },
   "outputs": [
    {
     "data": {
      "text/plain": [
       "\"3.5\""
      ]
     },
     "execution_count": 56,
     "metadata": {},
     "output_type": "execute_result"
    }
   ],
   "source": [
    "linea = chomp(lineas[1])"
   ]
  },
  {
   "cell_type": "code",
   "execution_count": 57,
   "metadata": {
    "collapsed": false
   },
   "outputs": [
    {
     "ename": "LoadError",
     "evalue": "type cannot be constructed\nwhile loading In[57], in expression starting on line 1",
     "output_type": "error",
     "traceback": [
      "type cannot be constructed\nwhile loading In[57], in expression starting on line 1",
      ""
     ]
    }
   ],
   "source": [
    "Float64(linea)"
   ]
  },
  {
   "cell_type": "code",
   "execution_count": 58,
   "metadata": {
    "collapsed": false
   },
   "outputs": [
    {
     "name": "stdout",
     "output_type": "stream",
     "text": [
      "chomp(string)\n",
      "\n",
      "   Remove a trailing newline from a string\n"
     ]
    }
   ],
   "source": [
    "?chomp"
   ]
  },
  {
   "cell_type": "code",
   "execution_count": 60,
   "metadata": {
    "collapsed": false
   },
   "outputs": [
    {
     "data": {
      "text/plain": [
       "\"hola David\""
      ]
     },
     "execution_count": 60,
     "metadata": {},
     "output_type": "execute_result"
    }
   ],
   "source": [
    "s = \"hola David\""
   ]
  },
  {
   "cell_type": "code",
   "execution_count": 61,
   "metadata": {
    "collapsed": false
   },
   "outputs": [
    {
     "data": {
      "text/plain": [
       "\"hol337 D337vid\""
      ]
     },
     "execution_count": 61,
     "metadata": {},
     "output_type": "execute_result"
    }
   ],
   "source": [
    "replace(s, \"a\", \"337\")"
   ]
  },
  {
   "cell_type": "code",
   "execution_count": 62,
   "metadata": {
    "collapsed": false
   },
   "outputs": [
    {
     "data": {
      "text/plain": [
       "\"3.5\""
      ]
     },
     "execution_count": 62,
     "metadata": {},
     "output_type": "execute_result"
    }
   ],
   "source": [
    "linea"
   ]
  },
  {
   "cell_type": "code",
   "execution_count": 63,
   "metadata": {
    "collapsed": false
   },
   "outputs": [
    {
     "data": {
      "text/plain": [
       "3.5"
      ]
     },
     "execution_count": 63,
     "metadata": {},
     "output_type": "execute_result"
    }
   ],
   "source": [
    "float(linea)"
   ]
  },
  {
   "cell_type": "code",
   "execution_count": 65,
   "metadata": {
    "collapsed": false
   },
   "outputs": [],
   "source": [
    "close(entrada)"
   ]
  },
  {
   "cell_type": "code",
   "execution_count": 67,
   "metadata": {
    "collapsed": false
   },
   "outputs": [
    {
     "data": {
      "text/plain": [
       "IOStream(<file matriz.dat>)"
      ]
     },
     "execution_count": 67,
     "metadata": {},
     "output_type": "execute_result"
    }
   ],
   "source": [
    "entrada = open(\"matriz.dat\", \"r\")"
   ]
  },
  {
   "cell_type": "code",
   "execution_count": 69,
   "metadata": {
    "collapsed": false
   },
   "outputs": [
    {
     "data": {
      "text/plain": [
       "\".06785961721785627,.0782755438885081\\n\""
      ]
     },
     "execution_count": 69,
     "metadata": {},
     "output_type": "execute_result"
    }
   ],
   "source": [
    "linea1 = readline(entrada)"
   ]
  },
  {
   "cell_type": "code",
   "execution_count": 70,
   "metadata": {
    "collapsed": false
   },
   "outputs": [
    {
     "data": {
      "text/plain": [
       "\".4628248406612585,.02105936232640393\\n\""
      ]
     },
     "execution_count": 70,
     "metadata": {},
     "output_type": "execute_result"
    }
   ],
   "source": [
    "linea2 = readline(entrada)"
   ]
  },
  {
   "cell_type": "code",
   "execution_count": 71,
   "metadata": {
    "collapsed": false
   },
   "outputs": [
    {
     "data": {
      "text/plain": [
       "7-element Array{Union(UTF8String,ASCIIString),1}:\n",
       " \".6464941862280498,.5389235125738858\\n\"  \n",
       " \".05892904492496953,.17123204796331648\\n\"\n",
       " \".9501035388518755,.13474191688791315\\n\" \n",
       " \".8000833565840839,.06413596548588552\\n\" \n",
       " \".8030651168148046,.11884106602878708\\n\" \n",
       " \".9272719325214211,.478405064256465\\n\"   \n",
       " \".8695172777708617,.3135330579371658\\n\"  "
      ]
     },
     "execution_count": 71,
     "metadata": {},
     "output_type": "execute_result"
    }
   ],
   "source": [
    "lineas = readlines(entrada)"
   ]
  },
  {
   "cell_type": "code",
   "execution_count": 73,
   "metadata": {
    "collapsed": false
   },
   "outputs": [
    {
     "data": {
      "text/plain": [
       "\".06785961721785627,.0782755438885081\""
      ]
     },
     "execution_count": 73,
     "metadata": {},
     "output_type": "execute_result"
    }
   ],
   "source": [
    "linea1 = chomp(linea1)"
   ]
  },
  {
   "cell_type": "code",
   "execution_count": 76,
   "metadata": {
    "collapsed": false
   },
   "outputs": [
    {
     "data": {
      "text/plain": [
       "2-element Array{SubString{ASCIIString},1}:\n",
       " \".06785961721785627\"\n",
       " \".0782755438885081\" "
      ]
     },
     "execution_count": 76,
     "metadata": {},
     "output_type": "execute_result"
    }
   ],
   "source": [
    "valores = split(linea1, ',')"
   ]
  },
  {
   "cell_type": "code",
   "execution_count": 78,
   "metadata": {
    "collapsed": false
   },
   "outputs": [
    {
     "data": {
      "text/plain": [
       "0.06785961721785627"
      ]
     },
     "execution_count": 78,
     "metadata": {},
     "output_type": "execute_result"
    }
   ],
   "source": [
    "a1 = float(valores[1])"
   ]
  },
  {
   "cell_type": "code",
   "execution_count": 79,
   "metadata": {
    "collapsed": false
   },
   "outputs": [
    {
     "data": {
      "text/plain": [
       "0.0782755438885081"
      ]
     },
     "execution_count": 79,
     "metadata": {},
     "output_type": "execute_result"
    }
   ],
   "source": [
    "a2 = float(valores[2])"
   ]
  },
  {
   "cell_type": "code",
   "execution_count": 85,
   "metadata": {
    "collapsed": false
   },
   "outputs": [
    {
     "data": {
      "text/plain": [
       "\"1,2,34,5,34,6,7,17\""
      ]
     },
     "execution_count": 85,
     "metadata": {},
     "output_type": "execute_result"
    }
   ],
   "source": [
    "s = \"1,2,34,5,34,6,7,17\""
   ]
  },
  {
   "cell_type": "code",
   "execution_count": 86,
   "metadata": {
    "collapsed": false
   },
   "outputs": [
    {
     "data": {
      "text/plain": [
       "3-element Array{SubString{ASCIIString},1}:\n",
       " \"1,2,\"   \n",
       " \",5,\"    \n",
       " \",6,7,17\""
      ]
     },
     "execution_count": 86,
     "metadata": {},
     "output_type": "execute_result"
    }
   ],
   "source": [
    "valores = split(s, \"34\")"
   ]
  },
  {
   "cell_type": "code",
   "execution_count": 88,
   "metadata": {
    "collapsed": false
   },
   "outputs": [
    {
     "data": {
      "text/plain": [
       "8-element Array{SubString{ASCIIString},1}:\n",
       " \"1\" \n",
       " \"2\" \n",
       " \"34\"\n",
       " \"5\" \n",
       " \"34\"\n",
       " \"6\" \n",
       " \"7\" \n",
       " \"17\""
      ]
     },
     "execution_count": 88,
     "metadata": {},
     "output_type": "execute_result"
    }
   ],
   "source": [
    "objetos = split(\"1,2,34,5,34,6,7,17\", \",\")"
   ]
  },
  {
   "cell_type": "code",
   "execution_count": 90,
   "metadata": {
    "collapsed": false
   },
   "outputs": [
    {
     "data": {
      "text/plain": [
       "8-element Array{Float64,1}:\n",
       "  1.0\n",
       "  2.0\n",
       " 34.0\n",
       "  5.0\n",
       " 34.0\n",
       "  6.0\n",
       "  7.0\n",
       " 17.0"
      ]
     },
     "execution_count": 90,
     "metadata": {},
     "output_type": "execute_result"
    }
   ],
   "source": [
    "float(objetos)"
   ]
  },
  {
   "cell_type": "code",
   "execution_count": 91,
   "metadata": {
    "collapsed": false
   },
   "outputs": [
    {
     "data": {
      "text/plain": [
       "8-element Array{Float64,1}:\n",
       "  1.0\n",
       "  2.0\n",
       " 34.0\n",
       "  5.0\n",
       " 34.0\n",
       "  6.0\n",
       "  7.0\n",
       " 17.0"
      ]
     },
     "execution_count": 91,
     "metadata": {},
     "output_type": "execute_result"
    }
   ],
   "source": [
    "map(float, objetos)"
   ]
  },
  {
   "cell_type": "code",
   "execution_count": 92,
   "metadata": {
    "collapsed": false
   },
   "outputs": [
    {
     "data": {
      "text/plain": [
       "8-element Array{Any,1}:\n",
       "  1.0\n",
       "  2.0\n",
       " 34.0\n",
       "  5.0\n",
       " 34.0\n",
       "  6.0\n",
       "  7.0\n",
       " 17.0"
      ]
     },
     "execution_count": 92,
     "metadata": {},
     "output_type": "execute_result"
    }
   ],
   "source": [
    "[float(x) for x in objetos]"
   ]
  },
  {
   "cell_type": "markdown",
   "metadata": {},
   "source": [
    "## Scripts de Julia"
   ]
  },
  {
   "cell_type": "markdown",
   "metadata": {},
   "source": [
    "Poner una secuencia de comandos de Julia en un archivo para correrlo como un todo."
   ]
  },
  {
   "cell_type": "markdown",
   "metadata": {},
   "source": [
    "Crea un archivo con comandos de Julia en tu editor favorito (atom)"
   ]
  },
  {
   "cell_type": "code",
   "execution_count": 93,
   "metadata": {
    "collapsed": true
   },
   "outputs": [],
   "source": [
    "; touch primero.jl"
   ]
  },
  {
   "cell_type": "code",
   "execution_count": 94,
   "metadata": {
    "collapsed": false
   },
   "outputs": [
    {
     "name": "stdout",
     "output_type": "stream",
     "text": [
      "Clase 08-17.ipynb\n",
      "Clase 08-19.ipynb\n",
      "Clase 08-31.ipynb\n",
      "Clase 09-07.ipynb\n",
      "Clase 09-09.ipynb\n",
      "Clase 09-14.ipynb\n",
      "Clase 09-30.ipynb\n",
      "Clase 24-08.ipynb\n",
      "Clase 26-08.ipynb\n",
      "a.txt\n",
      "b.txt\n",
      "hola.dat\n",
      "hola2.dat\n",
      "matriz.dat\n",
      "primero.jl\n",
      "test.dat\n"
     ]
    }
   ],
   "source": [
    ";ls"
   ]
  },
  {
   "cell_type": "code",
   "execution_count": 95,
   "metadata": {
    "collapsed": true
   },
   "outputs": [],
   "source": [
    ";cat primero.jl"
   ]
  },
  {
   "cell_type": "code",
   "execution_count": 97,
   "metadata": {
    "collapsed": false
   },
   "outputs": [],
   "source": [
    ";atom primero.jl  \n"
   ]
  },
  {
   "cell_type": "code",
   "execution_count": 98,
   "metadata": {
    "collapsed": false
   },
   "outputs": [
    {
     "name": "stdout",
     "output_type": "stream",
     "text": [
      "1\n",
      "2\n",
      "3\n",
      "4\n",
      "5\n",
      "6\n",
      "7\n",
      "8\n",
      "9\n",
      "10\n"
     ]
    }
   ],
   "source": [
    "include(\"primero.jl\")"
   ]
  },
  {
   "cell_type": "code",
   "execution_count": 100,
   "metadata": {
    "collapsed": false
   },
   "outputs": [
    {
     "data": {
      "text/plain": [
       "10"
      ]
     },
     "execution_count": 100,
     "metadata": {},
     "output_type": "execute_result"
    }
   ],
   "source": [
    "N  # viene del script primero.jl"
   ]
  },
  {
   "cell_type": "markdown",
   "metadata": {},
   "source": [
    "# Euler "
   ]
  },
  {
   "cell_type": "code",
   "execution_count": 101,
   "metadata": {
    "collapsed": false
   },
   "outputs": [
    {
     "data": {
      "text/plain": [
       "g (generic function with 1 method)"
      ]
     },
     "execution_count": 101,
     "metadata": {},
     "output_type": "execute_result"
    }
   ],
   "source": [
    "g(x,t) = -x"
   ]
  },
  {
   "cell_type": "markdown",
   "metadata": {},
   "source": [
    "Una función para un solo paso de Euler:"
   ]
  },
  {
   "cell_type": "code",
   "execution_count": 104,
   "metadata": {
    "collapsed": false
   },
   "outputs": [
    {
     "data": {
      "text/plain": [
       "paso_Euler (generic function with 1 method)"
      ]
     },
     "execution_count": 104,
     "metadata": {},
     "output_type": "execute_result"
    }
   ],
   "source": [
    "function paso_Euler(f, x, t, dt)\n",
    "    x_nueva = x + dt*f(x,t)\n",
    "    return x_nueva\n",
    "    \n",
    "    # o simplemente:  x + dt*f(x,t)\n",
    "end"
   ]
  },
  {
   "cell_type": "code",
   "execution_count": 106,
   "metadata": {
    "collapsed": false
   },
   "outputs": [
    {
     "data": {
      "text/plain": [
       "Euler (generic function with 1 method)"
      ]
     },
     "execution_count": 106,
     "metadata": {},
     "output_type": "execute_result"
    }
   ],
   "source": [
    "function Euler(f, x0, t0, t_final, dt)\n",
    "    for t in t0:dt:t_final\n",
    "        println(t)\n",
    "    end\n",
    "end"
   ]
  },
  {
   "cell_type": "code",
   "execution_count": 107,
   "metadata": {
    "collapsed": false
   },
   "outputs": [
    {
     "name": "stdout",
     "output_type": "stream",
     "text": [
      "0.0\n",
      "0.5\n",
      "1.0\n",
      "1.5\n",
      "2.0\n",
      "2.5\n",
      "3.0\n",
      "3.5\n",
      "4.0\n",
      "4.5\n",
      "5.0\n",
      "5.5\n",
      "6.0\n",
      "6.5\n",
      "7.0\n",
      "7.5\n",
      "8.0\n",
      "8.5\n",
      "9.0\n",
      "9.5\n",
      "10.0\n"
     ]
    }
   ],
   "source": [
    "Euler(g, 1, 0, 10, 0.5)"
   ]
  },
  {
   "cell_type": "markdown",
   "metadata": {},
   "source": [
    "Una solución: Crear arreglo (casi) vacío e ir `push!`-eando"
   ]
  },
  {
   "cell_type": "code",
   "execution_count": 148,
   "metadata": {
    "collapsed": false
   },
   "outputs": [
    {
     "data": {
      "text/plain": [
       "Euler (generic function with 1 method)"
      ]
     },
     "execution_count": 148,
     "metadata": {},
     "output_type": "execute_result"
    }
   ],
   "source": [
    "function Euler(f, x0, t0, t_final, dt)\n",
    "    x = x0\n",
    "    datos = [x0]\n",
    "    tiempos = [t0]\n",
    "    \n",
    "    @show datos, typeof(datos)\n",
    "    @show tiempos\n",
    "    \n",
    "    for t in t0:dt:t_final\n",
    "        x_nueva = paso_Euler(f, x, t, dt)\n",
    "        x = x_nueva\n",
    "        \n",
    "        push!(datos, x)\n",
    "        push!(tiempos, t)\n",
    "        \n",
    "    end\n",
    "    \n",
    "    datos, tiempos\n",
    "end"
   ]
  },
  {
   "cell_type": "code",
   "execution_count": 118,
   "metadata": {
    "collapsed": false
   },
   "outputs": [
    {
     "name": "stdout",
     "output_type": "stream",
     "text": [
      "(datos,typeof(datos)) => ([1],Array{Int64,1})\n"
     ]
    },
    {
     "ename": "LoadError",
     "evalue": "InexactError()\nwhile loading In[118], in expression starting on line 1",
     "output_type": "error",
     "traceback": [
      "InexactError()\nwhile loading In[118], in expression starting on line 1",
      "",
      " in push! at array.jl:460",
      " in Euler at In[117]:13"
     ]
    }
   ],
   "source": [
    "Euler(g, 1, 0, 10, 0.5)"
   ]
  },
  {
   "cell_type": "code",
   "execution_count": 123,
   "metadata": {
    "collapsed": false
   },
   "outputs": [
    {
     "name": "stdout",
     "output_type": "stream",
     "text": [
      "(datos,typeof(datos)) => ([1.0],Array{Float64,1})\n",
      "tiempos => [0.0]\n"
     ]
    }
   ],
   "source": [
    "xs, ts = Euler(g, 1., 0., 10., 0.5);"
   ]
  },
  {
   "cell_type": "code",
   "execution_count": 124,
   "metadata": {
    "collapsed": false
   },
   "outputs": [
    {
     "data": {
      "text/plain": [
       "22-element Array{Float64,1}:\n",
       " 1.0        \n",
       " 0.5        \n",
       " 0.25       \n",
       " 0.125      \n",
       " 0.0625     \n",
       " 0.03125    \n",
       " 0.015625   \n",
       " 0.0078125  \n",
       " 0.00390625 \n",
       " 0.00195313 \n",
       " 0.000976563\n",
       " 0.000488281\n",
       " 0.000244141\n",
       " 0.00012207 \n",
       " 6.10352e-5 \n",
       " 3.05176e-5 \n",
       " 1.52588e-5 \n",
       " 7.62939e-6 \n",
       " 3.8147e-6  \n",
       " 1.90735e-6 \n",
       " 9.53674e-7 \n",
       " 4.76837e-7 "
      ]
     },
     "execution_count": 124,
     "metadata": {},
     "output_type": "execute_result"
    }
   ],
   "source": [
    "xs"
   ]
  },
  {
   "cell_type": "code",
   "execution_count": 125,
   "metadata": {
    "collapsed": false
   },
   "outputs": [
    {
     "data": {
      "text/plain": [
       "22-element Array{Float64,1}:\n",
       "  0.0\n",
       "  0.0\n",
       "  0.5\n",
       "  1.0\n",
       "  1.5\n",
       "  2.0\n",
       "  2.5\n",
       "  3.0\n",
       "  3.5\n",
       "  4.0\n",
       "  4.5\n",
       "  5.0\n",
       "  5.5\n",
       "  6.0\n",
       "  6.5\n",
       "  7.0\n",
       "  7.5\n",
       "  8.0\n",
       "  8.5\n",
       "  9.0\n",
       "  9.5\n",
       " 10.0"
      ]
     },
     "execution_count": 125,
     "metadata": {},
     "output_type": "execute_result"
    }
   ],
   "source": [
    "ts"
   ]
  },
  {
   "cell_type": "code",
   "execution_count": 126,
   "metadata": {
    "collapsed": false
   },
   "outputs": [
    {
     "name": "stderr",
     "output_type": "stream",
     "text": [
      "Warning: Method definition IPv4(String,) in module Compat at /Users/dpsanders/.julia/v0.3/Compat/src/Compat.jl:49 overwritten in module Compat at /Users/dpsanders/.julia/v0.3/Compat/src/Compat.jl:49.\n",
      "Warning: Method definition IPv6(String,) in module Compat at /Users/dpsanders/.julia/v0.3/Compat/src/Compat.jl:50 overwritten in module Compat at /Users/dpsanders/.julia/v0.3/Compat/src/Compat.jl:50.\n",
      "Warning: Method definition isless(T<:IpAddr,T<:IpAddr) in module Compat at /Users/dpsanders/.julia/v0.3/Compat/src/Compat.jl:55 overwritten in module Compat at /Users/dpsanders/.julia/v0.3/Compat/src/Compat.jl:55.\n",
      "Warning: Method definition Dict(Any,) in module Compat at /Users/dpsanders/.julia/v0.3/Compat/src/Compat.jl:67 overwritten in module Compat at /Users/dpsanders/.julia/v0.3/Compat/src/Compat.jl:67.\n",
      "Warning: Method definition round(Type{T<:Integer},Integer) in module Compat at /Users/dpsanders/.julia/v0.3/Compat/src/Compat.jl:83 overwritten in module Compat at /Users/dpsanders/.julia/v0.3/Compat/src/Compat.jl:83.\n",
      "Warning: Method definition round(Type{T<:Integer},Real) in module Compat at /Users/dpsanders/.julia/v0.3/Compat/src/Compat.jl:84 overwritten in module Compat at /Users/dpsanders/.julia/v0.3/Compat/src/Compat.jl:84.\n",
      "Warning: Method definition round(Type{T<:Integer},Rational{T<:Integer}) in module Compat at /Users/dpsanders/.julia/v0.3/Compat/src/Compat.jl:85 overwritten in module Compat at /Users/dpsanders/.julia/v0.3/Compat/src/Compat.jl:85.\n",
      "Warning: Method definition round(Type{T},AbstractArray{R,1}) in module Compat at /Users/dpsanders/.julia/v0.3/Compat/src/Compat.jl:87 overwritten in module Compat at /Users/dpsanders/.julia/v0.3/Compat/src/Compat.jl:87.\n",
      "Warning: Method definition round(Type{T},AbstractArray{R,2}) in module Compat at /Users/dpsanders/.julia/v0.3/Compat/src/Compat.jl:90 overwritten in module Compat at /Users/dpsanders/.julia/v0.3/Compat/src/Compat.jl:90.\n",
      "Warning: Method definition round(Type{T},AbstractArray{T,N}) in module Compat at /Users/dpsanders/.julia/v0.3/Compat/src/Compat.jl:93 overwritten in module Compat at /Users/dpsanders/.julia/v0.3/Compat/src/Compat.jl:93.\n",
      "Warning: Method definition ceil(Type{T<:Integer},Integer) in module Compat at /Users/dpsanders/.julia/v0.3/Compat/src/Compat.jl:83 overwritten in module Compat at /Users/dpsanders/.julia/v0.3/Compat/src/Compat.jl:83.\n",
      "Warning: Method definition ceil(Type{T<:Integer},Real) in module Compat at /Users/dpsanders/.julia/v0.3/Compat/src/Compat.jl:84 overwritten in module Compat at /Users/dpsanders/.julia/v0.3/Compat/src/Compat.jl:84.\n",
      "Warning: Method definition ceil(Type{T<:Integer},Rational{T<:Integer}) in module Compat at /Users/dpsanders/.julia/v0.3/Compat/src/Compat.jl:85 overwritten in module Compat at /Users/dpsanders/.julia/v0.3/Compat/src/Compat.jl:85.\n",
      "Warning: Method definition ceil(Type{T},AbstractArray{R,1}) in module Compat at /Users/dpsanders/.julia/v0.3/Compat/src/Compat.jl:87 overwritten in module Compat at /Users/dpsanders/.julia/v0.3/Compat/src/Compat.jl:87.\n",
      "Warning: Method definition ceil(Type{T},AbstractArray{R,2}) in module Compat at /Users/dpsanders/.julia/v0.3/Compat/src/Compat.jl:90 overwritten in module Compat at /Users/dpsanders/.julia/v0.3/Compat/src/Compat.jl:90.\n",
      "Warning: Method definition ceil(Type{T},AbstractArray{T,N}) in module Compat at /Users/dpsanders/.julia/v0.3/Compat/src/Compat.jl:93 overwritten in module Compat at /Users/dpsanders/.julia/v0.3/Compat/src/Compat.jl:93.\n",
      "Warning: Method definition floor(Type{T<:Integer},Integer) in module Compat at /Users/dpsanders/.julia/v0.3/Compat/src/Compat.jl:83 overwritten in module Compat at /Users/dpsanders/.julia/v0.3/Compat/src/Compat.jl:83.\n",
      "Warning: Method definition floor(Type{T<:Integer},Real) in module Compat at /Users/dpsanders/.julia/v0.3/Compat/src/Compat.jl:84 overwritten in module Compat at /Users/dpsanders/.julia/v0.3/Compat/src/Compat.jl:84.\n",
      "Warning: Method definition floor(Type{T<:Integer},Rational{T<:Integer}) in module Compat at /Users/dpsanders/.julia/v0.3/Compat/src/Compat.jl:85 overwritten in module Compat at /Users/dpsanders/.julia/v0.3/Compat/src/Compat.jl:85.\n",
      "Warning: Method definition floor(Type{T},AbstractArray{R,1}) in module Compat at /Users/dpsanders/.julia/v0.3/Compat/src/Compat.jl:87 overwritten in module Compat at /Users/dpsanders/.julia/v0.3/Compat/src/Compat.jl:87.\n",
      "Warning: Method definition floor(Type{T},AbstractArray{R,2}) in module Compat at /Users/dpsanders/.julia/v0.3/Compat/src/Compat.jl:90 overwritten in module Compat at /Users/dpsanders/.julia/v0.3/Compat/src/Compat.jl:90.\n",
      "Warning: Method definition floor(Type{T},AbstractArray{T,N}) in module Compat at /Users/dpsanders/.julia/v0.3/Compat/src/Compat.jl:93 overwritten in module Compat at /Users/dpsanders/.julia/v0.3/Compat/src/Compat.jl:93.\n",
      "Warning: Method definition trunc(Type{T<:Integer},Integer) in module Compat at /Users/dpsanders/.julia/v0.3/Compat/src/Compat.jl:83 overwritten in module Compat at /Users/dpsanders/.julia/v0.3/Compat/src/Compat.jl:83.\n",
      "Warning: Method definition trunc(Type{T<:Integer},Real) in module Compat at /Users/dpsanders/.julia/v0.3/Compat/src/Compat.jl:84 overwritten in module Compat at /Users/dpsanders/.julia/v0.3/Compat/src/Compat.jl:84.\n",
      "Warning: Method definition trunc(Type{T<:Integer},Rational{T<:Integer}) in module Compat at /Users/dpsanders/.julia/v0.3/Compat/src/Compat.jl:85 overwritten in module Compat at /Users/dpsanders/.julia/v0.3/Compat/src/Compat.jl:85.\n",
      "Warning: Method definition trunc(Type{T},AbstractArray{R,1}) in module Compat at /Users/dpsanders/.julia/v0.3/Compat/src/Compat.jl:87 overwritten in module Compat at /Users/dpsanders/.julia/v0.3/Compat/src/Compat.jl:87.\n",
      "Warning: Method definition trunc(Type{T},AbstractArray{R,2}) in module Compat at /Users/dpsanders/.julia/v0.3/Compat/src/Compat.jl:90 overwritten in module Compat at /Users/dpsanders/.julia/v0.3/Compat/src/Compat.jl:90.\n",
      "Warning: Method definition trunc(Type{T},AbstractArray{T,N}) in module Compat at /Users/dpsanders/.julia/v0.3/Compat/src/Compat.jl:93 overwritten in module Compat at /Users/dpsanders/.julia/v0.3/Compat/src/Compat.jl:93.\n",
      "Warning: Method definition rem(Integer,Type{T<:Integer}) in module Compat at /Users/dpsanders/.julia/v0.3/Compat/src/Compat.jl:100 overwritten in module Compat at /Users/dpsanders/.julia/v0.3/Compat/src/Compat.jl:100.\n",
      "Warning: Method definition srand(MersenneTwister,Array{Uint32,1}) in module Compat at /Users/dpsanders/.julia/v0.3/Compat/src/Compat.jl:133 overwritten in module Compat at /Users/dpsanders/.julia/v0.3/Compat/src/Compat.jl:133.\n",
      "Warning: Method definition srand(MersenneTwister,Union(Int32,Uint32)) in module Compat at /Users/dpsanders/.julia/v0.3/Compat/src/Compat.jl:146 overwritten in module Compat at /Users/dpsanders/.julia/v0.3/Compat/src/Compat.jl:146.\n",
      "Warning: Method definition srand(MersenneTwister,Union(Int64,Uint64)) in module Compat at /Users/dpsanders/.julia/v0.3/Compat/src/Compat.jl:147 overwritten in module Compat at /Users/dpsanders/.julia/v0.3/Compat/src/Compat.jl:147.\n",
      "Warning: Method definition srand(MersenneTwister,) in module Compat at /Users/dpsanders/.julia/v0.3/Compat/src/Compat.jl:149 overwritten in module Compat at /Users/dpsanders/.julia/v0.3/Compat/src/Compat.jl:149.\n",
      "Warning: Method definition rand(MersenneTwister,Type{Uint8}) in module Compat at /Users/dpsanders/.julia/v0.3/Compat/src/Compat.jl:151 overwritten in module Compat at /Users/dpsanders/.julia/v0.3/Compat/src/Compat.jl:151.\n",
      "Warning: Method definition rand(MersenneTwister,Type{Uint16}) in module Compat at /Users/dpsanders/.julia/v0.3/Compat/src/Compat.jl:152 overwritten in module Compat at /Users/dpsanders/.julia/v0.3/Compat/src/Compat.jl:152.\n",
      "Warning: Method definition rand(MersenneTwister,Type{Uint32}) in module Compat at /Users/dpsanders/.julia/v0.3/Compat/src/Compat.jl:153 overwritten in module Compat at /Users/dpsanders/.julia/v0.3/Compat/src/Compat.jl:153.\n",
      "Warning: Method definition rand(MersenneTwister,Type{Uint64}) in module Compat at /Users/dpsanders/.julia/v0.3/Compat/src/Compat.jl:154 overwritten in module Compat at /Users/dpsanders/.julia/v0.3/Compat/src/Compat.jl:154.\n",
      "Warning: Method definition rand(MersenneTwister,Type{Uint128}) in module Compat at /Users/dpsanders/.julia/v0.3/Compat/src/Compat.jl:155 overwritten in module Compat at /Users/dpsanders/.julia/v0.3/Compat/src/Compat.jl:155.\n",
      "Warning: Method definition rand(MersenneTwister,Type{Int8}) in module Compat at /Users/dpsanders/.julia/v0.3/Compat/src/Compat.jl:158 overwritten in module Compat at /Users/dpsanders/.julia/v0.3/Compat/src/Compat.jl:158.\n",
      "Warning: Method definition rand(MersenneTwister,Type{Int16}) in module Compat at /Users/dpsanders/.julia/v0.3/Compat/src/Compat.jl:158 overwritten in module Compat at /Users/dpsanders/.julia/v0.3/Compat/src/Compat.jl:158.\n",
      "Warning: Method definition rand(MersenneTwister,Type{Int32}) in module Compat at /Users/dpsanders/.julia/v0.3/Compat/src/Compat.jl:158 overwritten in module Compat at /Users/dpsanders/.julia/v0.3/Compat/src/Compat.jl:158.\n",
      "Warning: Method definition rand(MersenneTwister,Type{Int64}) in module Compat at /Users/dpsanders/.julia/v0.3/Compat/src/Compat.jl:158 overwritten in module Compat at /Users/dpsanders/.julia/v0.3/Compat/src/Compat.jl:158.\n",
      "Warning: Method definition rand(MersenneTwister,Type{Int128}) in module Compat at /Users/dpsanders/.julia/v0.3/Compat/src/Compat.jl:158 overwritten in module Compat at /Users/dpsanders/.julia/v0.3/Compat/src/Compat.jl:158.\n",
      "Warning: Method definition rand(MersenneTwister,Type{Float64}) in module Compat at /Users/dpsanders/.julia/v0.3/Compat/src/Compat.jl:161 overwritten in module Compat at /Users/dpsanders/.julia/v0.3/Compat/src/Compat.jl:160.\n",
      "Warning: Method definition rand(MersenneTwister,Type{T<:Union(Float16,Float32)}) in module Compat at /Users/dpsanders/.julia/v0.3/Compat/src/Compat.jl:162 overwritten in module Compat at /Users/dpsanders/.julia/v0.3/Compat/src/Compat.jl:162.\n",
      "Warning: Method definition rand(AbstractRNG,Type{Complex{T<:Real}}) in module Compat at /Users/dpsanders/.julia/v0.3/Compat/src/Compat.jl:163 overwritten in module Compat at /Users/dpsanders/.julia/v0.3/Compat/src/Compat.jl:163.\n",
      "Warning: Method definition rand!(AbstractRNG,AbstractArray{T<:Number,N}) in module Compat at /Users/dpsanders/.julia/v0.3/Compat/src/Compat.jl:166 overwritten in module Compat at /Users/dpsanders/.julia/v0.3/Compat/src/Compat.jl:166.\n",
      "Warning: Method definition rand(AbstractRNG,Type{T<:Top},(Int64...,)) in module Compat at /Users/dpsanders/.julia/v0.3/Compat/src/Compat.jl:172 overwritten in module Compat at /Users/dpsanders/.julia/v0.3/Compat/src/Compat.jl:172.\n",
      "Warning: Method definition rand(AbstractRNG,Type{T<:Top},Int64,Int64...) in module Compat at /Users/dpsanders/.julia/v0.3/Compat/src/Compat.jl:173 overwritten in module Compat at /Users/dpsanders/.julia/v0.3/Compat/src/Compat.jl:173.\n",
      "Warning: Method definition rand(MersenneTwister,Type{Bool}) in module Compat at /Users/dpsanders/.julia/v0.3/Compat/src/Compat.jl:174 overwritten in module Compat at /Users/dpsanders/.julia/v0.3/Compat/src/Compat.jl:174.\n",
      "Warning: Method definition srand() in module Compat at /Users/dpsanders/.julia/v0.3/Compat/src/Compat.jl:178 overwritten in module Compat at /Users/dpsanders/.julia/v0.3/Compat/src/Compat.jl:178.\n",
      "Warning: Method definition rand(Type{Bool},) in module Compat at /Users/dpsanders/.julia/v0.3/Compat/src/Compat.jl:300 overwritten in module Compat at /Users/dpsanders/.julia/v0.3/Compat/src/Compat.jl:300.\n",
      "Warning: Method definition parse(Type{T<:Integer},Char) in module Compat at /Users/dpsanders/.julia/v0.3/Compat/src/Compat.jl:321 overwritten in module Compat at /Users/dpsanders/.julia/v0.3/Compat/src/Compat.jl:321.\n",
      "Warning: Method definition parse(Type{T<:Integer},Char,Integer) in module Compat at /Users/dpsanders/.julia/v0.3/Compat/src/Compat.jl:322 overwritten in module Compat at /Users/dpsanders/.julia/v0.3/Compat/src/Compat.jl:322.\n",
      "Warning: Method definition parse(Type{T<:Integer},String) in module Compat at /Users/dpsanders/.julia/v0.3/Compat/src/Compat.jl:323 overwritten in module Compat at /Users/dpsanders/.julia/v0.3/Compat/src/Compat.jl:323.\n",
      "Warning: Method definition parse(Type{T<:Integer},String,Integer) in module Compat at /Users/dpsanders/.julia/v0.3/Compat/src/Compat.jl:324 overwritten in module Compat at /Users/dpsanders/.julia/v0.3/Compat/src/Compat.jl:324.\n",
      "Warning: Method definition parse(Type{T<:Union(Float64,Float32)},String) in module Compat at /Users/dpsanders/.julia/v0.3/Compat/src/Compat.jl:325 overwritten in module Compat at /Users/dpsanders/.julia/v0.3/Compat/src/Compat.jl:325.\n",
      "Warning: Method definition parse(Type{BigFloat},String) in module Compat at /Users/dpsanders/.julia/v0.3/Compat/src/Compat.jl:329 overwritten in module Compat at /Users/dpsanders/.julia/v0.3/Compat/src/Compat.jl:329.\n",
      "Warning: Method definition isvalid(Char,) in module Compat at /Users/dpsanders/.julia/v0.3/Compat/src/Compat.jl:562 overwritten in module Compat at /Users/dpsanders/.julia/v0.3/Compat/src/Compat.jl:562.\n",
      "Warning: Method definition isvalid(ASCIIString,) in module Compat at /Users/dpsanders/.julia/v0.3/Compat/src/Compat.jl:563 overwritten in module Compat at /Users/dpsanders/.julia/v0.3/Compat/src/Compat.jl:563.\n",
      "Warning: Method definition isvalid(UTF8String,) in module Compat at /Users/dpsanders/.julia/v0.3/Compat/src/Compat.jl:564 overwritten in module Compat at /Users/dpsanders/.julia/v0.3/Compat/src/Compat.jl:564.\n",
      "Warning: Method definition isvalid(UTF16String,) in module Compat at /Users/dpsanders/.julia/v0.3/Compat/src/Compat.jl:565 overwritten in module Compat at /Users/dpsanders/.julia/v0.3/Compat/src/Compat.jl:565.\n",
      "Warning: Method definition isvalid(UTF32String,) in module Compat at /Users/dpsanders/.julia/v0.3/Compat/src/Compat.jl:566 overwritten in module Compat at /Users/dpsanders/.julia/v0.3/Compat/src/Compat.jl:566.\n",
      "Warning: Method definition isvalid(Type{Char},Any) in module Compat at /Users/dpsanders/.julia/v0.3/Compat/src/Compat.jl:567 overwritten in module Compat at /Users/dpsanders/.julia/v0.3/Compat/src/Compat.jl:567.\n",
      "Warning: Method definition isvalid(Type{ASCIIString},Any) in module Compat at /Users/dpsanders/.julia/v0.3/Compat/src/Compat.jl:568 overwritten in module Compat at /Users/dpsanders/.julia/v0.3/Compat/src/Compat.jl:568.\n",
      "Warning: Method definition isvalid(Type{UTF8String},Any) in module Compat at /Users/dpsanders/.julia/v0.3/Compat/src/Compat.jl:569 overwritten in module Compat at /Users/dpsanders/.julia/v0.3/Compat/src/Compat.jl:569.\n",
      "Warning: Method definition isvalid(Type{UTF16String},Any) in module Compat at /Users/dpsanders/.julia/v0.3/Compat/src/Compat.jl:570 overwritten in module Compat at /Users/dpsanders/.julia/v0.3/Compat/src/Compat.jl:570.\n",
      "Warning: Method definition isvalid(Type{UTF32String},Any) in module Compat at /Users/dpsanders/.julia/v0.3/Compat/src/Compat.jl:571 overwritten in module Compat at /Users/dpsanders/.julia/v0.3/Compat/src/Compat.jl:571.\n",
      "Warning: Method definition Timer(Function,Real) in module Compat at /Users/dpsanders/.julia/v0.3/Compat/src/timer.jl:69 overwritten in module Compat at /Users/dpsanders/.julia/v0.3/Compat/src/timer.jl:69.\n",
      "Warning: Method definition Timer(Function,Real,Real) in module Compat at /Users/dpsanders/.julia/v0.3/Compat/src/timer.jl:69 overwritten in module Compat at /Users/dpsanders/.julia/v0.3/Compat/src/timer.jl:69.\n",
      "Warning: Method definition Timer(Real,) in module Compat at /Users/dpsanders/.julia/v0.3/Compat/src/timer.jl:79 overwritten in module Compat at /Users/dpsanders/.julia/v0.3/Compat/src/timer.jl:79.\n",
      "Warning: Method definition Timer(Real,Real) in module Compat at /Users/dpsanders/.julia/v0.3/Compat/src/timer.jl:79 overwritten in module Compat at /Users/dpsanders/.julia/v0.3/Compat/src/timer.jl:79.\n",
      "Warning: Method definition gc_enable(Bool,) in module Compat at /Users/dpsanders/.julia/v0.3/Compat/src/Compat.jl:589 overwritten in module Compat at /Users/dpsanders/.julia/v0.3/Compat/src/Compat.jl:589.\n",
      "Warning: Method definition real(Type{T<:Real},) in module Compat at /Users/dpsanders/.julia/v0.3/Compat/src/Compat.jl:639 overwritten in module Compat at /Users/dpsanders/.julia/v0.3/Compat/src/Compat.jl:639.\n",
      "Warning: Method definition real(Type{Complex{T<:Real}},) in module Compat at /Users/dpsanders/.julia/v0.3/Compat/src/Compat.jl:640 overwritten in module Compat at /Users/dpsanders/.julia/v0.3/Compat/src/Compat.jl:640.\n",
      "Warning: Method definition isapprox(AbstractArray{T<:Number,N},AbstractArray{S<:Number,N}) in module Compat at /Users/dpsanders/.julia/v0.3/Compat/src/Compat.jl:648 overwritten in module Compat at /Users/dpsanders/.julia/v0.3/Compat/src/Compat.jl:648.\n",
      "Warning: Method definition isapprox(Array{T,N},AbstractArray{T<:Number,N},AbstractArray{S<:Number,N}) in module Compat overwritten in module Compat.\n",
      "Warning: New definition \n",
      "    +(Union(LinSpace{T<:FloatingPoint},FloatRange{T<:FloatingPoint},OrdinalRange{T,S}),Union(LinSpace{T<:FloatingPoint},FloatRange{T<:FloatingPoint},OrdinalRange{T,S})) at /Users/dpsanders/.julia/v0.3/Compat/src/linspace.jl:159\n",
      "is ambiguous with: \n",
      "    +(Union(FloatRange{T<:FloatingPoint},LinSpace{T<:FloatingPoint},OrdinalRange{T,S}),Union(FloatRange{T<:FloatingPoint},LinSpace{T<:FloatingPoint},OrdinalRange{T,S})) at /Users/dpsanders/.julia/v0.3/Compat/src/linspace.jl:159.\n",
      "To fix, define \n",
      "    +(Union(FloatRange{T<:FloatingPoint},OrdinalRange{T,S}),Union(FloatRange{T<:FloatingPoint},OrdinalRange{T,S}))\n",
      "before the new definition.\n",
      "Warning: New definition \n",
      "    -(Union(LinSpace{T<:FloatingPoint},FloatRange{T<:FloatingPoint},OrdinalRange{T,S}),Union(LinSpace{T<:FloatingPoint},FloatRange{T<:FloatingPoint},OrdinalRange{T,S})) at /Users/dpsanders/.julia/v0.3/Compat/src/linspace.jl:159\n",
      "is ambiguous with: \n",
      "    -(Union(FloatRange{T<:FloatingPoint},LinSpace{T<:FloatingPoint},OrdinalRange{T,S}),Union(FloatRange{T<:FloatingPoint},LinSpace{T<:FloatingPoint},OrdinalRange{T,S})) at /Users/dpsanders/.julia/v0.3/Compat/src/linspace.jl:159.\n",
      "To fix, define \n",
      "    -(Union(FloatRange{T<:FloatingPoint},OrdinalRange{T,S}),Union(FloatRange{T<:FloatingPoint},OrdinalRange{T,S}))\n",
      "before the new definition.\n"
     ]
    }
   ],
   "source": [
    "using PyPlot"
   ]
  },
  {
   "cell_type": "code",
   "execution_count": 129,
   "metadata": {
    "collapsed": false
   },
   "outputs": [
    {
     "data": {
      "image/png": "[encoded data removed]",
      "text/plain": [
       "Figure(PyObject <matplotlib.figure.Figure object at 0x10fcdc160>)"
      ]
     },
     "metadata": {},
     "output_type": "display_data"
    },
    {
     "data": {
      "text/plain": [
       "1-element Array{Any,1}:\n",
       " PyObject <matplotlib.lines.Line2D object at 0x10fea9390>"
      ]
     },
     "execution_count": 129,
     "metadata": {},
     "output_type": "execute_result"
    }
   ],
   "source": [
    "figure()\n",
    "plot(ts, xs)"
   ]
  },
  {
   "cell_type": "markdown",
   "metadata": {},
   "source": [
    "O: hacer arreglo desde el principio:"
   ]
  },
  {
   "cell_type": "code",
   "execution_count": 157,
   "metadata": {
    "collapsed": false
   },
   "outputs": [
    {
     "data": {
      "text/plain": [
       "Euler2 (generic function with 1 method)"
      ]
     },
     "execution_count": 157,
     "metadata": {},
     "output_type": "execute_result"
    }
   ],
   "source": [
    "function Euler2(f, x0, t0, t_final, dt)\n",
    "    x = x0\n",
    "    \n",
    "    tiempos = t0:dt:t_final\n",
    "    \n",
    "    datos = zeros(length(tiempos))\n",
    "    datos[1] = x0\n",
    "    \n",
    "    for i in 2:length(tiempos)\n",
    "        x_nueva = paso_Euler(f, x, tiempos[i], dt)\n",
    "        x = x_nueva\n",
    "        \n",
    "        datos[i] = x\n",
    "    \n",
    "    end\n",
    "    \n",
    "    datos, tiempos\n",
    "end"
   ]
  },
  {
   "cell_type": "code",
   "execution_count": 158,
   "metadata": {
    "collapsed": false
   },
   "outputs": [],
   "source": [
    "xs2, ts2 = Euler2(g, 1., 0., 10., 0.5);"
   ]
  },
  {
   "cell_type": "code",
   "execution_count": 143,
   "metadata": {
    "collapsed": false
   },
   "outputs": [
    {
     "data": {
      "image/png": "[encoded data removed]",
      "text/plain": [
       "Figure(PyObject <matplotlib.figure.Figure object at 0x10fcdc160>)"
      ]
     },
     "metadata": {},
     "output_type": "display_data"
    },
    {
     "data": {
      "text/plain": [
       "1-element Array{Any,1}:\n",
       " PyObject <matplotlib.lines.Line2D object at 0x10feaf390>"
      ]
     },
     "execution_count": 143,
     "metadata": {},
     "output_type": "execute_result"
    }
   ],
   "source": [
    "plot(ts2, xs2)"
   ]
  },
  {
   "cell_type": "code",
   "execution_count": 161,
   "metadata": {
    "collapsed": false
   },
   "outputs": [
    {
     "name": "stdout",
     "output_type": "stream",
     "text": [
      "elapsed time: 3.492991279 seconds (1039992312 bytes allocated, 38.81% gc time)\n"
     ]
    }
   ],
   "source": [
    "@time xs2, ts2 = Euler2(g, 1., 0., 1000., 0.0001);"
   ]
  },
  {
   "cell_type": "code",
   "execution_count": 160,
   "metadata": {
    "collapsed": false
   },
   "outputs": [
    {
     "name": "stdout",
     "output_type": "stream",
     "text": [
      "(datos,typeof(datos)) => ([1.0],Array{Float64,1})\n",
      "tiempos => [0.0]\n",
      "elapsed time: 2.91726119 seconds (1336889912 bytes allocated, 26.28% gc time)\n"
     ]
    }
   ],
   "source": [
    "@time xs, ts = Euler(g, 1., 0., 1000., 0.0001);"
   ]
  },
  {
   "cell_type": "code",
   "execution_count": 162,
   "metadata": {
    "collapsed": false
   },
   "outputs": [
    {
     "name": "stdout",
     "output_type": "stream",
     "text": [
      "elapsed time: 7.316627527 seconds (2079992296 bytes allocated, 35.28% gc time)\n"
     ]
    }
   ],
   "source": [
    "@time xs2, ts2 = Euler2(g, 1., 0., 2000., 0.0001);"
   ]
  },
  {
   "cell_type": "code",
   "execution_count": 163,
   "metadata": {
    "collapsed": false
   },
   "outputs": [
    {
     "name": "stdout",
     "output_type": "stream",
     "text": [
      "(datos,typeof(datos)) => ([1.0],Array{Float64,1})\n",
      "tiempos => [0.0]\n",
      "elapsed time: 6.258256424 seconds (2577124560 bytes allocated, 24.62% gc time)\n"
     ]
    }
   ],
   "source": [
    "@time xs, ts = Euler(g, 1., 0., 2000., 0.0001);"
   ]
  },
  {
   "cell_type": "markdown",
   "metadata": {},
   "source": [
    "Con varias variables:"
   ]
  },
  {
   "cell_type": "code",
   "execution_count": 164,
   "metadata": {
    "collapsed": false
   },
   "outputs": [
    {
     "data": {
      "text/plain": [
       "0-element Array{Array{Float64,1},1}"
      ]
     },
     "execution_count": 164,
     "metadata": {},
     "output_type": "execute_result"
    }
   ],
   "source": [
    "a = Vector{Float64}[]"
   ]
  },
  {
   "cell_type": "code",
   "execution_count": 165,
   "metadata": {
    "collapsed": false
   },
   "outputs": [
    {
     "data": {
      "text/plain": [
       "1-element Array{Array{Float64,1},1}:\n",
       " [1.0,2.0]"
      ]
     },
     "execution_count": 165,
     "metadata": {},
     "output_type": "execute_result"
    }
   ],
   "source": [
    "push!(a, [1.,2.])"
   ]
  },
  {
   "cell_type": "code",
   "execution_count": 166,
   "metadata": {
    "collapsed": false
   },
   "outputs": [
    {
     "data": {
      "text/plain": [
       "2-element Array{Array{Float64,1},1}:\n",
       " [1.0,2.0]\n",
       " [3.0,4.0]"
      ]
     },
     "execution_count": 166,
     "metadata": {},
     "output_type": "execute_result"
    }
   ],
   "source": [
    "push!(a, [3.,4.])"
   ]
  },
  {
   "cell_type": "markdown",
   "metadata": {},
   "source": [
    "Hacerlo matriz:"
   ]
  },
  {
   "cell_type": "code",
   "execution_count": 167,
   "metadata": {
    "collapsed": false
   },
   "outputs": [
    {
     "data": {
      "text/plain": [
       "2-element Array{Array{Float64,1},1}:\n",
       " [1.0,2.0]\n",
       " [3.0,4.0]"
      ]
     },
     "execution_count": 167,
     "metadata": {},
     "output_type": "execute_result"
    }
   ],
   "source": [
    "a"
   ]
  },
  {
   "cell_type": "code",
   "execution_count": 170,
   "metadata": {
    "collapsed": false
   },
   "outputs": [
    {
     "data": {
      "text/plain": [
       "2x2 Array{Float64,2}:\n",
       " 1.0  3.0\n",
       " 2.0  4.0"
      ]
     },
     "execution_count": 170,
     "metadata": {},
     "output_type": "execute_result"
    }
   ],
   "source": [
    "hcat(a...)"
   ]
  },
  {
   "cell_type": "code",
   "execution_count": 171,
   "metadata": {
    "collapsed": false
   },
   "outputs": [
    {
     "data": {
      "text/plain": [
       "2x2 Array{Float64,2}:\n",
       " 1.0  3.0\n",
       " 2.0  4.0"
      ]
     },
     "execution_count": 171,
     "metadata": {},
     "output_type": "execute_result"
    }
   ],
   "source": [
    "hcat(a[1], a[2])"
   ]
  },
  {
   "cell_type": "code",
   "execution_count": 172,
   "metadata": {
    "collapsed": false
   },
   "outputs": [
    {
     "data": {
      "text/plain": [
       "3-element Array{Array{Float64,1},1}:\n",
       " [1.0,2.0]\n",
       " [3.0,4.0]\n",
       " [6.0,7.0]"
      ]
     },
     "execution_count": 172,
     "metadata": {},
     "output_type": "execute_result"
    }
   ],
   "source": [
    "push!(a, [6., 7.])"
   ]
  },
  {
   "cell_type": "code",
   "execution_count": 173,
   "metadata": {
    "collapsed": false
   },
   "outputs": [
    {
     "data": {
      "text/plain": [
       "2x3 Array{Float64,2}:\n",
       " 1.0  3.0  6.0\n",
       " 2.0  4.0  7.0"
      ]
     },
     "execution_count": 173,
     "metadata": {},
     "output_type": "execute_result"
    }
   ],
   "source": [
    "hcat(a...)"
   ]
  },
  {
   "cell_type": "code",
   "execution_count": 174,
   "metadata": {
    "collapsed": false
   },
   "outputs": [
    {
     "data": {
      "text/plain": [
       "3x2 Array{Float64,2}:\n",
       " 1.0  2.0\n",
       " 3.0  4.0\n",
       " 6.0  7.0"
      ]
     },
     "execution_count": 174,
     "metadata": {},
     "output_type": "execute_result"
    }
   ],
   "source": [
    "transpose(hcat(a...))"
   ]
  },
  {
   "cell_type": "code",
   "execution_count": 175,
   "metadata": {
    "collapsed": false
   },
   "outputs": [
    {
     "data": {
      "text/plain": [
       "3x2 Array{Float64,2}:\n",
       " 1.0  2.0\n",
       " 3.0  4.0\n",
       " 6.0  7.0"
      ]
     },
     "execution_count": 175,
     "metadata": {},
     "output_type": "execute_result"
    }
   ],
   "source": [
    "hcat(a...)'"
   ]
  },
  {
   "cell_type": "code",
   "execution_count": 177,
   "metadata": {
    "collapsed": false
   },
   "outputs": [
    {
     "data": {
      "text/plain": [
       "6-element Array{Float64,1}:\n",
       " 1.0\n",
       " 2.0\n",
       " 3.0\n",
       " 4.0\n",
       " 6.0\n",
       " 7.0"
      ]
     },
     "execution_count": 177,
     "metadata": {},
     "output_type": "execute_result"
    }
   ],
   "source": [
    "vcat(a...)"
   ]
  },
  {
   "cell_type": "code",
   "execution_count": 179,
   "metadata": {
    "collapsed": false
   },
   "outputs": [
    {
     "data": {
      "text/plain": [
       "2x3 Array{Float64,2}:\n",
       " 1.0  3.0  6.0\n",
       " 2.0  4.0  7.0"
      ]
     },
     "execution_count": 179,
     "metadata": {},
     "output_type": "execute_result"
    }
   ],
   "source": [
    "M = hcat(a...)"
   ]
  },
  {
   "cell_type": "code",
   "execution_count": 180,
   "metadata": {
    "collapsed": false
   },
   "outputs": [
    {
     "data": {
      "text/plain": [
       "3.0"
      ]
     },
     "execution_count": 180,
     "metadata": {},
     "output_type": "execute_result"
    }
   ],
   "source": [
    "M[1,2]"
   ]
  },
  {
   "cell_type": "code",
   "execution_count": 181,
   "metadata": {
    "collapsed": false
   },
   "outputs": [
    {
     "data": {
      "text/plain": [
       "2-element Array{Float64,1}:\n",
       " 3.0\n",
       " 4.0"
      ]
     },
     "execution_count": 181,
     "metadata": {},
     "output_type": "execute_result"
    }
   ],
   "source": [
    "M[1:2,2]"
   ]
  },
  {
   "cell_type": "code",
   "execution_count": 182,
   "metadata": {
    "collapsed": false
   },
   "outputs": [
    {
     "data": {
      "text/plain": [
       "2-element Array{Float64,1}:\n",
       " 3.0\n",
       " 4.0"
      ]
     },
     "execution_count": 182,
     "metadata": {},
     "output_type": "execute_result"
    }
   ],
   "source": [
    "M[:,2]"
   ]
  },
  {
   "cell_type": "code",
   "execution_count": 183,
   "metadata": {
    "collapsed": false
   },
   "outputs": [
    {
     "data": {
      "text/plain": [
       "1x3 Array{Float64,2}:\n",
       " 2.0  4.0  7.0"
      ]
     },
     "execution_count": 183,
     "metadata": {},
     "output_type": "execute_result"
    }
   ],
   "source": [
    "M[2,:]"
   ]
  },
  {
   "cell_type": "markdown",
   "metadata": {},
   "source": [
    "## Euler con 2 variables "
   ]
  },
  {
   "cell_type": "markdown",
   "metadata": {},
   "source": [
    "Sistema: caída libre con fricción:"
   ]
  },
  {
   "cell_type": "markdown",
   "metadata": {},
   "source": [
    "$$m \\ddot{x} = -mg -\\gamma \\dot{x}$$\n",
    "\n",
    "$$ \\ddot{x} + k \\dot{x} + g = 0 $$\n",
    "\n",
    "con $k := \\gamma / m $"
   ]
  },
  {
   "cell_type": "markdown",
   "metadata": {},
   "source": [
    "Reescribir la EDO como un **sistema** de EDOs **de 1er orden**"
   ]
  },
  {
   "cell_type": "markdown",
   "metadata": {},
   "source": [
    "$$\\dot{x} = v$$\n",
    "\n",
    "$$\\dot{v} = -kv - g = \\ddot{x}$$"
   ]
  },
  {
   "cell_type": "markdown",
   "metadata": {},
   "source": [
    "$$\\dot{\\mathbf{x}} = \\mathbf{f}(\\mathbf{x})$$"
   ]
  },
  {
   "cell_type": "markdown",
   "metadata": {},
   "source": [
    "Tengo 2 variables: $x$ y $v$.\n",
    "Las pongo en el vector $\\mathbf{x}$"
   ]
  },
  {
   "cell_type": "markdown",
   "metadata": {},
   "source": [
    "$$\\mathbf{x}(t) = \\begin{pmatrix} x(t) \\\\ v(t) \\end{pmatrix}$$"
   ]
  },
  {
   "cell_type": "markdown",
   "metadata": {},
   "source": [
    "[\n",
    "$$\\begin{pmatrix} 1 & 2 \\\\ 3 & 4 \\end{pmatrix}$$\n",
    "\n",
    "    \n",
    "    $$\\begin{pmatrix} 1 & 2 \\\\ 3 & 4 \\end{pmatrix}$$\n",
    "]"
   ]
  },
  {
   "cell_type": "markdown",
   "metadata": {},
   "source": [
    "$$\\dot{\\mathbf{x}}(t) = \\begin{pmatrix} \\dot{x}(t) \\\\ \\dot{v}(t) \\end{pmatrix}\n",
    "= \\begin{pmatrix} v(t) \\\\ -k v(t) -g \\end{pmatrix} \n",
    "=: \\mathbf{f}(\\mathbf{x}(t))$$"
   ]
  },
  {
   "cell_type": "markdown",
   "metadata": {},
   "source": [
    "$\\therefore$ \n",
    "$$\\mathbf{f}(\\begin{pmatrix} x \\\\ v \\end{pmatrix})\n",
    "= \\begin{pmatrix} v \\\\ -k v -g \\end{pmatrix} $$"
   ]
  },
  {
   "cell_type": "markdown",
   "metadata": {},
   "source": [
    "Traducirlo a Julia:"
   ]
  },
  {
   "cell_type": "code",
   "execution_count": 187,
   "metadata": {
    "collapsed": true
   },
   "outputs": [],
   "source": [
    "workspace()"
   ]
  },
  {
   "cell_type": "code",
   "execution_count": 188,
   "metadata": {
    "collapsed": false
   },
   "outputs": [
    {
     "data": {
      "text/plain": [
       "caida_libre (generic function with 1 method)"
      ]
     },
     "execution_count": 188,
     "metadata": {},
     "output_type": "execute_result"
    }
   ],
   "source": [
    "k = 1.\n",
    "g = -10.\n",
    "\n",
    "function caida_libre(xx, t)  # acepta un *vector* xx !\n",
    "#     x = xx[1]\n",
    "#     v = xx[2]  NO POR FAVOR!\n",
    "    \n",
    "    x, v = xx\n",
    "    \n",
    "#     respuesta = [v, -k*v - g]\n",
    "#     return respuesta\n",
    "\n",
    "    [v, -k*v - g]\n",
    "    \n",
    "end"
   ]
  },
  {
   "cell_type": "code",
   "execution_count": null,
   "metadata": {
    "collapsed": true
   },
   "outputs": [],
   "source": []
  },
  {
   "cell_type": "code",
   "execution_count": 196,
   "metadata": {
    "collapsed": true
   },
   "outputs": [],
   "source": [
    "workspace()"
   ]
  },
  {
   "cell_type": "code",
   "execution_count": 1,
   "metadata": {
    "collapsed": false
   },
   "outputs": [
    {
     "data": {
      "text/plain": [
       "Euler2 (generic function with 1 method)"
      ]
     },
     "execution_count": 1,
     "metadata": {},
     "output_type": "execute_result"
    }
   ],
   "source": [
    "const k = 1.\n",
    "const g = 10.\n",
    "\n",
    "function Euler2(x0, v0, t0, t_final, dt)\n",
    "\n",
    "    tiempos = [t0]\n",
    "    xs = [x0]\n",
    "    vs = [v0]\n",
    "    \n",
    "    x, v = x0, v0\n",
    "    \n",
    "    for t in t0:dt:t_final\n",
    "        x_nueva = x + dt*v\n",
    "        v_nueva = v + dt*(-k*v - g)\n",
    "        \n",
    "        push!(xs, x)\n",
    "        push!(vs, v)\n",
    "        push!(tiempos, t)\n",
    "        \n",
    "        x = x_nueva\n",
    "        v = v_nueva\n",
    "        \n",
    "    end\n",
    "    \n",
    "    xs, vs, tiempos\n",
    "end"
   ]
  },
  {
   "cell_type": "code",
   "execution_count": 2,
   "metadata": {
    "collapsed": false
   },
   "outputs": [
    {
     "data": {
      "text/plain": [
       "([10.0,10.0,10.0,9.9,9.71,9.439,9.0951,8.68559,8.21703,7.69533  …  -71.0007,-72.0006,-73.0006,-74.0005,-75.0004,-76.0004,-77.0004,-78.0003,-79.0003,-80.0003],[0.0,0.0,-1.0,-1.9,-2.71,-3.439,-4.0951,-4.68559,-5.21703,-5.69533  …  -9.99931,-9.99938,-9.99944,-9.9995,-9.99955,-9.9996,-9.99964,-9.99967,-9.9997,-9.99973],[0.0,0.0,0.1,0.2,0.3,0.4,0.5,0.6,0.7,0.8  …  9.1,9.2,9.3,9.4,9.5,9.6,9.7,9.8,9.9,10.0])"
      ]
     },
     "execution_count": 2,
     "metadata": {},
     "output_type": "execute_result"
    }
   ],
   "source": [
    "xs, vs, ts = Euler2(10., 0., 0., 10., 0.1)"
   ]
  },
  {
   "cell_type": "code",
   "execution_count": 3,
   "metadata": {
    "collapsed": false
   },
   "outputs": [
    {
     "name": "stderr",
     "output_type": "stream",
     "text": [
      "INFO: Loading help data...\n"
     ]
    }
   ],
   "source": [
    "using PyPlot"
   ]
  },
  {
   "cell_type": "code",
   "execution_count": 5,
   "metadata": {
    "collapsed": false
   },
   "outputs": [
    {
     "data": {
      "image/png": "[encoded data removed]",
      "text/plain": [
       "Figure(PyObject <matplotlib.figure.Figure object at 0x10d36d0b8>)"
      ]
     },
     "metadata": {},
     "output_type": "display_data"
    },
    {
     "data": {
      "text/plain": [
       "PyObject <matplotlib.text.Text object at 0x110d51080>"
      ]
     },
     "execution_count": 5,
     "metadata": {},
     "output_type": "execute_result"
    }
   ],
   "source": [
    "plot(ts, xs)\n",
    "xlabel(L\"t\")\n",
    "ylabel(L\"x\")\n"
   ]
  },
  {
   "cell_type": "code",
   "execution_count": 6,
   "metadata": {
    "collapsed": false
   },
   "outputs": [
    {
     "data": {
      "text/plain": [
       "Euler_2_variables (generic function with 1 method)"
      ]
     },
     "execution_count": 6,
     "metadata": {},
     "output_type": "execute_result"
    }
   ],
   "source": [
    "function Euler_2_variables(f1, f2, x0, v0, t0, t_final, dt)\n",
    "\n",
    "    tiempos = [t0]\n",
    "    xs = [x0]\n",
    "    vs = [v0]\n",
    "    \n",
    "    x, v = x0, v0\n",
    "    \n",
    "    for t in t0:dt:t_final\n",
    "        x_nueva = x + dt*f1(x,v,t)\n",
    "        v_nueva = v + dt*f2(x,v,t)\n",
    "        \n",
    "        push!(xs, x)\n",
    "        push!(vs, v)\n",
    "        push!(tiempos, t)\n",
    "        \n",
    "        x = x_nueva\n",
    "        v = v_nueva\n",
    "        \n",
    "    end\n",
    "    \n",
    "    xs, vs, tiempos\n",
    "end"
   ]
  },
  {
   "cell_type": "code",
   "execution_count": 8,
   "metadata": {
    "collapsed": false
   },
   "outputs": [
    {
     "data": {
      "text/plain": [
       "Euler_2_variables (generic function with 2 methods)"
      ]
     },
     "execution_count": 8,
     "metadata": {},
     "output_type": "execute_result"
    }
   ],
   "source": [
    "function Euler_2_variables(f1, f2, x1, x2, t0, t_final, dt)\n",
    "\n",
    "    tiempos = [t0]\n",
    "    x1s = [x1]\n",
    "    x2s = [x2]\n",
    "    \n",
    "    \n",
    "    for t in t0:dt:t_final\n",
    "        x1_nueva = x1 + dt*f1(x1,x2,t)\n",
    "        x2_nueva = x2 + dt*f2(x1,x2,t)\n",
    "        \n",
    "        push!(x1s, x1)\n",
    "        push!(x2s, x2)\n",
    "        push!(tiempos, t)\n",
    "        \n",
    "        x1 = x1_nueva\n",
    "        x2 = x2_nueva\n",
    "        \n",
    "    end\n",
    "    \n",
    "    x1s, x2s, tiempos\n",
    "end"
   ]
  },
  {
   "cell_type": "code",
   "execution_count": 9,
   "metadata": {
    "collapsed": false
   },
   "outputs": [
    {
     "data": {
      "text/plain": [
       "Euler_3_variables (generic function with 1 method)"
      ]
     },
     "execution_count": 9,
     "metadata": {},
     "output_type": "execute_result"
    }
   ],
   "source": [
    "c"
   ]
  },
  {
   "cell_type": "code",
   "execution_count": 31,
   "metadata": {
    "collapsed": false
   },
   "outputs": [
    {
     "data": {
      "text/plain": [
       "Euler_n_variables (generic function with 1 method)"
      ]
     },
     "execution_count": 31,
     "metadata": {},
     "output_type": "execute_result"
    }
   ],
   "source": [
    "function Euler_n_variables(f, x0, t0, t_final, dt)\n",
    "    # necesito una function f(x,t)\n",
    "    # que come un vector x, el tiempo t\n",
    "    # y regresa un vector (el campo vectorial evaluado en x,t)\n",
    "    \n",
    "    tiempos = [t0]\n",
    "    xs = typeof(x0)[x0]\n",
    "\n",
    "    #x = copy(x0)  # ver pythontutor.com\n",
    "    \n",
    "    x = x0\n",
    "    \n",
    "    for t in t0:dt:t_final\n",
    "        x_nueva = x + dt*f(x,t)\n",
    "        \n",
    "        push!(xs, x)\n",
    "        push!(tiempos, t)\n",
    "        \n",
    "        x = x_nueva\n",
    "        \n",
    "    end\n",
    "    \n",
    "    xs, tiempos\n",
    "end"
   ]
  },
  {
   "cell_type": "code",
   "execution_count": 32,
   "metadata": {
    "collapsed": false
   },
   "outputs": [
    {
     "data": {
      "text/plain": [
       "caida_libre (generic function with 1 method)"
      ]
     },
     "execution_count": 32,
     "metadata": {},
     "output_type": "execute_result"
    }
   ],
   "source": [
    "function caida_libre(xx, t)  # acepta un *vector* xx !\n",
    "\n",
    "    x, v = xx\n",
    "\n",
    "    [v, -k*v - g]\n",
    "    \n",
    "end"
   ]
  },
  {
   "cell_type": "code",
   "execution_count": 51,
   "metadata": {
    "collapsed": false
   },
   "outputs": [
    {
     "data": {
      "text/plain": [
       "([[10.0,0.0],[10.0,0.0],[10.0,-1.0],[9.9,-1.9],[9.71,-2.71],[9.439,-3.439],[9.0951,-4.0951],[8.68559,-4.68559],[8.21703,-5.21703],[7.69533,-5.69533]  …  [-71.0007,-9.99931],[-72.0006,-9.99938],[-73.0006,-9.99944],[-74.0005,-9.9995],[-75.0004,-9.99955],[-76.0004,-9.9996],[-77.0004,-9.99964],[-78.0003,-9.99967],[-79.0003,-9.9997],[-80.0003,-9.99973]],[0.0,0.0,0.1,0.2,0.3,0.4,0.5,0.6,0.7,0.8  …  9.1,9.2,9.3,9.4,9.5,9.6,9.7,9.8,9.9,10.0])"
      ]
     },
     "execution_count": 51,
     "metadata": {},
     "output_type": "execute_result"
    }
   ],
   "source": [
    "xs, ts = Euler_n_variables(caida_libre, [10.,0.], 0., 10., 0.1)"
   ]
  },
  {
   "cell_type": "code",
   "execution_count": 34,
   "metadata": {
    "collapsed": false
   },
   "outputs": [
    {
     "data": {
      "text/plain": [
       "102-element Array{Float64,1}:\n",
       "  0.0\n",
       "  0.0\n",
       "  0.1\n",
       "  0.2\n",
       "  0.3\n",
       "  0.4\n",
       "  0.5\n",
       "  0.6\n",
       "  0.7\n",
       "  0.8\n",
       "  0.9\n",
       "  1.0\n",
       "  1.1\n",
       "  ⋮  \n",
       "  8.9\n",
       "  9.0\n",
       "  9.1\n",
       "  9.2\n",
       "  9.3\n",
       "  9.4\n",
       "  9.5\n",
       "  9.6\n",
       "  9.7\n",
       "  9.8\n",
       "  9.9\n",
       " 10.0"
      ]
     },
     "execution_count": 34,
     "metadata": {},
     "output_type": "execute_result"
    }
   ],
   "source": [
    "ts"
   ]
  },
  {
   "cell_type": "code",
   "execution_count": 20,
   "metadata": {
    "collapsed": false
   },
   "outputs": [
    {
     "data": {
      "text/plain": [
       "102-element Array{Array{Float64,1},1}:\n",
       " [10.0,0.0]         \n",
       " [10.0,0.0]         \n",
       " [10.0,-1.0]        \n",
       " [9.9,-1.9]         \n",
       " [9.71,-2.71]       \n",
       " [9.439,-3.439]     \n",
       " [9.0951,-4.0951]   \n",
       " [8.68559,-4.68559] \n",
       " [8.21703,-5.21703] \n",
       " [7.69533,-5.69533] \n",
       " [7.1258,-6.1258]   \n",
       " [6.51322,-6.51322] \n",
       " [5.86189,-6.86189] \n",
       " ⋮                  \n",
       " [-69.0008,-9.99915]\n",
       " [-70.0008,-9.99924]\n",
       " [-71.0007,-9.99931]\n",
       " [-72.0006,-9.99938]\n",
       " [-73.0006,-9.99944]\n",
       " [-74.0005,-9.9995] \n",
       " [-75.0004,-9.99955]\n",
       " [-76.0004,-9.9996] \n",
       " [-77.0004,-9.99964]\n",
       " [-78.0003,-9.99967]\n",
       " [-79.0003,-9.9997] \n",
       " [-80.0003,-9.99973]"
      ]
     },
     "execution_count": 20,
     "metadata": {},
     "output_type": "execute_result"
    }
   ],
   "source": [
    "xs"
   ]
  },
  {
   "cell_type": "code",
   "execution_count": 21,
   "metadata": {
    "collapsed": false
   },
   "outputs": [
    {
     "data": {
      "text/plain": [
       "2x102 Array{Float64,2}:\n",
       " 10.0  10.0  10.0   9.9   9.71   9.439  …  -78.0003   -79.0003  -80.0003 \n",
       "  0.0   0.0  -1.0  -1.9  -2.71  -3.439      -9.99967   -9.9997   -9.99973"
      ]
     },
     "execution_count": 21,
     "metadata": {},
     "output_type": "execute_result"
    }
   ],
   "source": [
    "datos = hcat(xs...)"
   ]
  },
  {
   "cell_type": "code",
   "execution_count": 25,
   "metadata": {
    "collapsed": false
   },
   "outputs": [
    {
     "data": {
      "text/plain": [
       "102-element Array{Float64,1}:\n",
       "  0.0    \n",
       "  0.0    \n",
       " -1.0    \n",
       " -1.9    \n",
       " -2.71   \n",
       " -3.439  \n",
       " -4.0951 \n",
       " -4.68559\n",
       " -5.21703\n",
       " -5.69533\n",
       " -6.1258 \n",
       " -6.51322\n",
       " -6.86189\n",
       "  ⋮      \n",
       " -9.99915\n",
       " -9.99924\n",
       " -9.99931\n",
       " -9.99938\n",
       " -9.99944\n",
       " -9.9995 \n",
       " -9.99955\n",
       " -9.9996 \n",
       " -9.99964\n",
       " -9.99967\n",
       " -9.9997 \n",
       " -9.99973"
      ]
     },
     "execution_count": 25,
     "metadata": {},
     "output_type": "execute_result"
    }
   ],
   "source": [
    "xx = vec(datos[1, :])\n",
    "vv = vec(datos[2, :])"
   ]
  },
  {
   "cell_type": "code",
   "execution_count": 26,
   "metadata": {
    "collapsed": false
   },
   "outputs": [
    {
     "data": {
      "image/png": "[encoded data removed]",
      "text/plain": [
       "Figure(PyObject <matplotlib.figure.Figure object at 0x10d2f49e8>)"
      ]
     },
     "metadata": {},
     "output_type": "display_data"
    },
    {
     "data": {
      "text/plain": [
       "1-element Array{Any,1}:\n",
       " PyObject <matplotlib.lines.Line2D object at 0x1110ea908>"
      ]
     },
     "execution_count": 26,
     "metadata": {},
     "output_type": "execute_result"
    }
   ],
   "source": [
    "plot(ts, xx)"
   ]
  },
  {
   "cell_type": "code",
   "execution_count": 35,
   "metadata": {
    "collapsed": false
   },
   "outputs": [
    {
     "data": {
      "text/plain": [
       "Euler_n_variables (generic function with 1 method)"
      ]
     },
     "execution_count": 35,
     "metadata": {},
     "output_type": "execute_result"
    }
   ],
   "source": [
    "include(\"Euler.jl\")"
   ]
  },
  {
   "cell_type": "code",
   "execution_count": 37,
   "metadata": {
    "collapsed": false
   },
   "outputs": [
    {
     "data": {
      "text/plain": [
       "102-element Array{Array{Float64,1},1}:\n",
       " [10.0,0.0]         \n",
       " [10.0,0.0]         \n",
       " [10.0,-1.0]        \n",
       " [9.9,-1.9]         \n",
       " [9.71,-2.71]       \n",
       " [9.439,-3.439]     \n",
       " [9.0951,-4.0951]   \n",
       " [8.68559,-4.68559] \n",
       " [8.21703,-5.21703] \n",
       " [7.69533,-5.69533] \n",
       " [7.1258,-6.1258]   \n",
       " [6.51322,-6.51322] \n",
       " [5.86189,-6.86189] \n",
       " ⋮                  \n",
       " [-69.0008,-9.99915]\n",
       " [-70.0008,-9.99924]\n",
       " [-71.0007,-9.99931]\n",
       " [-72.0006,-9.99938]\n",
       " [-73.0006,-9.99944]\n",
       " [-74.0005,-9.9995] \n",
       " [-75.0004,-9.99955]\n",
       " [-76.0004,-9.9996] \n",
       " [-77.0004,-9.99964]\n",
       " [-78.0003,-9.99967]\n",
       " [-79.0003,-9.9997] \n",
       " [-80.0003,-9.99973]"
      ]
     },
     "execution_count": 37,
     "metadata": {},
     "output_type": "execute_result"
    }
   ],
   "source": [
    "xs"
   ]
  },
  {
   "cell_type": "code",
   "execution_count": 38,
   "metadata": {
    "collapsed": false
   },
   "outputs": [
    {
     "data": {
      "text/plain": [
       "Array{Array{Float64,1},1}"
      ]
     },
     "execution_count": 38,
     "metadata": {},
     "output_type": "execute_result"
    }
   ],
   "source": [
    "typeof(xs)"
   ]
  },
  {
   "cell_type": "code",
   "execution_count": 39,
   "metadata": {
    "collapsed": false
   },
   "outputs": [
    {
     "data": {
      "text/plain": [
       "2-element Array{Float64,1}:\n",
       " 10.0\n",
       "  0.0"
      ]
     },
     "execution_count": 39,
     "metadata": {},
     "output_type": "execute_result"
    }
   ],
   "source": [
    "xs[1]"
   ]
  },
  {
   "cell_type": "code",
   "execution_count": 42,
   "metadata": {
    "collapsed": false
   },
   "outputs": [
    {
     "data": {
      "text/plain": [
       "2-element Array{Float64,1}:\n",
       " 10.0\n",
       " -1.0"
      ]
     },
     "execution_count": 42,
     "metadata": {},
     "output_type": "execute_result"
    }
   ],
   "source": [
    "xs[3]"
   ]
  },
  {
   "cell_type": "code",
   "execution_count": 45,
   "metadata": {
    "collapsed": false
   },
   "outputs": [
    {
     "data": {
      "text/plain": [
       "102-element Array{Float64,1}:\n",
       "  0.0    \n",
       "  0.0    \n",
       " -1.0    \n",
       " -1.9    \n",
       " -2.71   \n",
       " -3.439  \n",
       " -4.0951 \n",
       " -4.68559\n",
       " -5.21703\n",
       " -5.69533\n",
       " -6.1258 \n",
       " -6.51322\n",
       " -6.86189\n",
       "  ⋮      \n",
       " -9.99915\n",
       " -9.99924\n",
       " -9.99931\n",
       " -9.99938\n",
       " -9.99944\n",
       " -9.9995 \n",
       " -9.99955\n",
       " -9.9996 \n",
       " -9.99964\n",
       " -9.99967\n",
       " -9.9997 \n",
       " -9.99973"
      ]
     },
     "execution_count": 45,
     "metadata": {},
     "output_type": "execute_result"
    }
   ],
   "source": [
    "datos = hcat(xs...)';\n",
    "xs = datos[:,1]\n",
    "vs = datos[:,2]"
   ]
  },
  {
   "cell_type": "markdown",
   "metadata": {},
   "source": [
    "O:"
   ]
  },
  {
   "cell_type": "code",
   "execution_count": 50,
   "metadata": {
    "collapsed": false
   },
   "outputs": [
    {
     "data": {
      "text/plain": [
       "102-element Array{Float64,1}:\n",
       "  10.0    \n",
       "  10.0    \n",
       "  10.0    \n",
       "   9.9    \n",
       "   9.71   \n",
       "   9.439  \n",
       "   9.0951 \n",
       "   8.68559\n",
       "   8.21703\n",
       "   7.69533\n",
       "   7.1258 \n",
       "   6.51322\n",
       "   5.86189\n",
       "   ⋮      \n",
       " -69.0008 \n",
       " -70.0008 \n",
       " -71.0007 \n",
       " -72.0006 \n",
       " -73.0006 \n",
       " -74.0005 \n",
       " -75.0004 \n",
       " -76.0004 \n",
       " -77.0004 \n",
       " -78.0003 \n",
       " -79.0003 \n",
       " -80.0003 "
      ]
     },
     "execution_count": 50,
     "metadata": {},
     "output_type": "execute_result"
    }
   ],
   "source": [
    "xs"
   ]
  },
  {
   "cell_type": "code",
   "execution_count": 52,
   "metadata": {
    "collapsed": false
   },
   "outputs": [
    {
     "data": {
      "text/plain": [
       "102-element Array{Array{Float64,1},1}:\n",
       " [10.0,0.0]         \n",
       " [10.0,0.0]         \n",
       " [10.0,-1.0]        \n",
       " [9.9,-1.9]         \n",
       " [9.71,-2.71]       \n",
       " [9.439,-3.439]     \n",
       " [9.0951,-4.0951]   \n",
       " [8.68559,-4.68559] \n",
       " [8.21703,-5.21703] \n",
       " [7.69533,-5.69533] \n",
       " [7.1258,-6.1258]   \n",
       " [6.51322,-6.51322] \n",
       " [5.86189,-6.86189] \n",
       " ⋮                  \n",
       " [-69.0008,-9.99915]\n",
       " [-70.0008,-9.99924]\n",
       " [-71.0007,-9.99931]\n",
       " [-72.0006,-9.99938]\n",
       " [-73.0006,-9.99944]\n",
       " [-74.0005,-9.9995] \n",
       " [-75.0004,-9.99955]\n",
       " [-76.0004,-9.9996] \n",
       " [-77.0004,-9.99964]\n",
       " [-78.0003,-9.99967]\n",
       " [-79.0003,-9.9997] \n",
       " [-80.0003,-9.99973]"
      ]
     },
     "execution_count": 52,
     "metadata": {},
     "output_type": "execute_result"
    }
   ],
   "source": [
    "xs"
   ]
  },
  {
   "cell_type": "code",
   "execution_count": 55,
   "metadata": {
    "collapsed": false
   },
   "outputs": [
    {
     "data": {
      "text/plain": [
       "102-element Array{Float64,1}:\n",
       "  10.0    \n",
       "  10.0    \n",
       "  10.0    \n",
       "   9.9    \n",
       "   9.71   \n",
       "   9.439  \n",
       "   9.0951 \n",
       "   8.68559\n",
       "   8.21703\n",
       "   7.69533\n",
       "   7.1258 \n",
       "   6.51322\n",
       "   5.86189\n",
       "   ⋮      \n",
       " -69.0008 \n",
       " -70.0008 \n",
       " -71.0007 \n",
       " -72.0006 \n",
       " -73.0006 \n",
       " -74.0005 \n",
       " -75.0004 \n",
       " -76.0004 \n",
       " -77.0004 \n",
       " -78.0003 \n",
       " -79.0003 \n",
       " -80.0003 "
      ]
     },
     "execution_count": 55,
     "metadata": {},
     "output_type": "execute_result"
    }
   ],
   "source": [
    "Float64[x[1] for x in xs]"
   ]
  },
  {
   "cell_type": "code",
   "execution_count": 54,
   "metadata": {
    "collapsed": false
   },
   "outputs": [
    {
     "data": {
      "text/plain": [
       "102-element Array{Float64,1}:\n",
       "  10.0    \n",
       "  10.0    \n",
       "  10.0    \n",
       "   9.9    \n",
       "   9.71   \n",
       "   9.439  \n",
       "   9.0951 \n",
       "   8.68559\n",
       "   8.21703\n",
       "   7.69533\n",
       "   7.1258 \n",
       "   6.51322\n",
       "   5.86189\n",
       "   ⋮      \n",
       " -69.0008 \n",
       " -70.0008 \n",
       " -71.0007 \n",
       " -72.0006 \n",
       " -73.0006 \n",
       " -74.0005 \n",
       " -75.0004 \n",
       " -76.0004 \n",
       " -77.0004 \n",
       " -78.0003 \n",
       " -79.0003 \n",
       " -80.0003 "
      ]
     },
     "execution_count": 54,
     "metadata": {},
     "output_type": "execute_result"
    }
   ],
   "source": [
    "map(x->x[1], xs)"
   ]
  },
  {
   "cell_type": "code",
   "execution_count": null,
   "metadata": {
    "collapsed": true
   },
   "outputs": [],
   "source": []
  }
 ],
 "metadata": {
  "kernelspec": {
   "display_name": "Julia 0.3.12-pre",
   "language": "julia",
   "name": "julia-0.3"
  },
  "language_info": {
   "file_extension": ".jl",
   "mimetype": "application/julia",
   "name": "julia",
   "version": "0.3.12"
  }
 },
 "nbformat": 4,
 "nbformat_minor": 0
}
