{
 "cells": [
  {
   "cell_type": "markdown",
   "metadata": {},
   "source": [
    "# Dudas"
   ]
  },
  {
   "cell_type": "markdown",
   "metadata": {},
   "source": [
    "- Al graficar con `PyPlot`, ¿cómo cambiar las escalas?\n",
    "\n"
   ]
  },
  {
   "cell_type": "code",
   "execution_count": 2,
   "metadata": {
    "collapsed": false
   },
   "outputs": [
    {
     "name": "stderr",
     "output_type": "stream",
     "text": [
      "INFO: Cloning cache of Dates from git://github.com/quinnj/Dates.jl.git\n",
      "fatal: unable to access 'https://github.com/quinnj/Dates.jl.git/': Could not resolve host: github.com\n"
     ]
    },
    {
     "ename": "LoadError",
     "evalue": "unlink: no such file or directory (ENOENT)\nwhile loading In[2], in expression starting on line 1",
     "output_type": "error",
     "traceback": [
      "unlink: no such file or directory (ENOENT)\nwhile loading In[2], in expression starting on line 1",
      "",
      " in wait at ./task.jl:284",
      " in wait at ./task.jl:194",
      " in wait at task.jl:48",
      " in sync_end at ./task.jl:311",
      " in add at pkg/entry.jl:319",
      " in add at pkg/entry.jl:71",
      " in anonymous at pkg/dir.jl:28",
      " in cd at ./file.jl:20",
      " in __cd#229__ at ./pkg/dir.jl:28",
      " in add at pkg.jl:20"
     ]
    }
   ],
   "source": [
    "Pkg.add(\"PyPlot\")"
   ]
  },
  {
   "cell_type": "code",
   "execution_count": 1,
   "metadata": {
    "collapsed": false
   },
   "outputs": [
    {
     "ename": "LoadError",
     "evalue": "PyPlot not found\nwhile loading In[1], in expression starting on line 1",
     "output_type": "error",
     "traceback": [
      "PyPlot not found\nwhile loading In[1], in expression starting on line 1",
      "",
      " in require at loading.jl:47"
     ]
    }
   ],
   "source": [
    "using PyPlot"
   ]
  },
  {
   "cell_type": "code",
   "execution_count": null,
   "metadata": {
    "collapsed": true
   },
   "outputs": [],
   "source": [
    "x = rand(10)\n",
    "y = rand(10)\n",
    "\n",
    "plot(x, y)\n",
    "\n",
    "xlim(1, 10)\n",
    "ylim(-5, 5)"
   ]
  }
 ],
 "metadata": {
  "kernelspec": {
   "display_name": "Julia 0.3.11-pre",
   "language": "julia",
   "name": "julia-0.3"
  },
  "language_info": {
   "name": "julia",
   "version": "0.3.12"
  }
 },
 "nbformat": 4,
 "nbformat_minor": 0
}
