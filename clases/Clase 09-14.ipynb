{
 "cells": [
  {
   "cell_type": "markdown",
   "metadata": {},
   "source": [
    "# `map` de nuevo"
   ]
  },
  {
   "cell_type": "markdown",
   "metadata": {},
   "source": [
    "`map` evalúa una función sobre *cada elemento* de un arreglo:"
   ]
  },
  {
   "cell_type": "code",
   "execution_count": 21,
   "metadata": {
    "collapsed": false
   },
   "outputs": [
    {
     "name": "stdout",
     "output_type": "stream",
     "text": [
      "Base.map(f, c...) -> collection\n",
      "\n",
      "   Transform collection \"c\" by applying \"f\" to each element. For\n",
      "   multiple collection arguments, apply \"f\" elementwise.\n",
      "\n",
      "      julia> map((x) -> x * 2, [1, 2, 3])\n",
      "      3-element Array{Int64,1}:\n",
      "       2\n",
      "       4\n",
      "       6\n",
      "\n",
      "      julia> map(+, [1, 2, 3], [10, 20, 30])\n",
      "      3-element Array{Int64,1}:\n",
      "       11\n",
      "       22\n",
      "       33\n"
     ]
    }
   ],
   "source": [
    "?map"
   ]
  },
  {
   "cell_type": "code",
   "execution_count": 22,
   "metadata": {
    "collapsed": false
   },
   "outputs": [
    {
     "data": {
      "text/plain": [
       "10-element Array{Int64,1}:\n",
       "  1\n",
       "  2\n",
       "  3\n",
       "  4\n",
       "  5\n",
       "  6\n",
       "  7\n",
       "  8\n",
       "  9\n",
       " 10"
      ]
     },
     "execution_count": 22,
     "metadata": {},
     "output_type": "execute_result"
    }
   ],
   "source": [
    "f(x) = x^2\n",
    "xx = collect(1:10)"
   ]
  },
  {
   "cell_type": "code",
   "execution_count": 23,
   "metadata": {
    "collapsed": false
   },
   "outputs": [
    {
     "data": {
      "text/plain": [
       "10-element Array{Int64,1}:\n",
       "   1\n",
       "   4\n",
       "   9\n",
       "  16\n",
       "  25\n",
       "  36\n",
       "  49\n",
       "  64\n",
       "  81\n",
       " 100"
      ]
     },
     "execution_count": 23,
     "metadata": {},
     "output_type": "execute_result"
    }
   ],
   "source": [
    "map(f, xx)"
   ]
  },
  {
   "cell_type": "code",
   "execution_count": 26,
   "metadata": {
    "collapsed": false
   },
   "outputs": [
    {
     "data": {
      "text/plain": [
       "10-element Array{Int64,1}:\n",
       "    1\n",
       "    8\n",
       "   27\n",
       "   64\n",
       "  125\n",
       "  216\n",
       "  343\n",
       "  512\n",
       "  729\n",
       " 1000"
      ]
     },
     "execution_count": 26,
     "metadata": {},
     "output_type": "execute_result"
    }
   ],
   "source": [
    "y = map(x -> x^3, xx)"
   ]
  },
  {
   "cell_type": "code",
   "execution_count": 25,
   "metadata": {
    "collapsed": false
   },
   "outputs": [
    {
     "data": {
      "text/plain": [
       "10-element Array{Int64,1}:\n",
       "  1\n",
       "  2\n",
       "  3\n",
       "  4\n",
       "  5\n",
       "  6\n",
       "  7\n",
       "  8\n",
       "  9\n",
       " 10"
      ]
     },
     "execution_count": 25,
     "metadata": {},
     "output_type": "execute_result"
    }
   ],
   "source": [
    "xx"
   ]
  },
  {
   "cell_type": "markdown",
   "metadata": {},
   "source": [
    "# Un poquito de interacción con la terminal"
   ]
  },
  {
   "cell_type": "markdown",
   "metadata": {},
   "source": [
    "Voy a usar `;` que manda comandos al shell / terminal. También se puede usar una terminal directamente."
   ]
  },
  {
   "cell_type": "code",
   "execution_count": 1,
   "metadata": {
    "collapsed": false
   },
   "outputs": [
    {
     "name": "stdout",
     "output_type": "stream",
     "text": [
      "Clase 08-17.ipynb\n",
      "Clase 08-19.ipynb\n",
      "Clase 08-31.ipynb\n",
      "Clase 09-07.ipynb\n",
      "Clase 09-09.ipynb\n",
      "Clase 09-14.ipynb\n",
      "Clase 24-08.ipynb\n",
      "Clase 26-08.ipynb\n"
     ]
    }
   ],
   "source": [
    ";ls"
   ]
  },
  {
   "cell_type": "code",
   "execution_count": 2,
   "metadata": {
    "collapsed": false
   },
   "outputs": [
    {
     "data": {
      "text/plain": [
       "pwd (generic function with 1 method)"
      ]
     },
     "execution_count": 2,
     "metadata": {},
     "output_type": "execute_result"
    }
   ],
   "source": [
    "pwd"
   ]
  },
  {
   "cell_type": "code",
   "execution_count": 3,
   "metadata": {
    "collapsed": false
   },
   "outputs": [
    {
     "name": "stderr",
     "output_type": "stream",
     "text": [
      "INFO: Loading help data...\n"
     ]
    },
    {
     "name": "stdout",
     "output_type": "stream",
     "text": [
      "Base.pwd() -> String\n",
      "\n",
      "   Get the current working directory.\n"
     ]
    }
   ],
   "source": [
    "?pwd"
   ]
  },
  {
   "cell_type": "code",
   "execution_count": 5,
   "metadata": {
    "collapsed": false
   },
   "outputs": [
    {
     "data": {
      "text/plain": [
       "\"/Users/dpsanders/Dropbox/docencia/fisica_computacional/2016-1/clases\""
      ]
     },
     "execution_count": 5,
     "metadata": {},
     "output_type": "execute_result"
    }
   ],
   "source": [
    "pwd()"
   ]
  },
  {
   "cell_type": "code",
   "execution_count": 6,
   "metadata": {
    "collapsed": false
   },
   "outputs": [
    {
     "data": {
      "text/plain": [
       "ASCIIString (constructor with 2 methods)"
      ]
     },
     "execution_count": 6,
     "metadata": {},
     "output_type": "execute_result"
    }
   ],
   "source": [
    "typeof(ans)"
   ]
  },
  {
   "cell_type": "code",
   "execution_count": 7,
   "metadata": {
    "collapsed": false
   },
   "outputs": [
    {
     "ename": "LoadError",
     "evalue": "ls not defined\nwhile loading In[7], in expression starting on line 1",
     "output_type": "error",
     "traceback": [
      "ls not defined\nwhile loading In[7], in expression starting on line 1",
      ""
     ]
    }
   ],
   "source": [
    "ls()"
   ]
  },
  {
   "cell_type": "code",
   "execution_count": 9,
   "metadata": {
    "collapsed": false
   },
   "outputs": [
    {
     "name": "stdout",
     "output_type": "stream",
     "text": [
      "/Users/dpsanders/Dropbox/docencia/fisica_computacional/2016-1/clases\n"
     ]
    }
   ],
   "source": [
    ";pwd"
   ]
  },
  {
   "cell_type": "markdown",
   "metadata": {},
   "source": [
    "Si quisiéramos que devolviera la respuesta en una variable:"
   ]
  },
  {
   "cell_type": "code",
   "execution_count": 11,
   "metadata": {
    "collapsed": false
   },
   "outputs": [
    {
     "data": {
      "text/plain": [
       "`pwd`"
      ]
     },
     "execution_count": 11,
     "metadata": {},
     "output_type": "execute_result"
    }
   ],
   "source": [
    "comando = `pwd`"
   ]
  },
  {
   "cell_type": "code",
   "execution_count": 12,
   "metadata": {
    "collapsed": false
   },
   "outputs": [
    {
     "data": {
      "text/plain": [
       "Cmd (constructor with 1 method)"
      ]
     },
     "execution_count": 12,
     "metadata": {},
     "output_type": "execute_result"
    }
   ],
   "source": [
    "typeof(ans)"
   ]
  },
  {
   "cell_type": "code",
   "execution_count": 13,
   "metadata": {
    "collapsed": false
   },
   "outputs": [
    {
     "name": "stdout",
     "output_type": "stream",
     "text": [
      "/Users/dpsanders/Dropbox/docencia/fisica_computacional/2016-1/clases\n"
     ]
    }
   ],
   "source": [
    "run(comando)"
   ]
  },
  {
   "cell_type": "code",
   "execution_count": 15,
   "metadata": {
    "collapsed": false
   },
   "outputs": [
    {
     "name": "stdout",
     "output_type": "stream",
     "text": [
      "/Users/dpsanders/Dropbox/docencia/fisica_computacional/2016-1/clases\n"
     ]
    }
   ],
   "source": [
    "a = run(comando)"
   ]
  },
  {
   "cell_type": "code",
   "execution_count": 19,
   "metadata": {
    "collapsed": false
   },
   "outputs": [
    {
     "data": {
      "text/plain": [
       "\"/Users/dpsanders/Dropbox/docencia/fisica_computacional/2016-1/clases\\n\""
      ]
     },
     "execution_count": 19,
     "metadata": {},
     "output_type": "execute_result"
    }
   ],
   "source": [
    "a = readall(comando)  # corre el comando *y* devuelve la salida del comando"
   ]
  },
  {
   "cell_type": "code",
   "execution_count": 20,
   "metadata": {
    "collapsed": false
   },
   "outputs": [
    {
     "data": {
      "text/plain": [
       "\"/Users/dpsanders/Dropbox/docencia/fisica_computacional/2016-1/clases\\n\""
      ]
     },
     "execution_count": 20,
     "metadata": {},
     "output_type": "execute_result"
    }
   ],
   "source": [
    "a"
   ]
  },
  {
   "cell_type": "code",
   "execution_count": 27,
   "metadata": {
    "collapsed": false
   },
   "outputs": [
    {
     "name": "stdout",
     "output_type": "stream",
     "text": [
      "Clase 08-17.ipynb\n",
      "Clase 08-19.ipynb\n",
      "Clase 08-31.ipynb\n",
      "Clase 09-07.ipynb\n",
      "Clase 09-09.ipynb\n",
      "Clase 09-14.ipynb\n",
      "Clase 24-08.ipynb\n",
      "Clase 26-08.ipynb\n"
     ]
    }
   ],
   "source": [
    ";ls"
   ]
  },
  {
   "cell_type": "code",
   "execution_count": 28,
   "metadata": {
    "collapsed": false
   },
   "outputs": [
    {
     "data": {
      "text/plain": [
       "8"
      ]
     },
     "execution_count": 28,
     "metadata": {},
     "output_type": "execute_result"
    }
   ],
   "source": [
    "mes = 8"
   ]
  },
  {
   "cell_type": "markdown",
   "metadata": {},
   "source": [
    "Cómo puedo encontrar con `ls` sólo los notebooks de este mes"
   ]
  },
  {
   "cell_type": "code",
   "execution_count": 29,
   "metadata": {
    "collapsed": false
   },
   "outputs": [
    {
     "name": "stdout",
     "output_type": "stream",
     "text": [
      "Clase 08-17.ipynb\n",
      "Clase 08-19.ipynb\n",
      "Clase 08-31.ipynb\n",
      "Clase 24-08.ipynb\n",
      "Clase 26-08.ipynb\n"
     ]
    }
   ],
   "source": [
    ";ls *08* "
   ]
  },
  {
   "cell_type": "markdown",
   "metadata": {},
   "source": [
    "# Un poco de `git` "
   ]
  },
  {
   "cell_type": "code",
   "execution_count": 37,
   "metadata": {
    "collapsed": false
   },
   "outputs": [
    {
     "name": "stdout",
     "output_type": "stream",
     "text": [
      "commit 0937a0ea21ec2d2ab019f7628e64b2d0067c582e\n",
      "Author: David Sanders <dpsanders@gmail.com>\n",
      "Date:   Mon Sep 14 12:25:24 2015 -0500\n",
      "\n",
      "    Agregué notebook 11, integración numérica\n",
      "\n",
      "commit bb2d6b4015e98ee26c20b991832d8c25ecb9fee8\n",
      "Author: David Sanders <dpsanders@gmail.com>\n",
      "Date:   Wed Sep 9 15:38:35 2015 -0500\n",
      "\n",
      "    Quité acentos de nombre de notebook 10\n",
      "\n",
      "commit 40c8b5b1885e02ea61acc24c072be6af65a96a09\n",
      "Author: Rodrigo Leal Cervantes <rodrigolealc@ciencias.unam.mx>\n",
      "Date:   Wed Sep 9 15:25:01 2015 -0500\n",
      "\n",
      "    Corregí errores de dedo\n",
      "\n",
      "commit fa713dac8848a1efa01afd37d93ed126294233d4\n",
      "Author: David Sanders <dpsanders@gmail.com>\n",
      "Date:   Wed Sep 9 15:06:07 2015 -0500\n",
      "\n",
      "    Modificaciones a notebook 10\n",
      "\n",
      "commit 76b6013c5474469ca149336bdbb3619a386d19d8\n",
      "Author: David Sanders <dpsanders@gmail.com>\n",
      "Date:   Wed Sep 9 13:19:34 2015 -0500\n",
      "\n",
      "    Agregué notebook 10, diferenciación numérica\n",
      "\n",
      "commit 24703044ecec646cc6f026463c718a440be6fe2b\n",
      "Author: David Sanders <dpsanders@gmail.com>\n",
      "Date:   Wed Sep 9 12:43:22 2015 -0500\n",
      "\n",
      "    Moved notebooks 01 a 09 a nuevo directorio I. Sintaxis de Julia\n",
      "\n",
      "commit 3eeae3c25682495da2981ddf3ce705f3ce365a8b\n",
      "Author: Rodrigo Leal Cervantes <rodrigolealc@ciencias.unam.mx>\n",
      "Date:   Mon Sep 7 22:30:50 2015 -0500\n",
      "\n",
      "    Agregué clase 09-07\n",
      "\n",
      "commit f42561a9a9fb3c5f5c400a48c3c8dc8fd34a1f9a\n",
      "Author: David Sanders <dpsanders@gmail.com>\n",
      "Date:   Mon Sep 7 17:22:19 2015 -0500\n",
      "\n",
      "    Agregué algunas clases\n",
      "\n",
      "commit 127331e0b641de70435fac3c15655b4d3b13d8e9\n",
      "Author: David Sanders <dpsanders@gmail.com>\n",
      "Date:   Mon Sep 7 17:16:46 2015 -0500\n",
      "\n",
      "    Explicité explicación en notebook 09\n",
      "\n",
      "commit 1ab9810010b772da787fe5ac0b7b9d1758cf2ed4\n",
      "Author: David Sanders <dpsanders@gmail.com>\n",
      "Date:   Mon Sep 7 16:16:30 2015 -0500\n",
      "\n",
      "    Agregué tarea 4 (rehacer examen)\n",
      "\n",
      "commit 02b9ae864a37c432deb17fe9dfe82b5a6bd8d395\n",
      "Author: David Sanders <dpsanders@gmail.com>\n",
      "Date:   Mon Sep 7 16:00:04 2015 -0500\n",
      "\n",
      "    Explicité cuándo se usa Pkg.add y using\n",
      "\n",
      "commit 8f956b5e2475d227469acb02b9e9ee3183a5765c\n",
      "Author: David Sanders <dpsanders@gmail.com>\n",
      "Date:   Mon Sep 7 15:21:28 2015 -0500\n",
      "\n",
      "    Modifiqué el notebook 8 para eliminar problema con redefinir f\n",
      "\n",
      "commit e1b3f0089ac677d8cc72e2a098d4032d7f2b6eca\n",
      "Author: David Sanders <dpsanders@gmail.com>\n",
      "Date:   Mon Sep 7 14:56:33 2015 -0500\n",
      "\n",
      "    Agregué más detalles analíticos al notebook 9\n",
      "\n",
      "commit 45af9ecf6b81de43861f08c9e9f712ac10aa912a\n",
      "Merge: 35de508 944f838\n",
      "Author: David Sanders <dpsanders@gmail.com>\n",
      "Date:   Mon Sep 7 14:47:36 2015 -0500\n",
      "\n",
      "    Merge branch 'master' of github.com:dpsanders/fisica_computacional\n",
      "\n",
      "commit 35de508b5158e2fe619e64f57b112dd2385cf1d8\n",
      "Author: David Sanders <dpsanders@gmail.com>\n",
      "Date:   Mon Sep 7 14:47:26 2015 -0500\n",
      "\n",
      "    Agregué notebook 9, más iteración\n",
      "\n",
      "commit 944f83804703fe940e015feb4cab1fce4cda940f\n",
      "Author: bruno villasenor <bvillasen@gmail.com>\n",
      "Date:   Wed Sep 2 20:29:39 2015 -0500\n",
      "\n",
      "    Delete ligaExaamen.txt\n",
      "\n",
      "commit c9f544adcba74278f0c38e7cd7184ffaeaf3bf60\n",
      "Author: bruno villasenor <bvillasen@gmail.com>\n",
      "Date:   Wed Sep 2 15:00:40 2015 -0500\n",
      "\n",
      "    Create ligaExaamen.txt\n",
      "\n",
      "commit 192b9dbc6b7366fa233763e43a5c9ee5e3b36e52\n",
      "Author: David Sanders <dpsanders@gmail.com>\n",
      "Date:   Mon Aug 31 14:50:19 2015 -0500\n",
      "\n",
      "    Agregué notebooks 6 a 8: iteración, matrices, interactividad\n",
      "\n",
      "commit 42a43cdcbd1070664c5f69450d0387bf97970ada\n",
      "Author: David Sanders <dpsanders@gmail.com>\n",
      "Date:   Mon Aug 31 14:39:06 2015 -0500\n",
      "\n",
      "    Modificaciones de codigo_legible\n",
      "\n",
      "commit de3a07edd292cde067d815f8eeed0ebe5873290a\n",
      "Merge: 3d69916 7d319fe\n",
      "Author: bruno villasenor <bvillasen@gmail.com>\n",
      "Date:   Tue Aug 25 19:09:25 2015 -0500\n",
      "\n",
      "    Merge pull request #5 from rodrigolece/master\n",
      "    \n",
      "    Notas para escribir código legible\n",
      "\n",
      "commit 7d319fe3ed356cb92f37eb93e861dc1e3643af6c\n",
      "Author: Rodrigo Leal Cervantes <rodrigolealc@ciencias.unam.mx>\n",
      "Date:   Tue Aug 25 11:25:09 2015 -0500\n",
      "\n",
      "    Notas para hacer código legible\n",
      "\n",
      "commit 3d69916e1ffaacaf7cfc94d158492444161bd02e\n",
      "Merge: 0d4aeb7 db1974c\n",
      "Author: bruno villasenor <bvillasen@gmail.com>\n",
      "Date:   Tue Aug 25 00:19:41 2015 -0500\n",
      "\n",
      "    Merge pull request #4 from rodrigolece/master\n",
      "    \n",
      "    Agregué correo 2do ayudante, y notas cómo debuggear\n",
      "\n",
      "commit db1974c42fc50ac028e27820073c0a9c315d7111\n",
      "Author: Rodrigo Leal Cervantes <rodrigolealc@ciencias.unam.mx>\n",
      "Date:   Mon Aug 24 23:34:39 2015 -0500\n",
      "\n",
      "    Notas cómo debuggear\n",
      "\n",
      "commit b0493244949174f82170f33c01d1b2d75b3ebf18\n",
      "Author: Rodrigo Leal Cervantes <rodrigolealc@ciencias.unam.mx>\n",
      "Date:   Mon Aug 24 19:11:02 2015 -0500\n",
      "\n",
      "    Agregué correo Rodrigo Leal\n",
      "\n",
      "commit 0d4aeb7c72e431ba91cfb8ebe673f75db158e5ea\n",
      "Author: David P. Sanders <dpsanders@gmail.com>\n",
      "Date:   Mon Aug 24 16:52:04 2015 -0500\n",
      "\n",
      "    Agregué tarea 3\n",
      "\n",
      "commit cc2d860bf771672aa31ef5babcab03e8c7e543dc\n",
      "Merge: 47d3f82 c232d96\n",
      "Author: David P. Sanders <dpsanders@gmail.com>\n",
      "Date:   Mon Aug 24 15:34:54 2015 -0500\n",
      "\n",
      "    Merge branch 'master' of github.com:dpsanders/fisica_computacional\n",
      "\n",
      "commit 47d3f82553072a2acb3618211b80e170d85602a3\n",
      "Author: David P. Sanders <dpsanders@gmail.com>\n",
      "Date:   Mon Aug 24 15:30:19 2015 -0500\n",
      "\n",
      "    Agregué notebooks 4 y 5\n",
      "\n",
      "commit c232d968adae4c48e4671ed5a813746c5762c816\n",
      "Author: bruno villasenor <bvillasen@gmail.com>\n",
      "Date:   Thu Aug 20 00:00:23 2015 -0500\n",
      "\n",
      "    Update formato_tareas.md\n",
      "\n",
      "commit be1e8a989306a1a9776d832e22c3581eef6ce1dc\n",
      "Author: bruno villasenor <bvillasen@gmail.com>\n",
      "Date:   Wed Aug 19 23:58:50 2015 -0500\n",
      "\n",
      "    Update formato_tareas.md\n",
      "\n",
      "commit 0d0298a18625fe076e43a10570d49304b34fe61c\n",
      "Merge: c3d71ac a01851f\n",
      "Author: David P. Sanders <dpsanders@gmail.com>\n",
      "Date:   Wed Aug 19 17:03:08 2015 -0500\n",
      "\n",
      "    Merge pull request #3 from gitter-badger/gitter-badge-1\n",
      "    \n",
      "    Add a Gitter chat badge to README.md\n",
      "\n",
      "commit a01851f3eee1f6486a178690940be2f3526536f2\n",
      "Author: The Gitter Badger <badger@gitter.im>\n",
      "Date:   Wed Aug 19 22:02:43 2015 +0000\n",
      "\n",
      "    Added Gitter badge\n",
      "\n",
      "commit c3d71ace7bb7d0c70f47369cf346087a5a6b0579\n",
      "Author: David P. Sanders <dpsanders@gmail.com>\n",
      "Date:   Wed Aug 19 16:54:54 2015 -0500\n",
      "\n",
      "    Agregué tarea 02, acerca del curso y notebooks de primeras 2 clases\n",
      "\n",
      "commit d29bef6c92704601ae8b93f56f47d4f3a559860c\n",
      "Author: David P. Sanders <dpsanders@gmail.com>\n",
      "Date:   Wed Aug 19 14:56:50 2015 -0500\n",
      "\n",
      "    Added notebook 03: repeticion y graficacion\n",
      "\n",
      "commit 266daeb9f5e277b2aaa65c1d34014416ff4eb120\n",
      "Author: bruno villasenor <bvillasen@gmail.com>\n",
      "Date:   Tue Aug 18 19:00:40 2015 -0500\n",
      "\n",
      "    como instalar Julia y otras cosas padres\n",
      "\n",
      "commit 484bd28cae737f9cc652b501b2966eb7cbd1b2ad\n",
      "Author: bruno villasenor <bvillasen@gmail.com>\n",
      "Date:   Tue Aug 18 18:58:14 2015 -0500\n",
      "\n",
      "    como mandar las tareas del curso\n",
      "\n",
      "commit 8eb8a89e5ef18f50c75803f848651472e6954e30\n",
      "Author: bruno villasenor <bvillasen@gmail.com>\n",
      "Date:   Tue Aug 18 18:56:45 2015 -0500\n",
      "\n",
      "    Create formato_tareas.md\n",
      "\n",
      "commit fa67751cfb8bf7749d49b1cef679d9eaae0a5c7a\n",
      "Author: bruno villasenor <bvillasen@gmail.com>\n",
      "Date:   Mon Aug 17 11:51:08 2015 -0500\n",
      "\n",
      "    Update instalacion.md\n",
      "\n",
      "commit 6bd0e32d0aa4ba17fcc0e15d44b0b0b33ddac415\n",
      "Author: bruno villasenor <bvillasen@gmail.com>\n",
      "Date:   Mon Aug 17 11:49:06 2015 -0500\n",
      "\n",
      "    Update instalacion.md\n",
      "\n",
      "commit a37dbb329deab6fb310bdaf0f9dafc3c75ce6bf0\n",
      "Author: bruno villasenor <bvillasen@gmail.com>\n",
      "Date:   Sun Aug 16 13:25:58 2015 -0500\n",
      "\n",
      "    Create instalacion.md\n",
      "\n",
      "commit d46b2a28770dbb14b6b52ee61a724111f3f04189\n",
      "Author: David P. Sanders <dpsanders@gmail.com>\n",
      "Date:   Wed Aug 12 23:49:37 2015 -0500\n",
      "\n",
      "    Agregué README\n",
      "\n",
      "commit 49ff7b4b382e3fa388fe22441b6c0bcb2c440699\n",
      "Author: David P. Sanders <dpsanders@gmail.com>\n",
      "Date:   Wed Aug 12 23:47:40 2015 -0500\n",
      "\n",
      "    Primer commit: installing.md y notas 1 y 2\n"
     ]
    }
   ],
   "source": [
    ";git log"
   ]
  },
  {
   "cell_type": "code",
   "execution_count": 38,
   "metadata": {
    "collapsed": false
   },
   "outputs": [
    {
     "name": "stdout",
     "output_type": "stream",
     "text": [
      "diff --git a/notas/10. Diferenciacion numerica.ipynb b/notas/10. Diferenciacion numerica.ipynb\n",
      "deleted file mode 100644\n",
      "index bad4b54..0000000\n",
      "--- a/notas/10. Diferenciacion numerica.ipynb\t\n",
      "+++ /dev/null\n",
      "@@ -1,119 +0,0 @@\n",
      "-{\n",
      "- \"cells\": [\n",
      "-  {\n",
      "-   \"cell_type\": \"markdown\",\n",
      "-   \"metadata\": {},\n",
      "-   \"source\": [\n",
      "-    \"# Diferenciación numérica\"\n",
      "-   ]\n",
      "-  },\n",
      "-  {\n",
      "-   \"cell_type\": \"markdown\",\n",
      "-   \"metadata\": {},\n",
      "-   \"source\": [\n",
      "-    \"Como ya hemos visto con el método de Newton, a menudo es necesario calcular la derivada de una función. Próximamente también querremos aproximar la derivada de una función definida solamente en ciertos puntos, e.g. de una malla.\\n\",\n",
      "-    \"\\n\",\n",
      "-    \"Por lo tanto, un tema fundamental en la física computacional es el calcular derivadas numéricamente. En este notebook, veremos una manera clásica de calcular derivadas con diferencias finitas. Sin embargo, ¡**el hecho de ser clásico no necesariamente implica que sea la manera recomendada de hacerlo**! Posteriormente veremos un método *mucho mejor* para calcular derivadas de funciones dadas como funciones de Julia.\"\n",
      "-   ]\n",
      "-  },\n",
      "-  {\n",
      "-   \"cell_type\": \"markdown\",\n",
      "-   \"metadata\": {},\n",
      "-   \"source\": [\n",
      "-    \"[1]  Piensa en una función $f \\\\colon \\\\mathbb{R} \\\\to \\\\mathbb{R}$. \\n\",\n",
      "-    \"\\n\",\n",
      "-    \"(i) ¿Cuál es la definición matemática de la derivada $f'(a)$ de $f$ en el punto $a \\\\in \\\\mathbb{R}$, en términos de la distancia $h$ desde $a$?\\n\",\n",
      "-    \"\\n\",\n",
      "-    \"(ii) ¿Qué parte de esta definición no se puede llevar a cabo en la computadora? ¿Qué solución se te ocurre? Esto se llama una *diferencia dividida* (o *diferencia finita*), y se usa la notación $f[x, x+h]$.\\n\",\n",
      "-    \"\\n\",\n",
      "-    \"(iii) Escribe una función que calcula la derivada de una función $f$ en un punto $a$, con un $h$ dado.\\n\",\n",
      "-    \"\\n\",\n",
      "-    \"(iv) Toma una función sencilla y fija $a$. Calcula $f[a, a+h]$ para distintos valores de $h$ y grafícalo en función de $h$. ¿Qué observas? ¿Qué implica con respecto al uso de esta fórmula? ¿Qué explicación puedes dar?\\n\",\n",
      "-    \"\\n\",\n",
      "-    \"(v) ¿Ayuda si utilizas números de más alta precisión (`big`)?\"\n",
      "-   ]\n",
      "-  },\n",
      "-  {\n",
      "-   \"cell_type\": \"markdown\",\n",
      "-   \"metadata\": {},\n",
      "-   \"source\": [\n",
      "-    \"[2] Vemos que para un cierto rango de $h$, parece que hay una convergencia. ¿Cómo puedes calcular la *tasa de convergencia* gráficamente / numéricamente? Pista: Julia tiene una función `linreg` para ajustar una línea recta a datos.\"\n",
      "-   ]\n",
      "-  },\n",
      "-  {\n",
      "-   \"cell_type\": \"markdown\",\n",
      "-   \"metadata\": {},\n",
      "-   \"source\": [\n",
      "-    \"[3] Para entender esto analíticamente, hay que pensar en cómo se ve la función cerca del punto $a$. \\n\",\n",
      "-    \"\\n\",\n",
      "-    \"(i) Suponiendo que la función $f$ es suave, ¿qué técnica puedes utilizar para esto? Pista: considera $f(a+h)$. Así, encuentra el tamaño del \\\"error\\\" (en términos de potencias de $h$) que se comete cuando usas la aproximación de la pregunta [1]. \\n\",\n",
      "-    \"\\n\",\n",
      "-    \"(ii) ¿Coincide con tu resultado de la pregunta [2]?\"\n",
      "-   ]\n",
      "-  },\n",
      "-  {\n",
      "-   \"cell_type\": \"markdown\",\n",
      "-   \"metadata\": {},\n",
      "-   \"source\": [\n",
      "-    \"[4] Pensando en $f(a+h)$ y $f(a-h)$, encuentra una *mejor* aproximación de la derivada, y su error. Comprúebalo gráficamente / numéricamente. \\n\",\n",
      "-    \"\\n\",\n",
      "-    \"¿Cómo se podria encontrar una aproximación aún mejor?\"\n",
      "-   ]\n",
      "-  },\n",
      "-  {\n",
      "-   \"cell_type\": \"markdown\",\n",
      "-   \"metadata\": {},\n",
      "-   \"source\": [\n",
      "-    \"[5] Toma una función $f$ y *muestréala* (\\\"sample\\\") en una malla fina. \\n\",\n",
      "-    \"\\n\",\n",
      "-    \"(i) Calcula dos aproximaciones a la función $f'$ en la malla, usando los dos métodos. ¿Qué puedes hacer en los bordes de la malla?\\n\",\n",
      "-    \"\\n\",\n",
      "-    \"(ii) Compáralas con la derivada verdadera en estos puntos.\"\n",
      "-   ]\n",
      "-  },\n",
      "-  {\n",
      "-   \"cell_type\": \"markdown\",\n",
      "-   \"metadata\": {},\n",
      "-   \"source\": [\n",
      "-    \"[6] Utiliza una idea parecida para calcular la segunda derivada $f''(a)$. Encuentra el error analíticamente y numéricamente.\"\n",
      "-   ]\n",
      "-  },\n",
      "-  {\n",
      "-   \"cell_type\": \"markdown\",\n",
      "-   \"metadata\": {},\n",
      "-   \"source\": [\n",
      "-    \"[7] ¿Cómo se pueden extender estas ideas para calcular derivadas de funciones de más variables? \\n\",\n",
      "-    \"\\n\",\n",
      "-    \"(i) Empieza con el caso de una función $f: \\\\mathbb{R}^2 \\\\to \\\\mathbb{R}$.\\n\",\n",
      "-    \"\\n\",\n",
      "-    \"(ii) Escribe una función que calcula el Jacobiano de una función $f: \\\\mathbb{R}^2 \\\\to \\\\mathbb{R}^2$.\\n\",\n",
      "-    \"\\n\",\n",
      "-    \"**[Reto] Extiende eso a una función cualquiera de muchas variables, $f: \\\\mathbb{R}^m \\\\to \\\\mathbb{R}^n$. Puedes pasar $m$ y $n$ como argumentos a la función. \"\n",
      "-   ]\n",
      "-  },\n",
      "-  {\n",
      "-   \"cell_type\": \"code\",\n",
      "-   \"execution_count\": null,\n",
      "-   \"metadata\": {\n",
      "-    \"collapsed\": true\n",
      "-   },\n",
      "-   \"outputs\": [],\n",
      "-   \"source\": []\n",
      "-  }\n",
      "- ],\n",
      "- \"metadata\": {\n",
      "-  \"kernelspec\": {\n",
      "-   \"display_name\": \"Julia 0.3.11-pre\",\n",
      "-   \"language\": \"julia\",\n",
      "-   \"name\": \"julia-0.3\"\n",
      "-  },\n",
      "-  \"language_info\": {\n",
      "-   \"file_extension\": \".jl\",\n",
      "-   \"mimetype\": \"application/julia\",\n",
      "-   \"name\": \"julia\",\n",
      "-   \"version\": \"0.3.11\"\n",
      "-  }\n",
      "- },\n",
      "- \"nbformat\": 4,\n",
      "- \"nbformat_minor\": 0\n",
      "-}\n",
      "diff --git \"a/notas/10. Diferenciaci\\303\\263n num\\303\\251rica.ipynb\" \"b/notas/10. Diferenciaci\\303\\263n num\\303\\251rica.ipynb\"\n",
      "new file mode 100644\n",
      "index 0000000..bad4b54\n",
      "--- /dev/null\n",
      "+++ \"b/notas/10. Diferenciaci\\303\\263n num\\303\\251rica.ipynb\"\t\n",
      "@@ -0,0 +1,119 @@\n",
      "+{\n",
      "+ \"cells\": [\n",
      "+  {\n",
      "+   \"cell_type\": \"markdown\",\n",
      "+   \"metadata\": {},\n",
      "+   \"source\": [\n",
      "+    \"# Diferenciación numérica\"\n",
      "+   ]\n",
      "+  },\n",
      "+  {\n",
      "+   \"cell_type\": \"markdown\",\n",
      "+   \"metadata\": {},\n",
      "+   \"source\": [\n",
      "+    \"Como ya hemos visto con el método de Newton, a menudo es necesario calcular la derivada de una función. Próximamente también querremos aproximar la derivada de una función definida solamente en ciertos puntos, e.g. de una malla.\\n\",\n",
      "+    \"\\n\",\n",
      "+    \"Por lo tanto, un tema fundamental en la física computacional es el calcular derivadas numéricamente. En este notebook, veremos una manera clásica de calcular derivadas con diferencias finitas. Sin embargo, ¡**el hecho de ser clásico no necesariamente implica que sea la manera recomendada de hacerlo**! Posteriormente veremos un método *mucho mejor* para calcular derivadas de funciones dadas como funciones de Julia.\"\n",
      "+   ]\n",
      "+  },\n",
      "+  {\n",
      "+   \"cell_type\": \"markdown\",\n",
      "+   \"metadata\": {},\n",
      "+   \"source\": [\n",
      "+    \"[1]  Piensa en una función $f \\\\colon \\\\mathbb{R} \\\\to \\\\mathbb{R}$. \\n\",\n",
      "+    \"\\n\",\n",
      "+    \"(i) ¿Cuál es la definición matemática de la derivada $f'(a)$ de $f$ en el punto $a \\\\in \\\\mathbb{R}$, en términos de la distancia $h$ desde $a$?\\n\",\n",
      "+    \"\\n\",\n",
      "+    \"(ii) ¿Qué parte de esta definición no se puede llevar a cabo en la computadora? ¿Qué solución se te ocurre? Esto se llama una *diferencia dividida* (o *diferencia finita*), y se usa la notación $f[x, x+h]$.\\n\",\n",
      "+    \"\\n\",\n",
      "+    \"(iii) Escribe una función que calcula la derivada de una función $f$ en un punto $a$, con un $h$ dado.\\n\",\n",
      "+    \"\\n\",\n",
      "+    \"(iv) Toma una función sencilla y fija $a$. Calcula $f[a, a+h]$ para distintos valores de $h$ y grafícalo en función de $h$. ¿Qué observas? ¿Qué implica con respecto al uso de esta fórmula? ¿Qué explicación puedes dar?\\n\",\n",
      "+    \"\\n\",\n",
      "+    \"(v) ¿Ayuda si utilizas números de más alta precisión (`big`)?\"\n",
      "+   ]\n",
      "+  },\n",
      "+  {\n",
      "+   \"cell_type\": \"markdown\",\n",
      "+   \"metadata\": {},\n",
      "+   \"source\": [\n",
      "+    \"[2] Vemos que para un cierto rango de $h$, parece que hay una convergencia. ¿Cómo puedes calcular la *tasa de convergencia* gráficamente / numéricamente? Pista: Julia tiene una función `linreg` para ajustar una línea recta a datos.\"\n",
      "+   ]\n",
      "+  },\n",
      "+  {\n",
      "+   \"cell_type\": \"markdown\",\n",
      "+   \"metadata\": {},\n",
      "+   \"source\": [\n",
      "+    \"[3] Para entender esto analíticamente, hay que pensar en cómo se ve la función cerca del punto $a$. \\n\",\n",
      "+    \"\\n\",\n",
      "+    \"(i) Suponiendo que la función $f$ es suave, ¿qué técnica puedes utilizar para esto? Pista: considera $f(a+h)$. Así, encuentra el tamaño del \\\"error\\\" (en términos de potencias de $h$) que se comete cuando usas la aproximación de la pregunta [1]. \\n\",\n",
      "+    \"\\n\",\n",
      "+    \"(ii) ¿Coincide con tu resultado de la pregunta [2]?\"\n",
      "+   ]\n",
      "+  },\n",
      "+  {\n",
      "+   \"cell_type\": \"markdown\",\n",
      "+   \"metadata\": {},\n",
      "+   \"source\": [\n",
      "+    \"[4] Pensando en $f(a+h)$ y $f(a-h)$, encuentra una *mejor* aproximación de la derivada, y su error. Comprúebalo gráficamente / numéricamente. \\n\",\n",
      "+    \"\\n\",\n",
      "+    \"¿Cómo se podria encontrar una aproximación aún mejor?\"\n",
      "+   ]\n",
      "+  },\n",
      "+  {\n",
      "+   \"cell_type\": \"markdown\",\n",
      "+   \"metadata\": {},\n",
      "+   \"source\": [\n",
      "+    \"[5] Toma una función $f$ y *muestréala* (\\\"sample\\\") en una malla fina. \\n\",\n",
      "+    \"\\n\",\n",
      "+    \"(i) Calcula dos aproximaciones a la función $f'$ en la malla, usando los dos métodos. ¿Qué puedes hacer en los bordes de la malla?\\n\",\n",
      "+    \"\\n\",\n",
      "+    \"(ii) Compáralas con la derivada verdadera en estos puntos.\"\n",
      "+   ]\n",
      "+  },\n",
      "+  {\n",
      "+   \"cell_type\": \"markdown\",\n",
      "+   \"metadata\": {},\n",
      "+   \"source\": [\n",
      "+    \"[6] Utiliza una idea parecida para calcular la segunda derivada $f''(a)$. Encuentra el error analíticamente y numéricamente.\"\n",
      "+   ]\n",
      "+  },\n",
      "+  {\n",
      "+   \"cell_type\": \"markdown\",\n",
      "+   \"metadata\": {},\n",
      "+   \"source\": [\n",
      "+    \"[7] ¿Cómo se pueden extender estas ideas para calcular derivadas de funciones de más variables? \\n\",\n",
      "+    \"\\n\",\n",
      "+    \"(i) Empieza con el caso de una función $f: \\\\mathbb{R}^2 \\\\to \\\\mathbb{R}$.\\n\",\n",
      "+    \"\\n\",\n",
      "+    \"(ii) Escribe una función que calcula el Jacobiano de una función $f: \\\\mathbb{R}^2 \\\\to \\\\mathbb{R}^2$.\\n\",\n",
      "+    \"\\n\",\n",
      "+    \"**[Reto] Extiende eso a una función cualquiera de muchas variables, $f: \\\\mathbb{R}^m \\\\to \\\\mathbb{R}^n$. Puedes pasar $m$ y $n$ como argumentos a la función. \"\n",
      "+   ]\n",
      "+  },\n",
      "+  {\n",
      "+   \"cell_type\": \"code\",\n",
      "+   \"execution_count\": null,\n",
      "+   \"metadata\": {\n",
      "+    \"collapsed\": true\n",
      "+   },\n",
      "+   \"outputs\": [],\n",
      "+   \"source\": []\n",
      "+  }\n",
      "+ ],\n",
      "+ \"metadata\": {\n",
      "+  \"kernelspec\": {\n",
      "+   \"display_name\": \"Julia 0.3.11-pre\",\n",
      "+   \"language\": \"julia\",\n",
      "+   \"name\": \"julia-0.3\"\n",
      "+  },\n",
      "+  \"language_info\": {\n",
      "+   \"file_extension\": \".jl\",\n",
      "+   \"mimetype\": \"application/julia\",\n",
      "+   \"name\": \"julia\",\n",
      "+   \"version\": \"0.3.11\"\n",
      "+  }\n",
      "+ },\n",
      "+ \"nbformat\": 4,\n",
      "+ \"nbformat_minor\": 0\n",
      "+}\n"
     ]
    }
   ],
   "source": [
    ";git diff bb2d6b401 40c8b5b1"
   ]
  },
  {
   "cell_type": "code",
   "execution_count": 39,
   "metadata": {
    "collapsed": false
   },
   "outputs": [
    {
     "name": "stdout",
     "output_type": "stream",
     "text": [
      "Base.linrange(start, end, length)\n",
      "\n",
      "   Construct a range by length, given a starting and ending value.\n"
     ]
    }
   ],
   "source": [
    "?linrange"
   ]
  },
  {
   "cell_type": "code",
   "execution_count": 42,
   "metadata": {
    "collapsed": false
   },
   "outputs": [
    {
     "data": {
      "text/plain": [
       "1.0:0.45:10.0"
      ]
     },
     "execution_count": 42,
     "metadata": {},
     "output_type": "execute_result"
    }
   ],
   "source": [
    "linrange(1, 10, 21)"
   ]
  },
  {
   "cell_type": "code",
   "execution_count": null,
   "metadata": {
    "collapsed": true
   },
   "outputs": [],
   "source": []
  }
 ],
 "metadata": {
  "kernelspec": {
   "display_name": "Julia 0.3.11-pre",
   "language": "julia",
   "name": "julia-0.3"
  },
  "language_info": {
   "name": "julia",
   "version": "0.3.12"
  }
 },
 "nbformat": 4,
 "nbformat_minor": 0
}
